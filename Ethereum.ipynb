{
 "cells": [
  {
   "cell_type": "markdown",
   "metadata": {},
   "source": [
    "# Ethereum and ERC20 derivation and transaction manual"
   ]
  },
  {
   "cell_type": "code",
   "execution_count": 1,
   "metadata": {},
   "outputs": [],
   "source": [
    "from web3 import Web3, middleware\n",
    "from web3.gas_strategies.time_based import fast_gas_price_strategy\n",
    "\n",
    "from crypto_eth import HDPrivateKey, HDKey\n",
    "import binascii"
   ]
  },
  {
   "cell_type": "markdown",
   "metadata": {},
   "source": [
    "## Direvation"
   ]
  },
  {
   "cell_type": "code",
   "execution_count": 3,
   "metadata": {},
   "outputs": [
    {
     "name": "stdout",
     "output_type": "stream",
     "text": [
      "Index 0:\n",
      "\tPrivate key (hex, compressed): 396f7f85659d2b43ef05f7abc80586aa3989e8ef7218433350ddd5945f7f9008\n",
      "\tAddress: 0x88a007ec4f1819f24c0988fc9c26496b99b436d1\n",
      "Index 1:\n",
      "\tPrivate key (hex, compressed): 7f31b8e44f7cdf90959ac38f412698640ed4113414e4c0bf074cb3aee9cec72a\n",
      "\tAddress: 0xab33d517b6a63a0b1c099b8438d6641cf1a984cc\n",
      "Index 2:\n",
      "\tPrivate key (hex, compressed): 49edccc09e07e63daf689fd808886837f18cfb87900f5957afea0f633d73c2f8\n",
      "\tAddress: 0xb76d3a5d568f339411a6f0697694cddb6396df58\n",
      "Index 3:\n",
      "\tPrivate key (hex, compressed): 015e90cb0d2f1bebfee8248c1991e13478aaf68279bbd8d7eee839c55f8499b5\n",
      "\tAddress: 0xcb64cd644d24b57a96287f61dffeb402b01e23c6\n",
      "Index 4:\n",
      "\tPrivate key (hex, compressed): 4752f5feb87ff6431567443ef4243f2d011721f0ed76ce0ef274ca3180aabbfd\n",
      "\tAddress: 0x8396738b4cb2a2a7ca636161346a7cb22ee06e25\n",
      "Index 5:\n",
      "\tPrivate key (hex, compressed): 857fdcbcfe1bd3620a699b6251bd37e9b0bb9b0ccb3fd570b0beb9a90133344f\n",
      "\tAddress: 0xbd666c0ec86628475b1602aba0ebf45570a33d4d\n",
      "Index 6:\n",
      "\tPrivate key (hex, compressed): 025fed91b4737822d9d89e20fa86847dda3b976ca7d2c7b0649404b2a1869fc0\n",
      "\tAddress: 0x46ff31e07d54a28c468c300325afcdac4c6b7f2e\n",
      "Index 7:\n",
      "\tPrivate key (hex, compressed): 2bac035300dd68e9a7101a7a02567df90dd0d8c5ae8b02a0e9f6bf6a29101ed9\n",
      "\tAddress: 0x44874a7d255df37f5b9c91d173bee6ab4441c881\n",
      "Index 8:\n",
      "\tPrivate key (hex, compressed): c32b89ffede10c370250099f6662aab21c21f09507f98e7d02bb2bd205471e89\n",
      "\tAddress: 0x9a2c78cad9e6c0dc46820c37704065bb22e5eab0\n",
      "Index 9:\n",
      "\tPrivate key (hex, compressed): 6ca6c8f582b691f43b0e87c8249d6b1f849e3547d5226f176b2594a6aa0244f6\n",
      "\tAddress: 0x577c31aad54366e7f8cf931a804f409d20b6928c\n"
     ]
    }
   ],
   "source": [
    "master_key = HDPrivateKey.master_key_from_mnemonic(\n",
    "    'trade icon company use feature fee order double inhale gift news long')\n",
    "root_keys = HDKey.from_path(master_key, \"m/44'/60'/0'\")\n",
    "acct_priv_key = root_keys[-1]\n",
    "private_keys = []\n",
    "\n",
    "# derivation example for Ethereum generate first 10 addresses\n",
    "for i in range(10):\n",
    "    keys = HDKey.from_path(acct_priv_key, '{change}/{index}'.format(change=0, index=i))\n",
    "    private_key = keys[-1]\n",
    "    public_key = private_key.public_key\n",
    "    private_keys.append(private_key)\n",
    "    print(f'Index {i}:')\n",
    "    print(f'\\tPrivate key (hex, compressed): {private_key._key.to_hex()}')\n",
    "    print(f'\\tAddress: {private_key.public_key.address()}')"
   ]
  },
  {
   "cell_type": "markdown",
   "metadata": {},
   "source": [
    "## Ethereum transction\n",
    "### Setup Web3"
   ]
  },
  {
   "cell_type": "code",
   "execution_count": 5,
   "metadata": {},
   "outputs": [],
   "source": [
    "# use infura endpoint\n",
    "# endpoint_url = 'wss://ropsten.infura.io/ws/adc06f70568e46d88376a8a3a30e5497'\n",
    "endpoint_url = 'https://ropsten.infura.io/v3/adc06f70568e46d88376a8a3a30e5497'\n",
    "\n",
    "# Ropsten chainId is 3\n",
    "chainId = 3\n",
    "\n",
    "# setup connection\n",
    "w3 = Web3(Web3.HTTPProvider(endpoint_url))\n",
    "if not w3.isConnected():\n",
    "    print('Can\\'t connect to Web3 endpoint')\n",
    "\n",
    "# select gas price strategy\n",
    "w3.eth.setGasPriceStrategy(fast_gas_price_strategy)\n",
    "\n",
    "w3.middleware_onion.add(middleware.time_based_cache_middleware)\n",
    "w3.middleware_onion.add(middleware.latest_block_based_cache_middleware)\n",
    "w3.middleware_onion.add(middleware.simple_cache_middleware)"
   ]
  },
  {
   "cell_type": "markdown",
   "metadata": {},
   "source": [
    "### Get last block"
   ]
  },
  {
   "cell_type": "code",
   "execution_count": 6,
   "metadata": {},
   "outputs": [
    {
     "name": "stdout",
     "output_type": "stream",
     "text": [
      "Current block: AttributeDict({'difficulty': 3914584447, 'extraData': HexBytes('0xd983010906846765746889676f312e31312e3133856c696e7578'), 'gasLimit': 8000000, 'gasUsed': 208966, 'hash': HexBytes('0x590b7020a48057ed8b2ce95c4a112d1f6d211776bc09a2aed2ac18d6b8d5a75b'), 'logsBloom': HexBytes('0x00000000000000000000000000000000000000000000000000000000000000000000000000000000000000000000000000000000000000000000000000000000000000000000000000020000000000000000000000000000000000000000040000000000000000000000000000000000000000000000000000000040000000000000000000000800000000000000000000000000000000000000000000000000000000000000000000000000000000000000000000000000000000000000000000000000000000000000000000000000000000000000000000000000000000000000000000000000000000800000020000000000000000000000000000000000'), 'miner': '0x4CCfB3039b78d3938588157564c9AD559bAfAB94', 'mixHash': HexBytes('0xc1dc846fc6de9e1f32562b01685b746a93cf0ff5c713c9cd2cad95df3d85fd85'), 'nonce': HexBytes('0x491f293803d7d391'), 'number': 6891730, 'parentHash': HexBytes('0xf1a6b7d85f2a7f07223213dc54b6ea60caf10caabddb8b912e52bbab4fcd2d70'), 'receiptsRoot': HexBytes('0x53a6ca4ddbbc80b547d984d595a1fddc412adf59f845d55dee99e7b12a9dad9f'), 'sha3Uncles': HexBytes('0x1dcc4de8dec75d7aab85b567b6ccd41ad312451b948a7413f0a142fd40d49347'), 'size': 1505, 'stateRoot': HexBytes('0xf692633b393bd6132cd721877c4975026c1549d396269e510138a75ff7501900'), 'timestamp': 1575320848, 'totalDifficulty': 28842896754758580, 'transactions': [HexBytes('0x5ed8205924a22a693ce5dcfd99fd2077e276bdc44ceb0926bd9f84e62d6f4d7a'), HexBytes('0x2bda800c7119234dfa974cb3ae488f601bbbc303c0fc0758bd65926ddfc64550'), HexBytes('0x71cfb3501af64a45097d53d2ef3ae952558e7f965e84a32346fd20d5911d8f7c'), HexBytes('0xe5dc55373491e8c92456b67aa96a048b9c13baadb85f3b0815c41d3a29f382bc'), HexBytes('0x58da009095197b1f63040364fcbbbc35df41a26f611174a01f26841ff3dab643'), HexBytes('0x3fd8040c61aa5f13a4214ab42c05c1a47edcb5a4ced798a234f87fdd2511b67f'), HexBytes('0x088ee38236ed22c884400e204e3d5ad1e93ffb4d4221a4dfe822b6aba423eb34')], 'transactionsRoot': HexBytes('0x3c4590edaaea7bfbb65559c263ac8cebf99f98facbe006daf05834744d6b0547'), 'uncles': []})\n"
     ]
    }
   ],
   "source": [
    "block = w3.eth.getBlock('latest')\n",
    "print(f'Current block: {block}')"
   ]
  },
  {
   "cell_type": "markdown",
   "metadata": {},
   "source": [
    "### Prepare accounts"
   ]
  },
  {
   "cell_type": "code",
   "execution_count": 7,
   "metadata": {},
   "outputs": [],
   "source": [
    "# take first two accounts as from and to\n",
    "from_address = w3.toChecksumAddress(private_keys[0].public_key.address())\n",
    "from_private_key = private_keys[0]._key.to_hex()\n",
    "\n",
    "to_address = w3.toChecksumAddress(private_keys[1].public_key.address())\n",
    "to_private_key = private_keys[1]._key.to_hex()"
   ]
  },
  {
   "cell_type": "code",
   "execution_count": null,
   "metadata": {},
   "outputs": [],
   "source": []
  },
  {
   "cell_type": "code",
   "execution_count": null,
   "metadata": {},
   "outputs": [],
   "source": []
  },
  {
   "cell_type": "code",
   "execution_count": null,
   "metadata": {},
   "outputs": [],
   "source": []
  },
  {
   "cell_type": "markdown",
   "metadata": {},
   "source": [
    "### Send Ethereum"
   ]
  },
  {
   "cell_type": "code",
   "execution_count": 11,
   "metadata": {},
   "outputs": [
    {
     "name": "stdout",
     "output_type": "stream",
     "text": [
      "Signed transaction: b'f8688203f4844aa797c382520894ab33d517b6a63a0b1c099b8438d6641cf1a984cc83030d408029a031396762305677c6cdf324d3c50d3b939d7c4102930ff97d7d696ae188ebc317a036a8d66c4be95dddb14d41b90d8bbc25017acb927da5df3764085e91bde01b65'\n",
      "Transaction hash: b\"q\\xc2.\\xc2\\xb0\\xbc\\x83\\xdf\\x18\\xd1\\x9a\\x1a\\x98\\xd0Y \\x13'QY\\xdbY\\xe0\\xdb\\x7f{\\x97\\x1c\\xb4\\xf0u\\xe1\"\n"
     ]
    }
   ],
   "source": [
    "# fetching nonce (count of transactions)\n",
    "nonce = w3.eth.getTransactionCount(from_address)\n",
    "\n",
    "transaction = {\n",
    "    'to': to_address,\n",
    "    'value': 200_000, # 0.0000000000002 Ether\n",
    "    'gas': 21_000,\n",
    "    'gasPrice': w3.eth.generateGasPrice(),\n",
    "    'nonce': nonce,\n",
    "    'chainId': chainId\n",
    "}\n",
    "\n",
    "signed = w3.eth.account.sign_transaction(transaction, from_private_key)\n",
    "\n",
    "print(f'Signed transaction: {binascii.b2a_hex(signed.rawTransaction)}')\n",
    "\n",
    "transaction_hash = w3.eth.sendRawTransaction(signed.rawTransaction)\n",
    "\n",
    "print(f'Transaction hash: {transaction_hash}')"
   ]
  },
  {
   "cell_type": "markdown",
   "metadata": {},
   "source": [
    "### Ethereum balance"
   ]
  },
  {
   "cell_type": "code",
   "execution_count": 16,
   "metadata": {
    "scrolled": true
   },
   "outputs": [
    {
     "name": "stdout",
     "output_type": "stream",
     "text": [
      " from_address balance: 1.008429215369994551\n",
      " to_address balance: 1.002326564527503776\n"
     ]
    }
   ],
   "source": [
    "print(f\" from_address balance: {w3.fromWei(w3.eth.getBalance(from_address), 'ether')}\")\n",
    "print(f\" to_address balance: {w3.fromWei(w3.eth.getBalance(to_address), 'ether')}\")"
   ]
  },
  {
   "cell_type": "markdown",
   "metadata": {},
   "source": [
    "### Send ERC20"
   ]
  },
  {
   "cell_type": "code",
   "execution_count": 8,
   "metadata": {},
   "outputs": [
    {
     "name": "stdout",
     "output_type": "stream",
     "text": [
      "[\n",
      "    {\n",
      "        \"constant\": true,\n",
      "        \"inputs\": [],\n",
      "        \"name\": \"name\",\n",
      "        \"outputs\": [\n",
      "            {\n",
      "                \"name\": \"\",\n",
      "                \"type\": \"string\"\n",
      "            }\n",
      "        ],\n",
      "        \"payable\": false,\n",
      "        \"stateMutability\": \"view\",\n",
      "        \"type\": \"function\"\n",
      "    },\n",
      "    {\n",
      "        \"constant\": false,\n",
      "        \"inputs\": [\n",
      "            {\n",
      "                \"name\": \"_spender\",\n",
      "                \"type\": \"address\"\n",
      "            },\n",
      "            {\n",
      "                \"name\": \"_value\",\n",
      "                \"type\": \"uint256\"\n",
      "            }\n",
      "        ],\n",
      "        \"name\": \"approve\",\n",
      "        \"outputs\": [\n",
      "            {\n",
      "                \"name\": \"\",\n",
      "                \"type\": \"bool\"\n",
      "            }\n",
      "        ],\n",
      "        \"payable\": false,\n",
      "        \"stateMutability\": \"nonpayable\",\n",
      "        \"type\": \"function\"\n",
      "    },\n",
      "    {\n",
      "        \"constant\": true,\n",
      "        \"inputs\": [],\n",
      "        \"name\": \"totalSupply\",\n",
      "        \"outputs\": [\n",
      "            {\n",
      "                \"name\": \"\",\n",
      "                \"type\": \"uint256\"\n",
      "            }\n",
      "        ],\n",
      "        \"payable\": false,\n",
      "        \"stateMutability\": \"view\",\n",
      "        \"type\": \"function\"\n",
      "    },\n",
      "    {\n",
      "        \"constant\": false,\n",
      "        \"inputs\": [\n",
      "            {\n",
      "                \"name\": \"_from\",\n",
      "                \"type\": \"address\"\n",
      "            },\n",
      "            {\n",
      "                \"name\": \"_to\",\n",
      "                \"type\": \"address\"\n",
      "            },\n",
      "            {\n",
      "                \"name\": \"_value\",\n",
      "                \"type\": \"uint256\"\n",
      "            }\n",
      "        ],\n",
      "        \"name\": \"transferFrom\",\n",
      "        \"outputs\": [\n",
      "            {\n",
      "                \"name\": \"\",\n",
      "                \"type\": \"bool\"\n",
      "            }\n",
      "        ],\n",
      "        \"payable\": false,\n",
      "        \"stateMutability\": \"nonpayable\",\n",
      "        \"type\": \"function\"\n",
      "    },\n",
      "    {\n",
      "        \"constant\": true,\n",
      "        \"inputs\": [],\n",
      "        \"name\": \"decimals\",\n",
      "        \"outputs\": [\n",
      "            {\n",
      "                \"name\": \"\",\n",
      "                \"type\": \"uint8\"\n",
      "            }\n",
      "        ],\n",
      "        \"payable\": false,\n",
      "        \"stateMutability\": \"view\",\n",
      "        \"type\": \"function\"\n",
      "    },\n",
      "    {\n",
      "        \"constant\": true,\n",
      "        \"inputs\": [\n",
      "            {\n",
      "                \"name\": \"_owner\",\n",
      "                \"type\": \"address\"\n",
      "            }\n",
      "        ],\n",
      "        \"name\": \"balanceOf\",\n",
      "        \"outputs\": [\n",
      "            {\n",
      "                \"name\": \"balance\",\n",
      "                \"type\": \"uint256\"\n",
      "            }\n",
      "        ],\n",
      "        \"payable\": false,\n",
      "        \"stateMutability\": \"view\",\n",
      "        \"type\": \"function\"\n",
      "    },\n",
      "    {\n",
      "        \"constant\": true,\n",
      "        \"inputs\": [],\n",
      "        \"name\": \"symbol\",\n",
      "        \"outputs\": [\n",
      "            {\n",
      "                \"name\": \"\",\n",
      "                \"type\": \"string\"\n",
      "            }\n",
      "        ],\n",
      "        \"payable\": false,\n",
      "        \"stateMutability\": \"view\",\n",
      "        \"type\": \"function\"\n",
      "    },\n",
      "    {\n",
      "        \"constant\": false,\n",
      "        \"inputs\": [\n",
      "            {\n",
      "                \"name\": \"_to\",\n",
      "                \"type\": \"address\"\n",
      "            },\n",
      "            {\n",
      "                \"name\": \"_value\",\n",
      "                \"type\": \"uint256\"\n",
      "            }\n",
      "        ],\n",
      "        \"name\": \"transfer\",\n",
      "        \"outputs\": [\n",
      "            {\n",
      "                \"name\": \"\",\n",
      "                \"type\": \"bool\"\n",
      "            }\n",
      "        ],\n",
      "        \"payable\": false,\n",
      "        \"stateMutability\": \"nonpayable\",\n",
      "        \"type\": \"function\"\n",
      "    },\n",
      "    {\n",
      "        \"constant\": true,\n",
      "        \"inputs\": [\n",
      "            {\n",
      "                \"name\": \"_owner\",\n",
      "                \"type\": \"address\"\n",
      "            },\n",
      "            {\n",
      "                \"name\": \"_spender\",\n",
      "                \"type\": \"address\"\n",
      "            }\n",
      "        ],\n",
      "        \"name\": \"allowance\",\n",
      "        \"outputs\": [\n",
      "            {\n",
      "                \"name\": \"\",\n",
      "                \"type\": \"uint256\"\n",
      "            }\n",
      "        ],\n",
      "        \"payable\": false,\n",
      "        \"stateMutability\": \"view\",\n",
      "        \"type\": \"function\"\n",
      "    },\n",
      "    {\n",
      "        \"payable\": true,\n",
      "        \"stateMutability\": \"payable\",\n",
      "        \"type\": \"fallback\"\n",
      "    },\n",
      "    {\n",
      "        \"anonymous\": false,\n",
      "        \"inputs\": [\n",
      "            {\n",
      "                \"indexed\": true,\n",
      "                \"name\": \"owner\",\n",
      "                \"type\": \"address\"\n",
      "            },\n",
      "            {\n",
      "                \"indexed\": true,\n",
      "                \"name\": \"spender\",\n",
      "                \"type\": \"address\"\n",
      "            },\n",
      "            {\n",
      "                \"indexed\": false,\n",
      "                \"name\": \"value\",\n",
      "                \"type\": \"uint256\"\n",
      "            }\n",
      "        ],\n",
      "        \"name\": \"Approval\",\n",
      "        \"type\": \"event\"\n",
      "    },\n",
      "    {\n",
      "        \"anonymous\": false,\n",
      "        \"inputs\": [\n",
      "            {\n",
      "                \"indexed\": true,\n",
      "                \"name\": \"from\",\n",
      "                \"type\": \"address\"\n",
      "            },\n",
      "            {\n",
      "                \"indexed\": true,\n",
      "                \"name\": \"to\",\n",
      "                \"type\": \"address\"\n",
      "            },\n",
      "            {\n",
      "                \"indexed\": false,\n",
      "                \"name\": \"value\",\n",
      "                \"type\": \"uint256\"\n",
      "            }\n",
      "        ],\n",
      "        \"name\": \"Transfer\",\n",
      "        \"type\": \"event\"\n",
      "    }\n",
      "]\n"
     ]
    }
   ],
   "source": [
    "# read abi for ERC20 contract\n",
    "with open('erc20_abi.json', 'r') as file:\n",
    "    erc20_abi = file.read()\n",
    "    \n",
    "print(erc20_abi)"
   ]
  },
  {
   "cell_type": "code",
   "execution_count": 10,
   "metadata": {},
   "outputs": [
    {
     "name": "stdout",
     "output_type": "stream",
     "text": [
      "{'value': 0, 'chainId': 3, 'gas': 100000, 'gasPrice': 1238787536, 'nonce': 1012, 'to': '0x96f55B7d683EB46FF23aBEf2aFb41EB54FCF524b', 'data': '0xa9059cbb00000000000000000000000096f55b7d683eb46ff23abef2afb41eb54fcf524b0000000000000000000000000000000000000000000000000000000000000001'}\n"
     ]
    }
   ],
   "source": [
    "# Another Test Coin (ATC) ERC20\n",
    "erc20_contract_address = \"0x96f55B7d683EB46FF23aBEf2aFb41EB54FCF524b\"\n",
    "erc20_contract = w3.eth.contract(address=erc20_contract_address, abi=erc20_abi)\n",
    "\n",
    "# fetching nonce (count of transactions)\n",
    "nonce = w3.eth.getTransactionCount(from_address)\n",
    "\n",
    "erc20_transaction = erc20_contract.functions.transfer(erc20_contract_address, 1).buildTransaction(\n",
    "    {\n",
    "        'chainId': chainId,\n",
    "        'gas': 100_000,\n",
    "        'gasPrice': w3.eth.generateGasPrice(),\n",
    "        'nonce': nonce,\n",
    "    })\n",
    "\n",
    "w3.eth.generateGasPrice()\n",
    "\n",
    "print(erc20_transaction)"
   ]
  },
  {
   "cell_type": "markdown",
   "metadata": {},
   "source": [
    "### ERC20 balance"
   ]
  },
  {
   "cell_type": "code",
   "execution_count": 21,
   "metadata": {},
   "outputs": [
    {
     "name": "stdout",
     "output_type": "stream",
     "text": [
      " from_address balance: 6689.27329999\n",
      " to_address balance: 179.31569617\n"
     ]
    }
   ],
   "source": [
    "decimals = 10 ** erc20_contract.functions.decimals().call()\n",
    "from_address_erc20_balance = erc20_contract.functions.balanceOf(from_address).call()\n",
    "to_address_erc20_balance = erc20_contract.functions.balanceOf(to_address).call()\n",
    "\n",
    "\n",
    "print(f\" from_address balance: {from_address_erc20_balance / decimals}\")\n",
    "print(f\" to_address balance: {to_address_erc20_balance / decimals}\")"
   ]
  }
 ],
 "metadata": {
  "kernelspec": {
   "display_name": "my-virtualenv-name",
   "language": "python",
   "name": "my-virtualenv-name"
  },
  "language_info": {
   "codemirror_mode": {
    "name": "ipython",
    "version": 3
   },
   "file_extension": ".py",
   "mimetype": "text/x-python",
   "name": "python",
   "nbconvert_exporter": "python",
   "pygments_lexer": "ipython3",
   "version": "3.7.4"
  }
 },
 "nbformat": 4,
 "nbformat_minor": 2
}
