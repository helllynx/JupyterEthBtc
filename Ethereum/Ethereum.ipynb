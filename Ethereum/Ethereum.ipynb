{
 "cells": [
  {
   "cell_type": "markdown",
   "metadata": {},
   "source": [
    "# Ethereum and ERC20 derivation and transaction manual"
   ]
  },
  {
   "cell_type": "code",
   "execution_count": 1,
   "metadata": {},
   "outputs": [],
   "source": [
    "from web3 import Web3, middleware\n",
    "from web3.gas_strategies.time_based import fast_gas_price_strategy\n",
    "\n",
    "from crypto_eth import HDPrivateKey, HDKey\n",
    "\n",
    "from binascii import hexlify\n",
    "\n",
    "import pandas as pd\n",
    "\n",
    "from IPython.display import display\n",
    "from ipywidgets import widgets, Layout"
   ]
  },
  {
   "cell_type": "code",
   "execution_count": 2,
   "metadata": {},
   "outputs": [
    {
     "data": {
      "application/vnd.jupyter.widget-view+json": {
       "model_id": "0bda7e2a6a50488e943d6a7d25c55930",
       "version_major": 2,
       "version_minor": 0
      },
      "text/plain": [
       "Text(value='', description='Phrase:', layout=Layout(width='70%'))"
      ]
     },
     "metadata": {},
     "output_type": "display_data"
    }
   ],
   "source": [
    "phrase = \"\"\n",
    "\n",
    "text = widgets.Text(\n",
    "    description='Phrase:',\n",
    "    layout=Layout(width=\"70%\")\n",
    ")\n",
    "display(text)\n",
    "\n",
    "def handle(sender):\n",
    "    global phrase\n",
    "    phrase = text.value\n",
    "    text.value =\"\"\n",
    "    \n",
    "text.on_submit(handle)"
   ]
  },
  {
   "cell_type": "markdown",
   "metadata": {},
   "source": [
    "## Derivation"
   ]
  },
  {
   "cell_type": "code",
   "execution_count": 5,
   "metadata": {},
   "outputs": [
    {
     "data": {
      "text/html": [
       "<div>\n",
       "<style scoped>\n",
       "    .dataframe tbody tr th:only-of-type {\n",
       "        vertical-align: middle;\n",
       "    }\n",
       "\n",
       "    .dataframe tbody tr th {\n",
       "        vertical-align: top;\n",
       "    }\n",
       "\n",
       "    .dataframe thead th {\n",
       "        text-align: right;\n",
       "    }\n",
       "</style>\n",
       "<table border=\"1\" class=\"dataframe\">\n",
       "  <thead>\n",
       "    <tr style=\"text-align: right;\">\n",
       "      <th></th>\n",
       "      <th>Address</th>\n",
       "    </tr>\n",
       "  </thead>\n",
       "  <tbody>\n",
       "    <tr>\n",
       "      <th>0</th>\n",
       "      <td>0x88a007ec4f1819f24c0988fc9c26496b99b436d1</td>\n",
       "    </tr>\n",
       "    <tr>\n",
       "      <th>1</th>\n",
       "      <td>0xab33d517b6a63a0b1c099b8438d6641cf1a984cc</td>\n",
       "    </tr>\n",
       "    <tr>\n",
       "      <th>2</th>\n",
       "      <td>0xb76d3a5d568f339411a6f0697694cddb6396df58</td>\n",
       "    </tr>\n",
       "    <tr>\n",
       "      <th>3</th>\n",
       "      <td>0xcb64cd644d24b57a96287f61dffeb402b01e23c6</td>\n",
       "    </tr>\n",
       "    <tr>\n",
       "      <th>4</th>\n",
       "      <td>0x8396738b4cb2a2a7ca636161346a7cb22ee06e25</td>\n",
       "    </tr>\n",
       "    <tr>\n",
       "      <th>5</th>\n",
       "      <td>0xbd666c0ec86628475b1602aba0ebf45570a33d4d</td>\n",
       "    </tr>\n",
       "    <tr>\n",
       "      <th>6</th>\n",
       "      <td>0x46ff31e07d54a28c468c300325afcdac4c6b7f2e</td>\n",
       "    </tr>\n",
       "    <tr>\n",
       "      <th>7</th>\n",
       "      <td>0x44874a7d255df37f5b9c91d173bee6ab4441c881</td>\n",
       "    </tr>\n",
       "    <tr>\n",
       "      <th>8</th>\n",
       "      <td>0x9a2c78cad9e6c0dc46820c37704065bb22e5eab0</td>\n",
       "    </tr>\n",
       "    <tr>\n",
       "      <th>9</th>\n",
       "      <td>0x577c31aad54366e7f8cf931a804f409d20b6928c</td>\n",
       "    </tr>\n",
       "  </tbody>\n",
       "</table>\n",
       "</div>"
      ],
      "text/plain": [
       "                                      Address\n",
       "0  0x88a007ec4f1819f24c0988fc9c26496b99b436d1\n",
       "1  0xab33d517b6a63a0b1c099b8438d6641cf1a984cc\n",
       "2  0xb76d3a5d568f339411a6f0697694cddb6396df58\n",
       "3  0xcb64cd644d24b57a96287f61dffeb402b01e23c6\n",
       "4  0x8396738b4cb2a2a7ca636161346a7cb22ee06e25\n",
       "5  0xbd666c0ec86628475b1602aba0ebf45570a33d4d\n",
       "6  0x46ff31e07d54a28c468c300325afcdac4c6b7f2e\n",
       "7  0x44874a7d255df37f5b9c91d173bee6ab4441c881\n",
       "8  0x9a2c78cad9e6c0dc46820c37704065bb22e5eab0\n",
       "9  0x577c31aad54366e7f8cf931a804f409d20b6928c"
      ]
     },
     "execution_count": 5,
     "metadata": {},
     "output_type": "execute_result"
    }
   ],
   "source": [
    "master_key = HDPrivateKey.master_key_from_mnemonic(phrase)\n",
    "\n",
    "del phrase\n",
    "\n",
    "root_keys = HDKey.from_path(master_key, \"m/44'/60'/0'\")\n",
    "acct_priv_key = root_keys[-1]\n",
    "private_keys = []\n",
    "addresses = []\n",
    "\n",
    "# derivation example for Ethereum generate first 10 addresses\n",
    "for i in range(10):\n",
    "    keys = HDKey.from_path(acct_priv_key, '{change}/{index}'.format(change=0, index=i))\n",
    "    private_key = keys[-1]\n",
    "    public_key = private_key.public_key\n",
    "    private_keys.append(private_key._key.to_hex())\n",
    "    addresses.append(private_key.public_key.address())\n",
    "    \n",
    "\n",
    "df = pd.DataFrame(addresses, columns = ['Address']) \n",
    "\n",
    "df"
   ]
  },
  {
   "cell_type": "markdown",
   "metadata": {},
   "source": [
    "## Ethereum transction\n",
    "### Setup Web3"
   ]
  },
  {
   "cell_type": "code",
   "execution_count": 3,
   "metadata": {},
   "outputs": [],
   "source": [
    "# use infura endpoint\n",
    "# endpoint_url = 'wss://ropsten.infura.io/ws/adc06f70568e46d88376a8a3a30e5497'\n",
    "endpoint_url = 'https://ropsten.infura.io/v3/adc06f70568e46d88376a8a3a30e5497'\n",
    "\n",
    "# Ropsten chainId is 3\n",
    "chainId = 3\n",
    "\n",
    "# setup connection\n",
    "w3 = Web3(Web3.HTTPProvider(endpoint_url))\n",
    "if not w3.isConnected():\n",
    "    print('Can\\'t connect to Web3 endpoint')\n",
    "\n",
    "# select gas price strategy\n",
    "w3.eth.setGasPriceStrategy(fast_gas_price_strategy)"
   ]
  },
  {
   "cell_type": "markdown",
   "metadata": {},
   "source": [
    "### Get last block"
   ]
  },
  {
   "cell_type": "code",
   "execution_count": 4,
   "metadata": {},
   "outputs": [
    {
     "name": "stdout",
     "output_type": "stream",
     "text": [
      "Current block: AttributeDict({'difficulty': 2473520557, 'extraData': HexBytes('0xd983010906846765746889676f312e31312e3133856c696e7578'), 'gasLimit': 8000000, 'gasUsed': 7986699, 'hash': HexBytes('0x2a482798be9e3c19ced99fb32d9aba21a974ea86f51036177b56861ea523cd9d'), 'logsBloom': HexBytes('0x041080a40000030200000000004246000008010210810000c00000201204010100240a400000000000040040004800000000000002002008002000020014000010400000048030e010000008400300540010500000040a38000622000020008800001000420000004080000014010a008000402011020a08008180100a0000100300000000000080000000000000201020049420410000848000000000400060000800030000000001800100018000000800400000802008000000108001604200947002c00008000400020000900028082000000000002800254100500260000288244080090082410000000100000080808040008108200880801210400008'), 'miner': '0x4CCfB3039b78d3938588157564c9AD559bAfAB94', 'mixHash': HexBytes('0x7b620f67b24cec870da0dab5043529df681bea277105f408984814e20b713278'), 'nonce': HexBytes('0x409188f403e6b79b'), 'number': 6978051, 'parentHash': HexBytes('0x48f53663eb74e809bb70fbb67ca2a3b46f5246cfc764219461c8a06e52adfbfe'), 'receiptsRoot': HexBytes('0x57dbb93023d06eab62568f357ebb1b3ec50c9d5e7200880dc4d2d3214b55ae88'), 'sha3Uncles': HexBytes('0x1dcc4de8dec75d7aab85b567b6ccd41ad312451b948a7413f0a142fd40d49347'), 'size': 10709, 'stateRoot': HexBytes('0x16388a444fbae8c5bc06ea802ea7b03ea90437ffa54d32d4abed4a2e9ec9176f'), 'timestamp': 1576504190, 'totalDifficulty': 29501401160539518, 'transactions': [HexBytes('0x3313255f1cd3fa49ccd005ca62531cc78f1f94bccec187796f6aef704ef2eec5'), HexBytes('0x19527cede26a2a93bca0bbeca672528cb147f48847661ae5ca1b60dc5c56f7db'), HexBytes('0x8d96764860bf6da2c4fda75b65112883d998787bc16ee4bda59785455f30a39d'), HexBytes('0x046bed5d2b7ac86cbefb6cceef2ad7bed5e7239a80498f3899fb0f5909f5baaa'), HexBytes('0x19300aa2a59e02a9cce491f0b7b6d3ecadf961b68451de915fe88c250186c55f'), HexBytes('0x9ebc2ffdf8489fc29dc6ff268b55c5d9ea3bebceb9695179ad88cee0c6e19265'), HexBytes('0x49057db8a6a481aac375692caf788ac050cd0cf00e4b91cdad65c75797d6b23b'), HexBytes('0x744bfedc214b1b243ec17617a2dfb4a296d02afc2945f6f043a47a658d81b2fc'), HexBytes('0x22c808274be97f1b915467deda9d2b08a9a329e67e451aac6dea2f4d9c6aeba8'), HexBytes('0xe010ff421d25f5fec1aa6f89d9a87d631b35838345eeaf6535e235d8027a2522'), HexBytes('0xcaa06b58bc46682dfd49ad7ad9ee2dbe24a400d537755bdda0497961be532b2c'), HexBytes('0xbd6b212a3ef99731553164e20023ec44e71dcea11d7eabdcffd23cee803a138b'), HexBytes('0x6362acdc24ec0219cddea2b96bbcd802758570e043d03fbb42e57675fbf74cf2'), HexBytes('0xdc7209fc0e7a7c1518c752cfc6294ca618bf8d6748774ada995e935e815d7fd7'), HexBytes('0xd034805ce22ee82fd5251acf51a393d8560feaaf5a433b4eb5880578b58ea87c'), HexBytes('0x58e0ed178203f0a43936ba9424d47597fb3f47770dabfb27f619fbd09a13e60f'), HexBytes('0x3d4e70db918e54276b5508a710fe4b53f264e80a2c9e5561110a6dcf0e4d0feb'), HexBytes('0x634fe79d9605a2d51327a5ff43b7774181126296d262ec3cb6861bb33dfe662d'), HexBytes('0x6cb695f00040cb8906c9a58baf72d86864c34bb7271ee902954752172073f7a6'), HexBytes('0xe238e68bce45b24b206572ea2efe68e85ed9cb421c2a61ec94eedf7e572da39b'), HexBytes('0xbd4310d9c36cb0b5434aebe56bd033be73f9993a04c8a1fdb8953c2776cd75f1'), HexBytes('0xe90058812eec8eda92384e4743ec44b3c442b5c50ecf11fc9859c5ea2fcd124b'), HexBytes('0x1a5f49b11cc3a26d0feec9a245bf5e894a3e709b48db8faee79450a9ff7807d2'), HexBytes('0x6633f9888a886849408f8f244e0a4c143bd6433a38cffa26f72fd1f4f0d10ba3'), HexBytes('0x3b4bf1e302a6bd3e055d05b78f5effbc9e572904c0c2d02700d5312e12bcc75f'), HexBytes('0x881d270c7054b6c47f53013f77c16912a8bed3cbfc96ff89f18d8ac002d2d9ba'), HexBytes('0x167f107b730025f0456d5ec212726b968a5788b6d710f033bbe55d35ba18df66'), HexBytes('0x45bf5d4524bf75f4e16ad41c5a5f909d7c074523d9b09b34525cccbe0c001897'), HexBytes('0xd27182ce4aa054caec0f460c4abf375f4748a1b66de3e67ffb5aa5d71801ea53'), HexBytes('0xf21ed71110994dfaaa145cf689c7ed1272a10de5b85d14c2c49de9ccc3f564eb'), HexBytes('0xffa2fe1f8338706a89015e8588d6b36b3a9520c6f621c119410c71a6ca77ccb0'), HexBytes('0xa2590b19713ae724aede32d63f9742d10312b3d46924aef7d30480f149ba1e6d'), HexBytes('0xf3cbcd5aef169410e5ef53be702a47acd5b7266a77f6ee385745a6e8c16debe9'), HexBytes('0x2aa0a648d8fd924df274bb6585241a3ba710e5090b2fabc76f182b11799162c2'), HexBytes('0x57eff48c164b3e9f239a981823b9ec88855087af96c1b9779beffc937038ecae'), HexBytes('0x9b4fbf879f6faa02542751706819057d9203197380fbd749ddcc1327ed4fe4c8'), HexBytes('0x4ccc0125121f36628aaef474f84d51d86ee8df583e0671a780c9c66e62361abd'), HexBytes('0x61452789212faa22779947c352f75942846e16db8baee2e9172c74509d015495'), HexBytes('0x2d51b0865818fe231fe6ccbd1a423456af40301d149af98338d8713841ccaead'), HexBytes('0x0d4caeb2cbd447e76e2b44d55186a82d37933092e160fa4addf116d7d158d3fb'), HexBytes('0xa076cae344af43f798c54bbc15bc554f6b0b43ff4ffb03ee32d6b191df26c5b6'), HexBytes('0xfd1212e5f9b99ce1e7ca856d9dd23fb090e73fb3f6cebf7f25c38782007129ad'), HexBytes('0x2372ceb1da85555fa35eec4852985a98a3575dc8a91a1080a83d73e163065308'), HexBytes('0x4c7f78df70b0086fcee64ab453969646ff2eb6ba0b4f82f57fafb77f109632f0'), HexBytes('0xa500680733bc24245113ab3c9176a247564ea8d35ae0662fa4f9644689224fbc'), HexBytes('0x53d19dea8239da2feeaea92b68a5741cd9e8a1b4a3f7c1f863c56fc8857e85db'), HexBytes('0x0a6ac85a8b814bbfd87acf8d004555980b8d6032bffd230785b394e4b1f338d9'), HexBytes('0xfb8d583182061deef1bc9ba383952b1b60ae716b3e3dc717fc9dcae89832e0eb'), HexBytes('0xe03e7d474643254568b5c937ab322630ccdecd1b287eb3855be0c782af934797'), HexBytes('0xd0a318bd60ab05fe11bed0f7ed3509c2bd8067702fc5efe39a6f5fde7edc5c09'), HexBytes('0x64f574a7f605777f4943ec0e912d3b32d303f7c64dd6f7d0e59d50a2915e257e'), HexBytes('0x23076c08a9f4cc8201a4810004d6ac34c0e5bf2fb08fbf435c1375806c02043c')], 'transactionsRoot': HexBytes('0x94b0a34a602b0121dadbc2365fb874590c873f40155e2b0c75762e4e12806433'), 'uncles': []})\n"
     ]
    }
   ],
   "source": [
    "block = w3.eth.getBlock('latest')\n",
    "print(f'Current block: {block}')"
   ]
  },
  {
   "cell_type": "markdown",
   "metadata": {},
   "source": [
    "### Prepare accounts"
   ]
  },
  {
   "cell_type": "code",
   "execution_count": 5,
   "metadata": {},
   "outputs": [],
   "source": [
    "# take first two accounts as from and to\n",
    "from_address = w3.toChecksumAddress(private_keys[0].public_key.address())\n",
    "from_private_key = private_keys[0]._key.to_hex()\n",
    "\n",
    "to_address = w3.toChecksumAddress(private_keys[1].public_key.address())\n",
    "to_private_key = private_keys[1]._key.to_hex()"
   ]
  },
  {
   "cell_type": "markdown",
   "metadata": {},
   "source": [
    "### Send Ethereum"
   ]
  },
  {
   "cell_type": "code",
   "execution_count": 7,
   "metadata": {},
   "outputs": [
    {
     "name": "stdout",
     "output_type": "stream",
     "text": [
      "Signed transaction: b'f8688203fe845d043b0982520894ab33d517b6a63a0b1c099b8438d6641cf1a984cc83030d408029a0675b45378755960de061c23a554b47d708a50f6a7ae0ddd7bb0f18b10e2db269a00a30823cd74b9a0bbd7f7da555b4f1faa310d2fd057b0252235c1e3254f7219b'\n",
      "Transaction hash: b'fe8e10d6db6f8f10acebabcf68a9466b10485d006b16c03352637885636cc620'\n",
      "Ropsten link: https://ropsten.etherscan.io/tx/0xfe8e10d6db6f8f10acebabcf68a9466b10485d006b16c03352637885636cc620\n"
     ]
    }
   ],
   "source": [
    "# fetching nonce (count of transactions)\n",
    "nonce = w3.eth.getTransactionCount(from_address)\n",
    "\n",
    "transaction = {\n",
    "    'to': to_address,\n",
    "    'value': 200_000, # 0.0000000000002 Ether\n",
    "    'gas': 21_000,\n",
    "    'gasPrice': w3.eth.generateGasPrice(),\n",
    "    'nonce': nonce,\n",
    "    'chainId': chainId\n",
    "}\n",
    "\n",
    "signed = w3.eth.account.sign_transaction(transaction, from_private_key)\n",
    "\n",
    "print(f'Signed transaction: {hexlify(signed.rawTransaction)}')\n",
    "\n",
    "transaction_hash = w3.eth.sendRawTransaction(signed.rawTransaction)\n",
    "\n",
    "print(f'Transaction hash: {hexlify(transaction_hash)}')\n",
    "\n",
    "print(f'Ropsten link: https://ropsten.etherscan.io/tx/0x' + str(hexlify(transaction_hash), \"utf-8\"))"
   ]
  },
  {
   "cell_type": "markdown",
   "metadata": {},
   "source": [
    "### Ethereum balance"
   ]
  },
  {
   "cell_type": "code",
   "execution_count": 8,
   "metadata": {
    "scrolled": true
   },
   "outputs": [
    {
     "data": {
      "text/html": [
       "<div>\n",
       "<style scoped>\n",
       "    .dataframe tbody tr th:only-of-type {\n",
       "        vertical-align: middle;\n",
       "    }\n",
       "\n",
       "    .dataframe tbody tr th {\n",
       "        vertical-align: top;\n",
       "    }\n",
       "\n",
       "    .dataframe thead th {\n",
       "        text-align: right;\n",
       "    }\n",
       "</style>\n",
       "<table border=\"1\" class=\"dataframe\">\n",
       "  <thead>\n",
       "    <tr style=\"text-align: right;\">\n",
       "      <th></th>\n",
       "      <th>Address</th>\n",
       "      <th>Balance</th>\n",
       "    </tr>\n",
       "  </thead>\n",
       "  <tbody>\n",
       "    <tr>\n",
       "      <th>0</th>\n",
       "      <td>0x88a007eC4F1819F24C0988fc9C26496b99b436D1</td>\n",
       "      <td>2.508039966300027123</td>\n",
       "    </tr>\n",
       "    <tr>\n",
       "      <th>1</th>\n",
       "      <td>0xab33D517b6A63A0B1C099b8438D6641cF1a984cC</td>\n",
       "      <td>0.984099864528103776</td>\n",
       "    </tr>\n",
       "    <tr>\n",
       "      <th>2</th>\n",
       "      <td>0xb76d3a5D568f339411a6f0697694cDDb6396df58</td>\n",
       "      <td>2.154467975998</td>\n",
       "    </tr>\n",
       "    <tr>\n",
       "      <th>3</th>\n",
       "      <td>0xcb64cD644D24b57a96287F61DfFeb402B01E23c6</td>\n",
       "      <td>0.998700340002</td>\n",
       "    </tr>\n",
       "    <tr>\n",
       "      <th>4</th>\n",
       "      <td>0x8396738b4Cb2A2a7Ca636161346a7cB22Ee06E25</td>\n",
       "      <td>3.979769</td>\n",
       "    </tr>\n",
       "    <tr>\n",
       "      <th>5</th>\n",
       "      <td>0xBd666C0Ec86628475b1602aBA0eBF45570A33d4d</td>\n",
       "      <td>3.01</td>\n",
       "    </tr>\n",
       "    <tr>\n",
       "      <th>6</th>\n",
       "      <td>0x46FF31E07D54a28c468c300325AfcdAc4c6b7F2e</td>\n",
       "      <td>4</td>\n",
       "    </tr>\n",
       "    <tr>\n",
       "      <th>7</th>\n",
       "      <td>0x44874A7d255dF37f5b9C91d173bEE6ab4441c881</td>\n",
       "      <td>4.1</td>\n",
       "    </tr>\n",
       "    <tr>\n",
       "      <th>8</th>\n",
       "      <td>0x9a2C78cad9e6c0Dc46820C37704065bb22E5Eab0</td>\n",
       "      <td>3</td>\n",
       "    </tr>\n",
       "    <tr>\n",
       "      <th>9</th>\n",
       "      <td>0x577C31aAd54366E7F8Cf931A804F409d20B6928C</td>\n",
       "      <td>2.99948678</td>\n",
       "    </tr>\n",
       "  </tbody>\n",
       "</table>\n",
       "</div>"
      ],
      "text/plain": [
       "                                      Address               Balance\n",
       "0  0x88a007eC4F1819F24C0988fc9C26496b99b436D1  2.508039966300027123\n",
       "1  0xab33D517b6A63A0B1C099b8438D6641cF1a984cC  0.984099864528103776\n",
       "2  0xb76d3a5D568f339411a6f0697694cDDb6396df58        2.154467975998\n",
       "3  0xcb64cD644D24b57a96287F61DfFeb402B01E23c6        0.998700340002\n",
       "4  0x8396738b4Cb2A2a7Ca636161346a7cB22Ee06E25              3.979769\n",
       "5  0xBd666C0Ec86628475b1602aBA0eBF45570A33d4d                  3.01\n",
       "6  0x46FF31E07D54a28c468c300325AfcdAc4c6b7F2e                     4\n",
       "7  0x44874A7d255dF37f5b9C91d173bEE6ab4441c881                   4.1\n",
       "8  0x9a2C78cad9e6c0Dc46820C37704065bb22E5Eab0                     3\n",
       "9  0x577C31aAd54366E7F8Cf931A804F409d20B6928C            2.99948678"
      ]
     },
     "execution_count": 8,
     "metadata": {},
     "output_type": "execute_result"
    }
   ],
   "source": [
    "addresses = [w3.toChecksumAddress(key.public_key.address()) for key in private_keys]\n",
    "balances = [w3.fromWei(w3.eth.getBalance(address), 'ether') for address in addresses]\n",
    "\n",
    "df = pd.DataFrame(zip(addresses,balances), columns = ['Address', 'Balance']) \n",
    "\n",
    "df"
   ]
  },
  {
   "cell_type": "markdown",
   "metadata": {},
   "source": [
    "### Send ERC20"
   ]
  },
  {
   "cell_type": "code",
   "execution_count": 9,
   "metadata": {},
   "outputs": [],
   "source": [
    "# read abi for ERC20 contract\n",
    "with open('erc20_abi.json', 'r') as file:\n",
    "    erc20_abi = file.read()"
   ]
  },
  {
   "cell_type": "code",
   "execution_count": 11,
   "metadata": {},
   "outputs": [
    {
     "name": "stdout",
     "output_type": "stream",
     "text": [
      "{'value': 0, 'chainId': 3, 'gas': 100000, 'gasPrice': 1541335609, 'nonce': 1023, 'to': '0x96f55B7d683EB46FF23aBEf2aFb41EB54FCF524b', 'data': '0xa9059cbb00000000000000000000000096f55b7d683eb46ff23abef2afb41eb54fcf524b0000000000000000000000000000000000000000000000000000000000000001'}\n",
      "Signed transaction: b'f8ab8203ff845bdeea39830186a09496f55b7d683eb46ff23abef2afb41eb54fcf524b80b844a9059cbb00000000000000000000000096f55b7d683eb46ff23abef2afb41eb54fcf524b000000000000000000000000000000000000000000000000000000000000000129a0c6a329165da3709ce81cc6e892e8d1f230100df3f85acb64d8841da2db3c80c3a020470eb199f433a8d39fb551860f5d793c97381f7a4f09847a48c1aefc117a24'\n",
      "Transaction hash: b'bf36bc09ada9a956e0cc3090209050325990b46fd58242fe08acc66417d819fe'\n",
      "Ropsten link: https://ropsten.etherscan.io/tx/0xbf36bc09ada9a956e0cc3090209050325990b46fd58242fe08acc66417d819fe\n"
     ]
    }
   ],
   "source": [
    "# Another Test Coin (ATC) ERC20\n",
    "erc20_contract_address = \"0x96f55B7d683EB46FF23aBEf2aFb41EB54FCF524b\"\n",
    "erc20_contract = w3.eth.contract(address=erc20_contract_address, abi=erc20_abi)\n",
    "\n",
    "# fetching nonce (count of transactions)\n",
    "nonce = w3.eth.getTransactionCount(from_address)\n",
    "\n",
    "erc20_transaction = erc20_contract.functions.transfer(erc20_contract_address, 1).buildTransaction(\n",
    "    {\n",
    "        'chainId': chainId,\n",
    "        'gas': 100_000,\n",
    "        'gasPrice': w3.eth.generateGasPrice(),\n",
    "        'nonce': nonce,\n",
    "    })\n",
    "\n",
    "print(erc20_transaction)\n",
    "\n",
    "signed_erc20_transaction = w3.eth.account.sign_transaction(erc20_transaction, from_private_key)\n",
    "\n",
    "print(f'Signed transaction: {hexlify(signed_erc20_transaction.rawTransaction)}')\n",
    "\n",
    "erc20_transaction_hash = w3.eth.sendRawTransaction(signed_erc20_transaction.rawTransaction)\n",
    "\n",
    "print(f'Transaction hash: {hexlify(erc20_transaction_hash)}')\n",
    "\n",
    "print(f'Ropsten link: https://ropsten.etherscan.io/tx/0x' + str(hexlify(erc20_transaction_hash), \"utf-8\"))"
   ]
  },
  {
   "cell_type": "markdown",
   "metadata": {},
   "source": [
    "### ERC20 balances"
   ]
  },
  {
   "cell_type": "code",
   "execution_count": 12,
   "metadata": {},
   "outputs": [
    {
     "data": {
      "text/html": [
       "<div>\n",
       "<style scoped>\n",
       "    .dataframe tbody tr th:only-of-type {\n",
       "        vertical-align: middle;\n",
       "    }\n",
       "\n",
       "    .dataframe tbody tr th {\n",
       "        vertical-align: top;\n",
       "    }\n",
       "\n",
       "    .dataframe thead th {\n",
       "        text-align: right;\n",
       "    }\n",
       "</style>\n",
       "<table border=\"1\" class=\"dataframe\">\n",
       "  <thead>\n",
       "    <tr style=\"text-align: right;\">\n",
       "      <th></th>\n",
       "      <th>Address</th>\n",
       "      <th>Balance</th>\n",
       "    </tr>\n",
       "  </thead>\n",
       "  <tbody>\n",
       "    <tr>\n",
       "      <th>0</th>\n",
       "      <td>0x88a007eC4F1819F24C0988fc9C26496b99b436D1</td>\n",
       "      <td>6681.173300</td>\n",
       "    </tr>\n",
       "    <tr>\n",
       "      <th>1</th>\n",
       "      <td>0xab33D517b6A63A0B1C099b8438D6641cF1a984cC</td>\n",
       "      <td>179.315696</td>\n",
       "    </tr>\n",
       "    <tr>\n",
       "      <th>2</th>\n",
       "      <td>0xb76d3a5D568f339411a6f0697694cDDb6396df58</td>\n",
       "      <td>217.092688</td>\n",
       "    </tr>\n",
       "    <tr>\n",
       "      <th>3</th>\n",
       "      <td>0xcb64cD644D24b57a96287F61DfFeb402B01E23c6</td>\n",
       "      <td>112.454000</td>\n",
       "    </tr>\n",
       "    <tr>\n",
       "      <th>4</th>\n",
       "      <td>0x8396738b4Cb2A2a7Ca636161346a7cB22Ee06E25</td>\n",
       "      <td>109.750000</td>\n",
       "    </tr>\n",
       "    <tr>\n",
       "      <th>5</th>\n",
       "      <td>0xBd666C0Ec86628475b1602aBA0eBF45570A33d4d</td>\n",
       "      <td>52.740000</td>\n",
       "    </tr>\n",
       "    <tr>\n",
       "      <th>6</th>\n",
       "      <td>0x46FF31E07D54a28c468c300325AfcdAc4c6b7F2e</td>\n",
       "      <td>131.410000</td>\n",
       "    </tr>\n",
       "    <tr>\n",
       "      <th>7</th>\n",
       "      <td>0x44874A7d255dF37f5b9C91d173bEE6ab4441c881</td>\n",
       "      <td>105.320000</td>\n",
       "    </tr>\n",
       "    <tr>\n",
       "      <th>8</th>\n",
       "      <td>0x9a2C78cad9e6c0Dc46820C37704065bb22E5Eab0</td>\n",
       "      <td>108.510000</td>\n",
       "    </tr>\n",
       "    <tr>\n",
       "      <th>9</th>\n",
       "      <td>0x577C31aAd54366E7F8Cf931A804F409d20B6928C</td>\n",
       "      <td>33.590000</td>\n",
       "    </tr>\n",
       "  </tbody>\n",
       "</table>\n",
       "</div>"
      ],
      "text/plain": [
       "                                      Address      Balance\n",
       "0  0x88a007eC4F1819F24C0988fc9C26496b99b436D1  6681.173300\n",
       "1  0xab33D517b6A63A0B1C099b8438D6641cF1a984cC   179.315696\n",
       "2  0xb76d3a5D568f339411a6f0697694cDDb6396df58   217.092688\n",
       "3  0xcb64cD644D24b57a96287F61DfFeb402B01E23c6   112.454000\n",
       "4  0x8396738b4Cb2A2a7Ca636161346a7cB22Ee06E25   109.750000\n",
       "5  0xBd666C0Ec86628475b1602aBA0eBF45570A33d4d    52.740000\n",
       "6  0x46FF31E07D54a28c468c300325AfcdAc4c6b7F2e   131.410000\n",
       "7  0x44874A7d255dF37f5b9C91d173bEE6ab4441c881   105.320000\n",
       "8  0x9a2C78cad9e6c0Dc46820C37704065bb22E5Eab0   108.510000\n",
       "9  0x577C31aAd54366E7F8Cf931A804F409d20B6928C    33.590000"
      ]
     },
     "execution_count": 12,
     "metadata": {},
     "output_type": "execute_result"
    }
   ],
   "source": [
    "decimals = 10 ** erc20_contract.functions.decimals().call()\n",
    "\n",
    "erc20_addresses = [w3.toChecksumAddress(key.public_key.address()) for key in private_keys]\n",
    "erc20_balances = [(erc20_contract.functions.balanceOf(address).call() / decimals) for address in erc20_addresses]\n",
    "\n",
    "df = pd.DataFrame(zip(erc20_addresses, erc20_balances), columns=['Address', 'Balance'])\n",
    "\n",
    "df"
   ]
  }
 ],
 "metadata": {
  "kernelspec": {
   "display_name": "my-virtualenv-name",
   "language": "python",
   "name": "my-virtualenv-name"
  },
  "language_info": {
   "codemirror_mode": {
    "name": "ipython",
    "version": 3
   },
   "file_extension": ".py",
   "mimetype": "text/x-python",
   "name": "python",
   "nbconvert_exporter": "python",
   "pygments_lexer": "ipython3",
   "version": "3.8.0"
  }
 },
 "nbformat": 4,
 "nbformat_minor": 2
}
