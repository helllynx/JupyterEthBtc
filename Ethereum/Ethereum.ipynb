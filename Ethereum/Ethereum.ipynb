{
 "cells": [
  {
   "cell_type": "markdown",
   "metadata": {},
   "source": [
    "# Ethereum and ERC20 derivation and transaction manual"
   ]
  },
  {
   "cell_type": "code",
   "execution_count": 1,
   "metadata": {},
   "outputs": [],
   "source": [
    "from web3 import Web3, middleware\n",
    "from web3.gas_strategies.time_based import fast_gas_price_strategy\n",
    "\n",
    "from crypto_eth import HDPrivateKey, HDKey\n",
    "\n",
    "from binascii import hexlify\n",
    "\n",
    "import pandas as pd\n",
    "\n",
    "from IPython.display import display\n",
    "from ipywidgets import widgets, Layout\n",
    "from IPython.display import clear_output\n",
    "\n",
    "import time"
   ]
  },
  {
   "cell_type": "code",
   "execution_count": 2,
   "metadata": {},
   "outputs": [],
   "source": [
    "from halo import HaloNotebook as Halo\n",
    "\n",
    "def waiting_animation(method):\n",
    "    def spinner_animation(*args, **kw):\n",
    "    \n",
    "        spinner = Halo(text=f'Waiting for transaction...', text_color= 'cyan', color='green', spinner='dots')\n",
    "\n",
    "        try:\n",
    "            spinner.start()\n",
    "            result = method(*args, **kw)\n",
    "            spinner.stop_and_persist(text='Done!')\n",
    "        except (KeyboardInterrupt, SystemExit):\n",
    "            spinner.stop()\n",
    "        \n",
    "        return result    \n",
    "    \n",
    "    return spinner_animation"
   ]
  },
  {
   "cell_type": "code",
   "execution_count": 3,
   "metadata": {},
   "outputs": [
    {
     "data": {
      "application/vnd.jupyter.widget-view+json": {
       "model_id": "69990abf708547bbb88d6b7723c5619e",
       "version_major": 2,
       "version_minor": 0
      },
      "text/plain": [
       "Text(value='', description='Phrase:', layout=Layout(width='70%'))"
      ]
     },
     "metadata": {},
     "output_type": "display_data"
    }
   ],
   "source": [
    "phrase = ''\n",
    "\n",
    "text = widgets.Text(\n",
    "    description='Phrase:',\n",
    "    layout=Layout(width=\"70%\")\n",
    ")\n",
    "display(text)\n",
    "\n",
    "def handle(sender):\n",
    "    global phrase\n",
    "    phrase = text.value\n",
    "    text.value =\"\"\n",
    "    \n",
    "text.on_submit(handle)"
   ]
  },
  {
   "cell_type": "markdown",
   "metadata": {},
   "source": [
    "## Derivation"
   ]
  },
  {
   "cell_type": "code",
   "execution_count": 4,
   "metadata": {},
   "outputs": [
    {
     "data": {
      "text/html": [
       "<div>\n",
       "<style scoped>\n",
       "    .dataframe tbody tr th:only-of-type {\n",
       "        vertical-align: middle;\n",
       "    }\n",
       "\n",
       "    .dataframe tbody tr th {\n",
       "        vertical-align: top;\n",
       "    }\n",
       "\n",
       "    .dataframe thead th {\n",
       "        text-align: right;\n",
       "    }\n",
       "</style>\n",
       "<table border=\"1\" class=\"dataframe\">\n",
       "  <thead>\n",
       "    <tr style=\"text-align: right;\">\n",
       "      <th></th>\n",
       "      <th>Address</th>\n",
       "    </tr>\n",
       "  </thead>\n",
       "  <tbody>\n",
       "    <tr>\n",
       "      <th>0</th>\n",
       "      <td>0x88a007ec4f1819f24c0988fc9c26496b99b436d1</td>\n",
       "    </tr>\n",
       "    <tr>\n",
       "      <th>1</th>\n",
       "      <td>0xab33d517b6a63a0b1c099b8438d6641cf1a984cc</td>\n",
       "    </tr>\n",
       "    <tr>\n",
       "      <th>2</th>\n",
       "      <td>0xb76d3a5d568f339411a6f0697694cddb6396df58</td>\n",
       "    </tr>\n",
       "    <tr>\n",
       "      <th>3</th>\n",
       "      <td>0xcb64cd644d24b57a96287f61dffeb402b01e23c6</td>\n",
       "    </tr>\n",
       "    <tr>\n",
       "      <th>4</th>\n",
       "      <td>0x8396738b4cb2a2a7ca636161346a7cb22ee06e25</td>\n",
       "    </tr>\n",
       "    <tr>\n",
       "      <th>5</th>\n",
       "      <td>0xbd666c0ec86628475b1602aba0ebf45570a33d4d</td>\n",
       "    </tr>\n",
       "    <tr>\n",
       "      <th>6</th>\n",
       "      <td>0x46ff31e07d54a28c468c300325afcdac4c6b7f2e</td>\n",
       "    </tr>\n",
       "    <tr>\n",
       "      <th>7</th>\n",
       "      <td>0x44874a7d255df37f5b9c91d173bee6ab4441c881</td>\n",
       "    </tr>\n",
       "    <tr>\n",
       "      <th>8</th>\n",
       "      <td>0x9a2c78cad9e6c0dc46820c37704065bb22e5eab0</td>\n",
       "    </tr>\n",
       "    <tr>\n",
       "      <th>9</th>\n",
       "      <td>0x577c31aad54366e7f8cf931a804f409d20b6928c</td>\n",
       "    </tr>\n",
       "  </tbody>\n",
       "</table>\n",
       "</div>"
      ],
      "text/plain": [
       "                                      Address\n",
       "0  0x88a007ec4f1819f24c0988fc9c26496b99b436d1\n",
       "1  0xab33d517b6a63a0b1c099b8438d6641cf1a984cc\n",
       "2  0xb76d3a5d568f339411a6f0697694cddb6396df58\n",
       "3  0xcb64cd644d24b57a96287f61dffeb402b01e23c6\n",
       "4  0x8396738b4cb2a2a7ca636161346a7cb22ee06e25\n",
       "5  0xbd666c0ec86628475b1602aba0ebf45570a33d4d\n",
       "6  0x46ff31e07d54a28c468c300325afcdac4c6b7f2e\n",
       "7  0x44874a7d255df37f5b9c91d173bee6ab4441c881\n",
       "8  0x9a2c78cad9e6c0dc46820c37704065bb22e5eab0\n",
       "9  0x577c31aad54366e7f8cf931a804f409d20b6928c"
      ]
     },
     "execution_count": 4,
     "metadata": {},
     "output_type": "execute_result"
    }
   ],
   "source": [
    "master_key = HDPrivateKey.master_key_from_mnemonic(phrase)\n",
    "\n",
    "del phrase\n",
    "\n",
    "root_keys = HDKey.from_path(master_key, \"m/44'/60'/0'\")\n",
    "acct_priv_key = root_keys[-1]\n",
    "private_keys = []\n",
    "addresses = []\n",
    "\n",
    "# derivation example for Ethereum generate first 10 addresses\n",
    "for i in range(10):\n",
    "    keys = HDKey.from_path(acct_priv_key, '{change}/{index}'.format(change=0, index=i))\n",
    "    private_key = keys[-1]\n",
    "    public_key = private_key.public_key\n",
    "    private_keys.append(private_key)\n",
    "    addresses.append(private_key.public_key.address())\n",
    "    \n",
    "\n",
    "df = pd.DataFrame(addresses, columns = ['Address']) \n",
    "\n",
    "df"
   ]
  },
  {
   "cell_type": "markdown",
   "metadata": {},
   "source": [
    "## Ethereum transction\n",
    "### Setup Web3"
   ]
  },
  {
   "cell_type": "code",
   "execution_count": 5,
   "metadata": {},
   "outputs": [],
   "source": [
    "# use infura endpoint\n",
    "# endpoint_url = 'wss://ropsten.infura.io/ws/adc06f70568e46d88376a8a3a30e5497'\n",
    "endpoint_url = 'https://ropsten.infura.io/v3/adc06f70568e46d88376a8a3a30e5497'\n",
    "\n",
    "# Ropsten chainId is 3\n",
    "chainId = 3\n",
    "\n",
    "# setup connection\n",
    "w3 = Web3(Web3.HTTPProvider(endpoint_url))\n",
    "if not w3.isConnected():\n",
    "    print('Can\\'t connect to Web3 endpoint')\n",
    "\n",
    "# select gas price strategy\n",
    "w3.eth.setGasPriceStrategy(fast_gas_price_strategy)"
   ]
  },
  {
   "cell_type": "markdown",
   "metadata": {},
   "source": [
    "### Get last block"
   ]
  },
  {
   "cell_type": "code",
   "execution_count": 6,
   "metadata": {},
   "outputs": [
    {
     "name": "stdout",
     "output_type": "stream",
     "text": [
      "Current block: AttributeDict({'difficulty': 748035821, 'extraData': HexBytes('0xde8302050d8f5061726974792d457468657265756d86312e33382e30826c69'), 'gasLimit': 8000029, 'gasUsed': 3469584, 'hash': HexBytes('0xbfdb4322b36888dbd45e77c0dce2271f6bbd5fb104e207ff0f52161879e7318f'), 'logsBloom': HexBytes('0x00000000000000000000000000000000000000000000000000000000000000000000040000000000080000000000000000000000000000000000000000040000000000000000000000000100000000000000000000040000000000000000000000000000000000000000000000000000000000000000100000000000000000000000000000000008000000000000000000000000000000000000000000000000000100000000000800000000000000100000000000000000000000000000000000000000000000000000000000000000000000000000000000000000000040000000000000000000000000000000000020000000000000000000000000000000'), 'miner': '0x635B4764D1939DfAcD3a8014726159abC277BecC', 'mixHash': HexBytes('0xeb269060791a6997df28b08cc85744cbf712ebb6cf7ac9a699fa53201985ccad'), 'nonce': HexBytes('0x1edd3ea373144d98'), 'number': 7162704, 'parentHash': HexBytes('0xb7930fa2d0108d038d4f0e867ba0cb57053e4ccb8a5cbcf0ab5d68a09d7d5eb2'), 'receiptsRoot': HexBytes('0xa58dfa85e9b1f0a44724e09fab885e0856d1a1adc56e0d10369500fbde67a1ca'), 'sha3Uncles': HexBytes('0xfc4a0fda5098b721b764f6c68a8223e0b81f48137fcb17d06dbf94d50c4d9252'), 'size': 17456, 'stateRoot': HexBytes('0xa4c041107c7c0fc9915219050f714e54a5cfbddd68926565d95222a3f2624d7d'), 'timestamp': 1579538303, 'totalDifficulty': 29868064872729928, 'transactions': [HexBytes('0x69d10e59a0889e598610cfce90da6d70ca4c65092753918d2a140377cbee5236'), HexBytes('0x6b03c1515ca4182f5c4e760b30a16b89a888937bd3b16cca75bab52ac9a78327'), HexBytes('0x9fbe83d057038ce73f30ef818f7d7362cb36f9c79644f0383e015d496dcd9ac1'), HexBytes('0x6ab70e6be2aa815d7b80076ceae4200cd5312bd2938119b2af562a501e1e6620'), HexBytes('0xdbfdad076a877f0e7901a28c82d5c4cc2db31634d701b0e93c1e63b39a0cc134'), HexBytes('0xd8c8194d7930508f7471fd43758eaecb18100f15d61d4778b0897e8c24ac022c'), HexBytes('0x7b480716e5cc29bc082fb953437f41c4959c0cd34c5342b0c447a9f9abbc5100'), HexBytes('0xccdaed516cbaf0a33327a3de7319ceae777ea22015e1ba1b2895368d18f2eed1'), HexBytes('0xbac2893fc67c81855b11ccf35130efa89598c1a0bffffde106450221ae6b4d6c'), HexBytes('0x6cf659228d84d0bf46de9165bca3490c4901fb492bb5e1bf52c85f0b9f3b496e'), HexBytes('0x8adcbe2e4144879adb1931906611762b930e90cb3b69acca85e8712db0af5321'), HexBytes('0x47853ead36bf780e7069f88f0e74cc20088c6ff08754e6f7eee5712f3f228b23'), HexBytes('0x4eb6ada1081f9c39658983b4c9fe603b8c290fffbf9bd94784eed4075b9c1989'), HexBytes('0x20efc9b08c2c22dea65c6af1aa89482bf07ea92061a4adcfc8a3496c898338ea'), HexBytes('0xe4950140de182a16a40036fd1c6789e01488dae21f0481e1750ce7a1b5c4ed88'), HexBytes('0x3af6a5cca3c8fece22bc547ff54364635772329f88f2db6ce2f3ab3cbab9e342'), HexBytes('0x314ef8ae7f111f0a8cac828be0113e18c5ec92612289edf21e0275b8b124116c'), HexBytes('0xa23726d861ca3ab6461a17d74e5448bbe106e146652a5c4cde994ac32524d0ff'), HexBytes('0x94785b34319a8044f322089728c77f54b035cd8a3f0e2f7722f4a6278564e173'), HexBytes('0x55539332375f82209b87c303fef0aca5b53eec13b5edb2a5926d59247a3235ec'), HexBytes('0x98f7fe59b710085030fc29196cfb567b3c8e98acd22cdab0eb5db926ede2b850'), HexBytes('0x6d66c58ee0628d3b16079ca9596f2769fbebd4e693510b3b42630ddf73ef07da'), HexBytes('0x778371cf182c34644fa4aeba4bc4b2d7374c9af7d588de96c5ecff6f771e4028'), HexBytes('0xdf1df8f48e83d34cc149cf10a32e643790a3894c472d1eee25f079eadcc8418e'), HexBytes('0xcd8822a6a254c7ac7315a12fb2c0ebe16193387a8eba8e7b1b4f9ceb7c352f4f')], 'transactionsRoot': HexBytes('0x0e9289e6a6f23fa64bc97f6a73b64739c9315ddde84b1659ac09a51c82135a28'), 'uncles': [HexBytes('0xd6be814768fcb7cf3f66bdd7f0ca9049ce115bffb398a6975357f6a528be0eb3')]})\n"
     ]
    }
   ],
   "source": [
    "block = w3.eth.getBlock('latest')\n",
    "print(f'Current block: {block}')"
   ]
  },
  {
   "cell_type": "markdown",
   "metadata": {},
   "source": [
    "### Prepare accounts"
   ]
  },
  {
   "cell_type": "code",
   "execution_count": 7,
   "metadata": {},
   "outputs": [],
   "source": [
    "# take first two accounts as from and to\n",
    "from_address = w3.toChecksumAddress(private_keys[0].public_key.address())\n",
    "from_private_key = private_keys[0]._key.to_hex()\n",
    "\n",
    "to_address = w3.toChecksumAddress(private_keys[1].public_key.address())\n",
    "to_private_key = private_keys[1]._key.to_hex()"
   ]
  },
  {
   "cell_type": "code",
   "execution_count": 8,
   "metadata": {},
   "outputs": [],
   "source": [
    "@waiting_animation\n",
    "def wait_for_transaction(transaction_hash):\n",
    "    while True:\n",
    "        transaction = w3.eth.getTransaction(transaction_hash)\n",
    "        if transaction['blockNumber']:\n",
    "            return transaction\n",
    "        time.sleep(5)"
   ]
  },
  {
   "cell_type": "markdown",
   "metadata": {},
   "source": [
    "### Send Ethereum"
   ]
  },
  {
   "cell_type": "code",
   "execution_count": 9,
   "metadata": {},
   "outputs": [
    {
     "name": "stdout",
     "output_type": "stream",
     "text": [
      "Signed transaction: b'f8688204058451bea5ef82520894ab33d517b6a63a0b1c099b8438d6641cf1a984cc83030d40802aa0b9fa530888952ed576c8dc28874e580ca6ca5a8fe72cb9424c12b279a326bbeba026b2c50387a3c38af29055525bc33b14c586b9ddaf073a5af56dda98f3fddf69'\n",
      "Transaction hash: b'cea4bcf2a4056317c11f5dc1f8755787bc0895c8fe1f933da615f0d1d691b0af'\n",
      "Ropsten link: https://ropsten.etherscan.io/tx/0xcea4bcf2a4056317c11f5dc1f8755787bc0895c8fe1f933da615f0d1d691b0af\n"
     ]
    }
   ],
   "source": [
    "# fetching nonce (count of transactions)\n",
    "nonce = w3.eth.getTransactionCount(from_address)\n",
    "\n",
    "transaction = {\n",
    "    'to': to_address,\n",
    "    'value': 200_000, # 0.0000000000002 Ether\n",
    "    'gas': 21_000,\n",
    "    'gasPrice': w3.eth.generateGasPrice(),\n",
    "    'nonce': nonce,\n",
    "    'chainId': chainId\n",
    "}\n",
    "\n",
    "signed = w3.eth.account.sign_transaction(transaction, from_private_key)\n",
    "\n",
    "print(f'Signed transaction: {hexlify(signed.rawTransaction)}')\n",
    "\n",
    "transaction_hash = w3.eth.sendRawTransaction(signed.rawTransaction)\n",
    "\n",
    "print(f'Transaction hash: {hexlify(transaction_hash)}')\n",
    "\n",
    "print(f'Ropsten link: https://ropsten.etherscan.io/tx/0x' + str(hexlify(transaction_hash), \"utf-8\"))"
   ]
  },
  {
   "cell_type": "code",
   "execution_count": 10,
   "metadata": {},
   "outputs": [
    {
     "data": {
      "application/vnd.jupyter.widget-view+json": {
       "model_id": "c048204eb33e417e89d3f0952f7ec034",
       "version_major": 2,
       "version_minor": 0
      },
      "text/plain": [
       "Output()"
      ]
     },
     "metadata": {},
     "output_type": "display_data"
    },
    {
     "name": "stdout",
     "output_type": "stream",
     "text": [
      "AttributeDict({'blockHash': HexBytes('0x1989e93d1f13176a2d8682ad8e80ac3ee99a3ee5984d6e56f96e5984b109d237'), 'blockNumber': 7162711, 'from': '0x88a007eC4F1819F24C0988fc9C26496b99b436D1', 'gas': 21000, 'gasPrice': 1371448815, 'hash': HexBytes('0xcea4bcf2a4056317c11f5dc1f8755787bc0895c8fe1f933da615f0d1d691b0af'), 'input': '0x', 'nonce': 1029, 'r': HexBytes('0xb9fa530888952ed576c8dc28874e580ca6ca5a8fe72cb9424c12b279a326bbeb'), 's': HexBytes('0x26b2c50387a3c38af29055525bc33b14c586b9ddaf073a5af56dda98f3fddf69'), 'to': '0xab33D517b6A63A0B1C099b8438D6641cF1a984cC', 'transactionIndex': 43, 'v': 42, 'value': 200000})\n"
     ]
    }
   ],
   "source": [
    "print(wait_for_transaction(transaction_hash))"
   ]
  },
  {
   "cell_type": "markdown",
   "metadata": {},
   "source": [
    "### Ethereum balance"
   ]
  },
  {
   "cell_type": "code",
   "execution_count": 11,
   "metadata": {
    "scrolled": true
   },
   "outputs": [
    {
     "data": {
      "text/html": [
       "<div>\n",
       "<style scoped>\n",
       "    .dataframe tbody tr th:only-of-type {\n",
       "        vertical-align: middle;\n",
       "    }\n",
       "\n",
       "    .dataframe tbody tr th {\n",
       "        vertical-align: top;\n",
       "    }\n",
       "\n",
       "    .dataframe thead th {\n",
       "        text-align: right;\n",
       "    }\n",
       "</style>\n",
       "<table border=\"1\" class=\"dataframe\">\n",
       "  <thead>\n",
       "    <tr style=\"text-align: right;\">\n",
       "      <th></th>\n",
       "      <th>Address</th>\n",
       "      <th>Balance</th>\n",
       "    </tr>\n",
       "  </thead>\n",
       "  <tbody>\n",
       "    <tr>\n",
       "      <th>0</th>\n",
       "      <td>0x88a007eC4F1819F24C0988fc9C26496b99b436D1</td>\n",
       "      <td>2.507656510927955213</td>\n",
       "    </tr>\n",
       "    <tr>\n",
       "      <th>1</th>\n",
       "      <td>0xab33D517b6A63A0B1C099b8438D6641cF1a984cC</td>\n",
       "      <td>0.955792922714265816</td>\n",
       "    </tr>\n",
       "    <tr>\n",
       "      <th>2</th>\n",
       "      <td>0xb76d3a5D568f339411a6f0697694cDDb6396df58</td>\n",
       "      <td>2.154467975998</td>\n",
       "    </tr>\n",
       "    <tr>\n",
       "      <th>3</th>\n",
       "      <td>0xcb64cD644D24b57a96287F61DfFeb402B01E23c6</td>\n",
       "      <td>0.998700340002</td>\n",
       "    </tr>\n",
       "    <tr>\n",
       "      <th>4</th>\n",
       "      <td>0x8396738b4Cb2A2a7Ca636161346a7cB22Ee06E25</td>\n",
       "      <td>3.979769</td>\n",
       "    </tr>\n",
       "    <tr>\n",
       "      <th>5</th>\n",
       "      <td>0xBd666C0Ec86628475b1602aBA0eBF45570A33d4d</td>\n",
       "      <td>3.01</td>\n",
       "    </tr>\n",
       "    <tr>\n",
       "      <th>6</th>\n",
       "      <td>0x46FF31E07D54a28c468c300325AfcdAc4c6b7F2e</td>\n",
       "      <td>4</td>\n",
       "    </tr>\n",
       "    <tr>\n",
       "      <th>7</th>\n",
       "      <td>0x44874A7d255dF37f5b9C91d173bEE6ab4441c881</td>\n",
       "      <td>4.1</td>\n",
       "    </tr>\n",
       "    <tr>\n",
       "      <th>8</th>\n",
       "      <td>0x9a2C78cad9e6c0Dc46820C37704065bb22E5Eab0</td>\n",
       "      <td>3</td>\n",
       "    </tr>\n",
       "    <tr>\n",
       "      <th>9</th>\n",
       "      <td>0x577C31aAd54366E7F8Cf931A804F409d20B6928C</td>\n",
       "      <td>2.99948678</td>\n",
       "    </tr>\n",
       "  </tbody>\n",
       "</table>\n",
       "</div>"
      ],
      "text/plain": [
       "                                      Address               Balance\n",
       "0  0x88a007eC4F1819F24C0988fc9C26496b99b436D1  2.507656510927955213\n",
       "1  0xab33D517b6A63A0B1C099b8438D6641cF1a984cC  0.955792922714265816\n",
       "2  0xb76d3a5D568f339411a6f0697694cDDb6396df58        2.154467975998\n",
       "3  0xcb64cD644D24b57a96287F61DfFeb402B01E23c6        0.998700340002\n",
       "4  0x8396738b4Cb2A2a7Ca636161346a7cB22Ee06E25              3.979769\n",
       "5  0xBd666C0Ec86628475b1602aBA0eBF45570A33d4d                  3.01\n",
       "6  0x46FF31E07D54a28c468c300325AfcdAc4c6b7F2e                     4\n",
       "7  0x44874A7d255dF37f5b9C91d173bEE6ab4441c881                   4.1\n",
       "8  0x9a2C78cad9e6c0Dc46820C37704065bb22E5Eab0                     3\n",
       "9  0x577C31aAd54366E7F8Cf931A804F409d20B6928C            2.99948678"
      ]
     },
     "execution_count": 11,
     "metadata": {},
     "output_type": "execute_result"
    }
   ],
   "source": [
    "addresses = [w3.toChecksumAddress(key.public_key.address()) for key in private_keys]\n",
    "balances = [w3.fromWei(w3.eth.getBalance(address), 'ether') for address in addresses]\n",
    "\n",
    "df = pd.DataFrame(zip(addresses,balances), columns = ['Address', 'Balance']) \n",
    "\n",
    "df"
   ]
  },
  {
   "cell_type": "markdown",
   "metadata": {},
   "source": [
    "### Send ERC20"
   ]
  },
  {
   "cell_type": "code",
   "execution_count": 12,
   "metadata": {},
   "outputs": [],
   "source": [
    "# read abi for ERC20 contract\n",
    "with open('erc20_abi.json', 'r') as file:\n",
    "    erc20_abi = file.read()"
   ]
  },
  {
   "cell_type": "code",
   "execution_count": 13,
   "metadata": {},
   "outputs": [
    {
     "name": "stdout",
     "output_type": "stream",
     "text": [
      "{'value': 0, 'chainId': 3, 'gas': 100000, 'gasPrice': 1363580310, 'nonce': 1030, 'to': '0x96f55B7d683EB46FF23aBEf2aFb41EB54FCF524b', 'data': '0xa9059cbb00000000000000000000000096f55b7d683eb46ff23abef2afb41eb54fcf524b0000000000000000000000000000000000000000000000000000000000000001'}\n",
      "Signed transaction: b'f8ab8204068451469596830186a09496f55b7d683eb46ff23abef2afb41eb54fcf524b80b844a9059cbb00000000000000000000000096f55b7d683eb46ff23abef2afb41eb54fcf524b00000000000000000000000000000000000000000000000000000000000000012aa0dbc1fb61b517203d226e626a0eb1a1d6b6fdcfe1062b82f63466826b5ab4f259a05fc173645228489f81d895108370d087de04dcb6ff72b81ea8ead3c485737275'\n",
      "Transaction hash: b'11f3793dad9d5241359aa29bdecf2b104307cb6ec8861d3201ac50986e2a4eb6'\n",
      "Ropsten link: https://ropsten.etherscan.io/tx/0x11f3793dad9d5241359aa29bdecf2b104307cb6ec8861d3201ac50986e2a4eb6\n"
     ]
    }
   ],
   "source": [
    "# Another Test Coin (ATC) ERC20\n",
    "erc20_contract_address = \"0x96f55B7d683EB46FF23aBEf2aFb41EB54FCF524b\"\n",
    "erc20_contract = w3.eth.contract(address=erc20_contract_address, abi=erc20_abi)\n",
    "\n",
    "# fetching nonce (count of transactions)\n",
    "nonce = w3.eth.getTransactionCount(from_address)\n",
    "\n",
    "erc20_transaction = erc20_contract.functions.transfer(erc20_contract_address, 1).buildTransaction(\n",
    "    {\n",
    "        'chainId': chainId,\n",
    "        'gas': 100_000,\n",
    "        'gasPrice': w3.eth.generateGasPrice(),\n",
    "        'nonce': nonce,\n",
    "    })\n",
    "\n",
    "print(erc20_transaction)\n",
    "\n",
    "signed_erc20_transaction = w3.eth.account.sign_transaction(erc20_transaction, from_private_key)\n",
    "\n",
    "print(f'Signed transaction: {hexlify(signed_erc20_transaction.rawTransaction)}')\n",
    "\n",
    "erc20_transaction_hash = w3.eth.sendRawTransaction(signed_erc20_transaction.rawTransaction)\n",
    "\n",
    "print(f'Transaction hash: {hexlify(erc20_transaction_hash)}')\n",
    "\n",
    "print(f'Ropsten link: https://ropsten.etherscan.io/tx/0x' + str(hexlify(erc20_transaction_hash), \"utf-8\"))"
   ]
  },
  {
   "cell_type": "code",
   "execution_count": 14,
   "metadata": {},
   "outputs": [
    {
     "data": {
      "application/vnd.jupyter.widget-view+json": {
       "model_id": "1551715da1b1423c9641d8af4519ec98",
       "version_major": 2,
       "version_minor": 0
      },
      "text/plain": [
       "Output()"
      ]
     },
     "metadata": {},
     "output_type": "display_data"
    },
    {
     "name": "stdout",
     "output_type": "stream",
     "text": [
      "AttributeDict({'blockHash': HexBytes('0x0b7e8662d07c17881526e79d801ac02589de8b2f8e4efcf6f5001f77bebe62a6'), 'blockNumber': 7162716, 'from': '0x88a007eC4F1819F24C0988fc9C26496b99b436D1', 'gas': 100000, 'gasPrice': 1363580310, 'hash': HexBytes('0x11f3793dad9d5241359aa29bdecf2b104307cb6ec8861d3201ac50986e2a4eb6'), 'input': '0xa9059cbb00000000000000000000000096f55b7d683eb46ff23abef2afb41eb54fcf524b0000000000000000000000000000000000000000000000000000000000000001', 'nonce': 1030, 'r': HexBytes('0xdbc1fb61b517203d226e626a0eb1a1d6b6fdcfe1062b82f63466826b5ab4f259'), 's': HexBytes('0x5fc173645228489f81d895108370d087de04dcb6ff72b81ea8ead3c485737275'), 'to': '0x96f55B7d683EB46FF23aBEf2aFb41EB54FCF524b', 'transactionIndex': 1, 'v': 42, 'value': 0})\n"
     ]
    }
   ],
   "source": [
    "print(wait_for_transaction(erc20_transaction_hash))"
   ]
  },
  {
   "cell_type": "markdown",
   "metadata": {},
   "source": [
    "### ERC20 balances"
   ]
  },
  {
   "cell_type": "code",
   "execution_count": 15,
   "metadata": {},
   "outputs": [
    {
     "data": {
      "text/html": [
       "<div>\n",
       "<style scoped>\n",
       "    .dataframe tbody tr th:only-of-type {\n",
       "        vertical-align: middle;\n",
       "    }\n",
       "\n",
       "    .dataframe tbody tr th {\n",
       "        vertical-align: top;\n",
       "    }\n",
       "\n",
       "    .dataframe thead th {\n",
       "        text-align: right;\n",
       "    }\n",
       "</style>\n",
       "<table border=\"1\" class=\"dataframe\">\n",
       "  <thead>\n",
       "    <tr style=\"text-align: right;\">\n",
       "      <th></th>\n",
       "      <th>Address</th>\n",
       "      <th>Balance</th>\n",
       "    </tr>\n",
       "  </thead>\n",
       "  <tbody>\n",
       "    <tr>\n",
       "      <th>0</th>\n",
       "      <td>0x88a007eC4F1819F24C0988fc9C26496b99b436D1</td>\n",
       "      <td>6681.173300</td>\n",
       "    </tr>\n",
       "    <tr>\n",
       "      <th>1</th>\n",
       "      <td>0xab33D517b6A63A0B1C099b8438D6641cF1a984cC</td>\n",
       "      <td>179.315696</td>\n",
       "    </tr>\n",
       "    <tr>\n",
       "      <th>2</th>\n",
       "      <td>0xb76d3a5D568f339411a6f0697694cDDb6396df58</td>\n",
       "      <td>217.092688</td>\n",
       "    </tr>\n",
       "    <tr>\n",
       "      <th>3</th>\n",
       "      <td>0xcb64cD644D24b57a96287F61DfFeb402B01E23c6</td>\n",
       "      <td>112.454000</td>\n",
       "    </tr>\n",
       "    <tr>\n",
       "      <th>4</th>\n",
       "      <td>0x8396738b4Cb2A2a7Ca636161346a7cB22Ee06E25</td>\n",
       "      <td>109.750000</td>\n",
       "    </tr>\n",
       "    <tr>\n",
       "      <th>5</th>\n",
       "      <td>0xBd666C0Ec86628475b1602aBA0eBF45570A33d4d</td>\n",
       "      <td>52.740000</td>\n",
       "    </tr>\n",
       "    <tr>\n",
       "      <th>6</th>\n",
       "      <td>0x46FF31E07D54a28c468c300325AfcdAc4c6b7F2e</td>\n",
       "      <td>131.410000</td>\n",
       "    </tr>\n",
       "    <tr>\n",
       "      <th>7</th>\n",
       "      <td>0x44874A7d255dF37f5b9C91d173bEE6ab4441c881</td>\n",
       "      <td>105.320000</td>\n",
       "    </tr>\n",
       "    <tr>\n",
       "      <th>8</th>\n",
       "      <td>0x9a2C78cad9e6c0Dc46820C37704065bb22E5Eab0</td>\n",
       "      <td>108.510000</td>\n",
       "    </tr>\n",
       "    <tr>\n",
       "      <th>9</th>\n",
       "      <td>0x577C31aAd54366E7F8Cf931A804F409d20B6928C</td>\n",
       "      <td>33.590000</td>\n",
       "    </tr>\n",
       "  </tbody>\n",
       "</table>\n",
       "</div>"
      ],
      "text/plain": [
       "                                      Address      Balance\n",
       "0  0x88a007eC4F1819F24C0988fc9C26496b99b436D1  6681.173300\n",
       "1  0xab33D517b6A63A0B1C099b8438D6641cF1a984cC   179.315696\n",
       "2  0xb76d3a5D568f339411a6f0697694cDDb6396df58   217.092688\n",
       "3  0xcb64cD644D24b57a96287F61DfFeb402B01E23c6   112.454000\n",
       "4  0x8396738b4Cb2A2a7Ca636161346a7cB22Ee06E25   109.750000\n",
       "5  0xBd666C0Ec86628475b1602aBA0eBF45570A33d4d    52.740000\n",
       "6  0x46FF31E07D54a28c468c300325AfcdAc4c6b7F2e   131.410000\n",
       "7  0x44874A7d255dF37f5b9C91d173bEE6ab4441c881   105.320000\n",
       "8  0x9a2C78cad9e6c0Dc46820C37704065bb22E5Eab0   108.510000\n",
       "9  0x577C31aAd54366E7F8Cf931A804F409d20B6928C    33.590000"
      ]
     },
     "execution_count": 15,
     "metadata": {},
     "output_type": "execute_result"
    }
   ],
   "source": [
    "decimals = 10 ** erc20_contract.functions.decimals().call()\n",
    "\n",
    "erc20_addresses = [w3.toChecksumAddress(key.public_key.address()) for key in private_keys]\n",
    "erc20_balances = [(erc20_contract.functions.balanceOf(address).call() / decimals) for address in erc20_addresses]\n",
    "\n",
    "df = pd.DataFrame(zip(erc20_addresses, erc20_balances), columns=['Address', 'Balance'])\n",
    "\n",
    "df"
   ]
  }
 ],
 "metadata": {
  "kernelspec": {
   "display_name": "my-virtualenv-name",
   "language": "python",
   "name": "my-virtualenv-name"
  },
  "language_info": {
   "codemirror_mode": {
    "name": "ipython",
    "version": 3
   },
   "file_extension": ".py",
   "mimetype": "text/x-python",
   "name": "python",
   "nbconvert_exporter": "python",
   "pygments_lexer": "ipython3",
   "version": "3.6.10"
  }
 },
 "nbformat": 4,
 "nbformat_minor": 2
}
