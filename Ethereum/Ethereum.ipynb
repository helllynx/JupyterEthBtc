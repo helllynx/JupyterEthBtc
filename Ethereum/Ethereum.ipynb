{
 "cells": [
  {
   "cell_type": "markdown",
   "metadata": {},
   "source": [
    "# Ethereum and ERC20 derivation and transaction manual"
   ]
  },
  {
   "cell_type": "code",
   "execution_count": 14,
   "metadata": {},
   "outputs": [],
   "source": [
    "from web3 import Web3, middleware\n",
    "from web3.gas_strategies.time_based import fast_gas_price_strategy\n",
    "\n",
    "from crypto_eth import HDPrivateKey, HDKey\n",
    "\n",
    "import binascii\n",
    "\n",
    "import pandas as pd"
   ]
  },
  {
   "cell_type": "markdown",
   "metadata": {},
   "source": [
    "## Derivation"
   ]
  },
  {
   "cell_type": "code",
   "execution_count": 15,
   "metadata": {},
   "outputs": [
    {
     "name": "stdout",
     "output_type": "stream",
     "text": [
      "Index 0:\n",
      "\tPrivate key: 396f7f85659d2b43ef05f7abc80586aa3989e8ef7218433350ddd5945f7f9008\n",
      "\tAddress: 0x88a007ec4f1819f24c0988fc9c26496b99b436d1\n",
      "----------------------------------------------------------------------------------------------------\n",
      "Index 1:\n",
      "\tPrivate key: 7f31b8e44f7cdf90959ac38f412698640ed4113414e4c0bf074cb3aee9cec72a\n",
      "\tAddress: 0xab33d517b6a63a0b1c099b8438d6641cf1a984cc\n",
      "----------------------------------------------------------------------------------------------------\n",
      "Index 2:\n",
      "\tPrivate key: 49edccc09e07e63daf689fd808886837f18cfb87900f5957afea0f633d73c2f8\n",
      "\tAddress: 0xb76d3a5d568f339411a6f0697694cddb6396df58\n",
      "----------------------------------------------------------------------------------------------------\n",
      "Index 3:\n",
      "\tPrivate key: 015e90cb0d2f1bebfee8248c1991e13478aaf68279bbd8d7eee839c55f8499b5\n",
      "\tAddress: 0xcb64cd644d24b57a96287f61dffeb402b01e23c6\n",
      "----------------------------------------------------------------------------------------------------\n",
      "Index 4:\n",
      "\tPrivate key: 4752f5feb87ff6431567443ef4243f2d011721f0ed76ce0ef274ca3180aabbfd\n",
      "\tAddress: 0x8396738b4cb2a2a7ca636161346a7cb22ee06e25\n",
      "----------------------------------------------------------------------------------------------------\n",
      "Index 5:\n",
      "\tPrivate key: 857fdcbcfe1bd3620a699b6251bd37e9b0bb9b0ccb3fd570b0beb9a90133344f\n",
      "\tAddress: 0xbd666c0ec86628475b1602aba0ebf45570a33d4d\n",
      "----------------------------------------------------------------------------------------------------\n",
      "Index 6:\n",
      "\tPrivate key: 025fed91b4737822d9d89e20fa86847dda3b976ca7d2c7b0649404b2a1869fc0\n",
      "\tAddress: 0x46ff31e07d54a28c468c300325afcdac4c6b7f2e\n",
      "----------------------------------------------------------------------------------------------------\n",
      "Index 7:\n",
      "\tPrivate key: 2bac035300dd68e9a7101a7a02567df90dd0d8c5ae8b02a0e9f6bf6a29101ed9\n",
      "\tAddress: 0x44874a7d255df37f5b9c91d173bee6ab4441c881\n",
      "----------------------------------------------------------------------------------------------------\n",
      "Index 8:\n",
      "\tPrivate key: c32b89ffede10c370250099f6662aab21c21f09507f98e7d02bb2bd205471e89\n",
      "\tAddress: 0x9a2c78cad9e6c0dc46820c37704065bb22e5eab0\n",
      "----------------------------------------------------------------------------------------------------\n",
      "Index 9:\n",
      "\tPrivate key: 6ca6c8f582b691f43b0e87c8249d6b1f849e3547d5226f176b2594a6aa0244f6\n",
      "\tAddress: 0x577c31aad54366e7f8cf931a804f409d20b6928c\n",
      "----------------------------------------------------------------------------------------------------\n"
     ]
    }
   ],
   "source": [
    "master_key = HDPrivateKey.master_key_from_mnemonic(\n",
    "    'trade icon company use feature fee order double inhale gift news long')\n",
    "root_keys = HDKey.from_path(master_key, \"m/44'/60'/0'\")\n",
    "acct_priv_key = root_keys[-1]\n",
    "private_keys = []\n",
    "\n",
    "# derivation example for Ethereum generate first 10 addresses\n",
    "for i in range(10):\n",
    "    keys = HDKey.from_path(acct_priv_key, '{change}/{index}'.format(change=0, index=i))\n",
    "    private_key = keys[-1]\n",
    "    public_key = private_key.public_key\n",
    "    private_keys.append(private_key)\n",
    "    print(f'Index {i}:')\n",
    "    print(f'\\tPrivate key: {private_key._key.to_hex()}')\n",
    "    print(f'\\tAddress: {private_key.public_key.address()}')\n",
    "    print('-' * 100)"
   ]
  },
  {
   "cell_type": "markdown",
   "metadata": {},
   "source": [
    "## Ethereum transction\n",
    "### Setup Web3"
   ]
  },
  {
   "cell_type": "code",
   "execution_count": 26,
   "metadata": {},
   "outputs": [],
   "source": [
    "# use infura endpoint\n",
    "# endpoint_url = 'wss://ropsten.infura.io/ws/adc06f70568e46d88376a8a3a30e5497'\n",
    "endpoint_url = 'https://ropsten.infura.io/v3/adc06f70568e46d88376a8a3a30e5497'\n",
    "\n",
    "# Ropsten chainId is 3\n",
    "chainId = 3\n",
    "\n",
    "# setup connection\n",
    "w3 = Web3(Web3.HTTPProvider(endpoint_url))\n",
    "if not w3.isConnected():\n",
    "    print('Can\\'t connect to Web3 endpoint')\n",
    "\n",
    "# select gas price strategy\n",
    "w3.eth.setGasPriceStrategy(fast_gas_price_strategy)"
   ]
  },
  {
   "cell_type": "markdown",
   "metadata": {},
   "source": [
    "### Get last block"
   ]
  },
  {
   "cell_type": "code",
   "execution_count": 27,
   "metadata": {},
   "outputs": [
    {
     "name": "stdout",
     "output_type": "stream",
     "text": [
      "Current block: AttributeDict({'difficulty': 3507008849, 'extraData': HexBytes('0xd983010906846765746889676f312e31312e3133856c696e7578'), 'gasLimit': 8000000, 'gasUsed': 7298193, 'hash': HexBytes('0xa656b780e91c58ae36659e4c0779f95d9fdf4a52535ce284f7351d22724a7fd1'), 'logsBloom': HexBytes('0x0420100400088010000004000400440000000100040408800040000400040000012094000024800000048020800004000001000002030104000000040c3404000000200004002200808000888002004610028000000400808000081108200040088000000a02000080000000004008002100004050001900020000100800200c0000000000000020040030400050a000200104800024040040200000000409000200010410001000200001000010008080000000108082000020000004005240a0009002000000504000040200002c0888306200a100002060020002400060800010802000000086408084000000008000000088108401000882001000000000'), 'miner': '0x4CCfB3039b78d3938588157564c9AD559bAfAB94', 'mixHash': HexBytes('0xe2ba98ad9d17786257604fdc14fb1cb65282f5e0c3f6524ae12f63f681df3765'), 'nonce': HexBytes('0xd7438a2000795908'), 'number': 6901862, 'parentHash': HexBytes('0xd89b22bef1ec479d63e937dbe2eb7339025a07566692cfb70c574ea4ffa22d4f'), 'receiptsRoot': HexBytes('0xc41d209cc3a75ab8a48e52d7946313bbf8a940ffe163b1248e44bbc4ea9ce6c0'), 'sha3Uncles': HexBytes('0x1dcc4de8dec75d7aab85b567b6ccd41ad312451b948a7413f0a142fd40d49347'), 'size': 18197, 'stateRoot': HexBytes('0x223388eb3688c3c057ec346ff73bf47f9c7478fe7700d91bdeecbf64db602e1d'), 'timestamp': 1575459314, 'totalDifficulty': 28882407947595043, 'transactions': [HexBytes('0x56aedc22c81c2d8d41d39743e183766e044cbab1ec22a06f770ea5266ed844b0'), HexBytes('0x8998b94f119c3a5295a67f63804762f2e62697aa9389d2aa4f1f516971137833'), HexBytes('0x26128f2a37e0079f28e7a7c77021491f799635c429ac0b1202e3432804627647'), HexBytes('0x3db8e70b687df5f1628c0842010886976b9c9680701076b857599cf0355b2692'), HexBytes('0xc884e64e13b238848efc07538095fddf37e2e42e61b313cdd5bc0264d5de7a31'), HexBytes('0x82d71bb72a5e45ce08a30b20f6a8deab7cba448ef88ba803ec9c25ae75c393e6'), HexBytes('0xff4b1e39119e00e314226d192719f4f3d57330853c298c321b0a57a557397335'), HexBytes('0x875b68512543bba08b5d2da1acb276254ab9c8314ebf0a8166c9fe90894ce859'), HexBytes('0x853e6c1fcad4750448841b8e693c2e6f250ce417679c8e730cb89a6cce2a49d0'), HexBytes('0xb759af6b8bd69268c0594828ffe88a93de257877ba2908bb605f8815ebac8faf'), HexBytes('0xc4cf6532274e7359f96f370c3a242e9f3a80cfdcf9dfe203876a54fc28107c51'), HexBytes('0xe3b4983b7a17f55d1f6b840651638fb977a0f9e749f06fc74aa8a8ddc796e151'), HexBytes('0x9c9f18b7d2eb5d87924fe0969e710a8ffd9063bcc8d183f690b7f28538d2fe7a'), HexBytes('0x7217eb6f9ca4d0178c7b69dd0b85f82be6b3e28cef79d1939888396500a1e274'), HexBytes('0xff5f313beb4eb59dd2c66b6af61f11dccc481923c462fd067e990adb14c72efd'), HexBytes('0xbcdf6ccdacfba26dd1b5e3e028e94d00348bc9d586187cf3f0e6ddaded1df9b7'), HexBytes('0x0a08ce98bcca2f7c2426f6cb7e269500f80adac72f162e6169357c28b710a4de'), HexBytes('0x002e244a772735f776612b71a39bca12aa3b19f8e40933cc508c652d575d1377'), HexBytes('0xc71993691a5b46f45a383f64fdfa5c53d85cb0f20d516cdcd57bbcb75af24be4'), HexBytes('0x7aa69af939a5d77bb396b69841055f5274103a9b6639a087cdbfd5d0c119ea7b'), HexBytes('0xf25982f809e24e29c60c26e4b7751be6fc991539fab087d93d0b0775a8d6e9a5'), HexBytes('0xd8c3709fe1f9152fa93c7d7185ef9282a77e5da9add281709655a5ac4a3f58a9'), HexBytes('0x68268467ab9bdb36ee73e731f77b21fa8faf867bd6cf578c95c9b6a72dfc69d6'), HexBytes('0x85712b9600be779569d9872a682fda8d9ae765306f763d7e25df8cc5408d001c'), HexBytes('0xc0099379b1d5c3db59600b3f3e2b68ce055f4cd6f8e86b20e263728c1959b9dd'), HexBytes('0xea2638339defbdf19ea19fca0bb17dc0420ad83dfb6adff9fc5e0e8f49c7c832'), HexBytes('0x6f5ef44cbe5105172fd4a6dbbf4e554085d9ecaeea8efc3ff04f91eadce3ce24'), HexBytes('0x232294c8f6703a5d29deed0d1a449b087bc3055eb24247ade9e7f6246d3f6be8'), HexBytes('0x1ea2dea40bc56a554b63de75756cb66c9afea21080a1ecd3bcaed21de46b3a11'), HexBytes('0xb836303f4b814158ae6bf7a5e1711736af6dfca96f7e7348a8fb5e59199fe19c'), HexBytes('0x4e27f98e4296d6e3b48db96ddd48520d3e1653015c24cd847eccc427c4817dbf'), HexBytes('0x669882384a6bb3946c79405a7b9d8db5d2d0b7071b9be4ac701a2142ddedb719'), HexBytes('0x86a9af6832d6ef91e4a37e7f5626ae488f6ff6e1c20d5554fccdacb251e94444'), HexBytes('0xc2ca78f072a6b78c7ca35e2d82e0fbf16cdab8823cac3bc8db54bb0cd1e35ada')], 'transactionsRoot': HexBytes('0xe00497308f060334b1f5750820fb6c0ee32b4583663ed74065bb61b6ce9f417f'), 'uncles': []})\n"
     ]
    }
   ],
   "source": [
    "block = w3.eth.getBlock('latest')\n",
    "print(f'Current block: {block}')"
   ]
  },
  {
   "cell_type": "markdown",
   "metadata": {},
   "source": [
    "### Prepare accounts"
   ]
  },
  {
   "cell_type": "code",
   "execution_count": 18,
   "metadata": {},
   "outputs": [],
   "source": [
    "# take first two accounts as from and to\n",
    "from_address = w3.toChecksumAddress(private_keys[0].public_key.address())\n",
    "from_private_key = private_keys[0]._key.to_hex()\n",
    "\n",
    "to_address = w3.toChecksumAddress(private_keys[1].public_key.address())\n",
    "to_private_key = private_keys[1]._key.to_hex()"
   ]
  },
  {
   "cell_type": "markdown",
   "metadata": {},
   "source": [
    "### Send Ethereum"
   ]
  },
  {
   "cell_type": "code",
   "execution_count": 19,
   "metadata": {},
   "outputs": [
    {
     "name": "stdout",
     "output_type": "stream",
     "text": [
      "Signed transaction: b'f8688203f8845ed9d10182520894ab33d517b6a63a0b1c099b8438d6641cf1a984cc83030d40802aa0a0e5167b0d6cc9b13fbec04286a0dd787e5ec461d2e70f4a8179c2efb25a4bdca03ef72e52a736c2cdbd669952cc41af4a1e5f261689fb81efde3f617d99996a19'\n",
      "Transaction hash: b'17b6c7618e7ecdb33595999d146356ce62c79582ccc79c9785788b7b005f889a'\n"
     ]
    }
   ],
   "source": [
    "# fetching nonce (count of transactions)\n",
    "nonce = w3.eth.getTransactionCount(from_address)\n",
    "\n",
    "transaction = {\n",
    "    'to': to_address,\n",
    "    'value': 200_000, # 0.0000000000002 Ether\n",
    "    'gas': 21_000,\n",
    "    'gasPrice': w3.eth.generateGasPrice(),\n",
    "    'nonce': nonce,\n",
    "    'chainId': chainId\n",
    "}\n",
    "\n",
    "signed = w3.eth.account.sign_transaction(transaction, from_private_key)\n",
    "\n",
    "print(f'Signed transaction: {binascii.b2a_hex(signed.rawTransaction)}')\n",
    "\n",
    "transaction_hash = w3.eth.sendRawTransaction(signed.rawTransaction)\n",
    "\n",
    "print(f'Transaction hash: {binascii.b2a_hex(transaction_hash)}')"
   ]
  },
  {
   "cell_type": "markdown",
   "metadata": {},
   "source": [
    "### Ethereum balance"
   ]
  },
  {
   "cell_type": "code",
   "execution_count": 25,
   "metadata": {
    "scrolled": true
   },
   "outputs": [
    {
     "data": {
      "text/html": [
       "<div>\n",
       "<style scoped>\n",
       "    .dataframe tbody tr th:only-of-type {\n",
       "        vertical-align: middle;\n",
       "    }\n",
       "\n",
       "    .dataframe tbody tr th {\n",
       "        vertical-align: top;\n",
       "    }\n",
       "\n",
       "    .dataframe thead th {\n",
       "        text-align: right;\n",
       "    }\n",
       "</style>\n",
       "<table border=\"1\" class=\"dataframe\">\n",
       "  <thead>\n",
       "    <tr style=\"text-align: right;\">\n",
       "      <th></th>\n",
       "      <th>Address</th>\n",
       "      <th>Balance</th>\n",
       "    </tr>\n",
       "  </thead>\n",
       "  <tbody>\n",
       "    <tr>\n",
       "      <th>0</th>\n",
       "      <td>0x88a007eC4F1819F24C0988fc9C26496b99b436D1</td>\n",
       "      <td>2.508182778065264123</td>\n",
       "    </tr>\n",
       "    <tr>\n",
       "      <th>1</th>\n",
       "      <td>0xab33D517b6A63A0B1C099b8438D6641cF1a984cC</td>\n",
       "      <td>1.002326564527903776</td>\n",
       "    </tr>\n",
       "    <tr>\n",
       "      <th>2</th>\n",
       "      <td>0xb76d3a5D568f339411a6f0697694cDDb6396df58</td>\n",
       "      <td>2.154467975998</td>\n",
       "    </tr>\n",
       "    <tr>\n",
       "      <th>3</th>\n",
       "      <td>0xcb64cD644D24b57a96287F61DfFeb402B01E23c6</td>\n",
       "      <td>0.998700340002</td>\n",
       "    </tr>\n",
       "    <tr>\n",
       "      <th>4</th>\n",
       "      <td>0x8396738b4Cb2A2a7Ca636161346a7cB22Ee06E25</td>\n",
       "      <td>3.979769</td>\n",
       "    </tr>\n",
       "    <tr>\n",
       "      <th>5</th>\n",
       "      <td>0xBd666C0Ec86628475b1602aBA0eBF45570A33d4d</td>\n",
       "      <td>3.01</td>\n",
       "    </tr>\n",
       "    <tr>\n",
       "      <th>6</th>\n",
       "      <td>0x46FF31E07D54a28c468c300325AfcdAc4c6b7F2e</td>\n",
       "      <td>4</td>\n",
       "    </tr>\n",
       "    <tr>\n",
       "      <th>7</th>\n",
       "      <td>0x44874A7d255dF37f5b9C91d173bEE6ab4441c881</td>\n",
       "      <td>4.1</td>\n",
       "    </tr>\n",
       "    <tr>\n",
       "      <th>8</th>\n",
       "      <td>0x9a2C78cad9e6c0Dc46820C37704065bb22E5Eab0</td>\n",
       "      <td>3</td>\n",
       "    </tr>\n",
       "    <tr>\n",
       "      <th>9</th>\n",
       "      <td>0x577C31aAd54366E7F8Cf931A804F409d20B6928C</td>\n",
       "      <td>2.99948678</td>\n",
       "    </tr>\n",
       "  </tbody>\n",
       "</table>\n",
       "</div>"
      ],
      "text/plain": [
       "                                      Address               Balance\n",
       "0  0x88a007eC4F1819F24C0988fc9C26496b99b436D1  2.508182778065264123\n",
       "1  0xab33D517b6A63A0B1C099b8438D6641cF1a984cC  1.002326564527903776\n",
       "2  0xb76d3a5D568f339411a6f0697694cDDb6396df58        2.154467975998\n",
       "3  0xcb64cD644D24b57a96287F61DfFeb402B01E23c6        0.998700340002\n",
       "4  0x8396738b4Cb2A2a7Ca636161346a7cB22Ee06E25              3.979769\n",
       "5  0xBd666C0Ec86628475b1602aBA0eBF45570A33d4d                  3.01\n",
       "6  0x46FF31E07D54a28c468c300325AfcdAc4c6b7F2e                     4\n",
       "7  0x44874A7d255dF37f5b9C91d173bEE6ab4441c881                   4.1\n",
       "8  0x9a2C78cad9e6c0Dc46820C37704065bb22E5Eab0                     3\n",
       "9  0x577C31aAd54366E7F8Cf931A804F409d20B6928C            2.99948678"
      ]
     },
     "execution_count": 25,
     "metadata": {},
     "output_type": "execute_result"
    }
   ],
   "source": [
    "addresses = [w3.toChecksumAddress(key.public_key.address()) for key in private_keys]\n",
    "balances = [w3.fromWei(w3.eth.getBalance(address), 'ether') for address in addresses]\n",
    "\n",
    "df = pd.DataFrame(zip(addresses,balances), columns = ['Address', 'Balance']) \n",
    "\n",
    "df"
   ]
  },
  {
   "cell_type": "markdown",
   "metadata": {},
   "source": [
    "### Send ERC20"
   ]
  },
  {
   "cell_type": "code",
   "execution_count": 21,
   "metadata": {},
   "outputs": [],
   "source": [
    "# read abi for ERC20 contract\n",
    "with open('erc20_abi.json', 'r') as file:\n",
    "    erc20_abi = file.read()"
   ]
  },
  {
   "cell_type": "code",
   "execution_count": 23,
   "metadata": {},
   "outputs": [
    {
     "name": "stdout",
     "output_type": "stream",
     "text": [
      "{'value': 0, 'chainId': 3, 'gas': 100000, 'gasPrice': 1545285073, 'nonce': 1017, 'to': '0x96f55B7d683EB46FF23aBEf2aFb41EB54FCF524b', 'data': '0xa9059cbb00000000000000000000000096f55b7d683eb46ff23abef2afb41eb54fcf524b0000000000000000000000000000000000000000000000000000000000000001'}\n",
      "Signed transaction: b'f8ab8203f9845c1b2dd1830186a09496f55b7d683eb46ff23abef2afb41eb54fcf524b80b844a9059cbb00000000000000000000000096f55b7d683eb46ff23abef2afb41eb54fcf524b00000000000000000000000000000000000000000000000000000000000000012aa04cdbe1e6f2f0ef3d1cac8a457b92d50bbc0fa941407ef194318c7f4db432eeffa0731bd5201f1d1f400f592a8789d8a35d2e7e8faea81900d8e7e2c09712cf9aa4'\n",
      "Transaction hash: b'8a2e8fc7f79763a7a5730e007b371f35d9ae304d86e4cb95297a99966f2a8513'\n"
     ]
    }
   ],
   "source": [
    "# Another Test Coin (ATC) ERC20\n",
    "erc20_contract_address = \"0x96f55B7d683EB46FF23aBEf2aFb41EB54FCF524b\"\n",
    "erc20_contract = w3.eth.contract(address=erc20_contract_address, abi=erc20_abi)\n",
    "\n",
    "# fetching nonce (count of transactions)\n",
    "nonce = w3.eth.getTransactionCount(from_address)\n",
    "\n",
    "erc20_transaction = erc20_contract.functions.transfer(erc20_contract_address, 1).buildTransaction(\n",
    "    {\n",
    "        'chainId': chainId,\n",
    "        'gas': 100_000,\n",
    "        'gasPrice': w3.eth.generateGasPrice(),\n",
    "        'nonce': nonce,\n",
    "    })\n",
    "\n",
    "print(erc20_transaction)\n",
    "\n",
    "signed_erc20_transaction = w3.eth.account.sign_transaction(erc20_transaction, from_private_key)\n",
    "\n",
    "print(f'Signed transaction: {binascii.b2a_hex(signed_erc20_transaction.rawTransaction)}')\n",
    "\n",
    "erc20_transaction_hash = w3.eth.sendRawTransaction(signed_erc20_transaction.rawTransaction)\n",
    "\n",
    "print(f'Transaction hash: {binascii.b2a_hex(erc20_transaction_hash)}')"
   ]
  },
  {
   "cell_type": "markdown",
   "metadata": {},
   "source": [
    "### ERC20 balances"
   ]
  },
  {
   "cell_type": "code",
   "execution_count": 28,
   "metadata": {},
   "outputs": [
    {
     "data": {
      "text/html": [
       "<div>\n",
       "<style scoped>\n",
       "    .dataframe tbody tr th:only-of-type {\n",
       "        vertical-align: middle;\n",
       "    }\n",
       "\n",
       "    .dataframe tbody tr th {\n",
       "        vertical-align: top;\n",
       "    }\n",
       "\n",
       "    .dataframe thead th {\n",
       "        text-align: right;\n",
       "    }\n",
       "</style>\n",
       "<table border=\"1\" class=\"dataframe\">\n",
       "  <thead>\n",
       "    <tr style=\"text-align: right;\">\n",
       "      <th></th>\n",
       "      <th>Address</th>\n",
       "      <th>Balance</th>\n",
       "    </tr>\n",
       "  </thead>\n",
       "  <tbody>\n",
       "    <tr>\n",
       "      <th>0</th>\n",
       "      <td>0x88a007eC4F1819F24C0988fc9C26496b99b436D1</td>\n",
       "      <td>6689.273300</td>\n",
       "    </tr>\n",
       "    <tr>\n",
       "      <th>1</th>\n",
       "      <td>0xab33D517b6A63A0B1C099b8438D6641cF1a984cC</td>\n",
       "      <td>179.315696</td>\n",
       "    </tr>\n",
       "    <tr>\n",
       "      <th>2</th>\n",
       "      <td>0xb76d3a5D568f339411a6f0697694cDDb6396df58</td>\n",
       "      <td>208.992688</td>\n",
       "    </tr>\n",
       "    <tr>\n",
       "      <th>3</th>\n",
       "      <td>0xcb64cD644D24b57a96287F61DfFeb402B01E23c6</td>\n",
       "      <td>112.454000</td>\n",
       "    </tr>\n",
       "    <tr>\n",
       "      <th>4</th>\n",
       "      <td>0x8396738b4Cb2A2a7Ca636161346a7cB22Ee06E25</td>\n",
       "      <td>109.750000</td>\n",
       "    </tr>\n",
       "    <tr>\n",
       "      <th>5</th>\n",
       "      <td>0xBd666C0Ec86628475b1602aBA0eBF45570A33d4d</td>\n",
       "      <td>52.740000</td>\n",
       "    </tr>\n",
       "    <tr>\n",
       "      <th>6</th>\n",
       "      <td>0x46FF31E07D54a28c468c300325AfcdAc4c6b7F2e</td>\n",
       "      <td>131.410000</td>\n",
       "    </tr>\n",
       "    <tr>\n",
       "      <th>7</th>\n",
       "      <td>0x44874A7d255dF37f5b9C91d173bEE6ab4441c881</td>\n",
       "      <td>105.320000</td>\n",
       "    </tr>\n",
       "    <tr>\n",
       "      <th>8</th>\n",
       "      <td>0x9a2C78cad9e6c0Dc46820C37704065bb22E5Eab0</td>\n",
       "      <td>108.510000</td>\n",
       "    </tr>\n",
       "    <tr>\n",
       "      <th>9</th>\n",
       "      <td>0x577C31aAd54366E7F8Cf931A804F409d20B6928C</td>\n",
       "      <td>33.590000</td>\n",
       "    </tr>\n",
       "  </tbody>\n",
       "</table>\n",
       "</div>"
      ],
      "text/plain": [
       "                                      Address      Balance\n",
       "0  0x88a007eC4F1819F24C0988fc9C26496b99b436D1  6689.273300\n",
       "1  0xab33D517b6A63A0B1C099b8438D6641cF1a984cC   179.315696\n",
       "2  0xb76d3a5D568f339411a6f0697694cDDb6396df58   208.992688\n",
       "3  0xcb64cD644D24b57a96287F61DfFeb402B01E23c6   112.454000\n",
       "4  0x8396738b4Cb2A2a7Ca636161346a7cB22Ee06E25   109.750000\n",
       "5  0xBd666C0Ec86628475b1602aBA0eBF45570A33d4d    52.740000\n",
       "6  0x46FF31E07D54a28c468c300325AfcdAc4c6b7F2e   131.410000\n",
       "7  0x44874A7d255dF37f5b9C91d173bEE6ab4441c881   105.320000\n",
       "8  0x9a2C78cad9e6c0Dc46820C37704065bb22E5Eab0   108.510000\n",
       "9  0x577C31aAd54366E7F8Cf931A804F409d20B6928C    33.590000"
      ]
     },
     "execution_count": 28,
     "metadata": {},
     "output_type": "execute_result"
    }
   ],
   "source": [
    "decimals = 10 ** erc20_contract.functions.decimals().call()\n",
    "\n",
    "erc20_addresses = [w3.toChecksumAddress(key.public_key.address()) for key in private_keys]\n",
    "erc20_balances = [(erc20_contract.functions.balanceOf(address).call() / decimals) for address in erc20_addresses]\n",
    "\n",
    "df = pd.DataFrame(zip(erc20_addresses, erc20_balances), columns=['Address', 'Balance'])\n",
    "\n",
    "df"
   ]
  }
 ],
 "metadata": {
  "kernelspec": {
   "display_name": "my-virtualenv-name",
   "language": "python",
   "name": "my-virtualenv-name"
  },
  "language_info": {
   "codemirror_mode": {
    "name": "ipython",
    "version": 3
   },
   "file_extension": ".py",
   "mimetype": "text/x-python",
   "name": "python",
   "nbconvert_exporter": "python",
   "pygments_lexer": "ipython3",
   "version": "3.7.4"
  }
 },
 "nbformat": 4,
 "nbformat_minor": 2
}
