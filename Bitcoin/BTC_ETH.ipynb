{
 "cells": [
  {
   "cell_type": "markdown",
   "metadata": {},
   "source": [
    "# Bitcoin and Ethereum derivation, balances"
   ]
  },
  {
   "cell_type": "code",
   "execution_count": 1,
   "metadata": {},
   "outputs": [],
   "source": [
    "from IPython.display import display\n",
    "from ipywidgets import widgets, Layout\n",
    "import time\n",
    "\n",
    "from web3 import Web3, middleware\n",
    "from web3.gas_strategies.time_based import fast_gas_price_strategy\n",
    "\n",
    "from crypto_eth import HDPrivateKey, HDKey\n",
    "import pandas as pd\n",
    "from binascii import hexlify"
   ]
  },
  {
   "cell_type": "code",
   "execution_count": 22,
   "metadata": {
    "scrolled": true
   },
   "outputs": [],
   "source": [
    "phrase = 'trade icon company use feature fee fuck double inhale gift news long'\n",
    "\n",
    "# text = widgets.Text(\n",
    "#     description='Phrase:',\n",
    "#     layout=Layout(width=\"70%\")\n",
    "# )\n",
    "# display(text)\n",
    "\n",
    "# def handle(sender):\n",
    "#     global phrase\n",
    "#     phrase = text.value\n",
    "#     text.value =\"\"\n",
    "    \n",
    "# text.on_submit(handle)"
   ]
  },
  {
   "cell_type": "markdown",
   "metadata": {},
   "source": [
    "## Ethereum"
   ]
  },
  {
   "cell_type": "code",
   "execution_count": 23,
   "metadata": {},
   "outputs": [
    {
     "data": {
      "text/html": [
       "<div>\n",
       "<style scoped>\n",
       "    .dataframe tbody tr th:only-of-type {\n",
       "        vertical-align: middle;\n",
       "    }\n",
       "\n",
       "    .dataframe tbody tr th {\n",
       "        vertical-align: top;\n",
       "    }\n",
       "\n",
       "    .dataframe thead th {\n",
       "        text-align: right;\n",
       "    }\n",
       "</style>\n",
       "<table border=\"1\" class=\"dataframe\">\n",
       "  <thead>\n",
       "    <tr style=\"text-align: right;\">\n",
       "      <th></th>\n",
       "      <th>Address</th>\n",
       "    </tr>\n",
       "  </thead>\n",
       "  <tbody>\n",
       "    <tr>\n",
       "      <th>0</th>\n",
       "      <td>0xf9da833071e10e51604f6f76a97a534e27bb4045</td>\n",
       "    </tr>\n",
       "    <tr>\n",
       "      <th>1</th>\n",
       "      <td>0x85ed8705b0a1805ef4f46c5be2a83ea1cc61b94c</td>\n",
       "    </tr>\n",
       "    <tr>\n",
       "      <th>2</th>\n",
       "      <td>0xe934498f1f4c4436f1dc4009620d44fd1c0af248</td>\n",
       "    </tr>\n",
       "    <tr>\n",
       "      <th>3</th>\n",
       "      <td>0xac4523128c569ffb2dd01ac31f2297f102d8e3fb</td>\n",
       "    </tr>\n",
       "    <tr>\n",
       "      <th>4</th>\n",
       "      <td>0xda9a39fa3eda9546105e2a7e8604349454a5ae30</td>\n",
       "    </tr>\n",
       "    <tr>\n",
       "      <th>5</th>\n",
       "      <td>0x8ef6a07cb37f9ba586fd63247c96dfe42def687c</td>\n",
       "    </tr>\n",
       "    <tr>\n",
       "      <th>6</th>\n",
       "      <td>0x1d2e715af782d06fb772a6c445f2b13fc2746d5f</td>\n",
       "    </tr>\n",
       "    <tr>\n",
       "      <th>7</th>\n",
       "      <td>0x938293f1bdc9893e8cb773960d8b513d4cc0b91f</td>\n",
       "    </tr>\n",
       "    <tr>\n",
       "      <th>8</th>\n",
       "      <td>0xfe2776d5a3a687ff84d78d48038ccaa0e43a970b</td>\n",
       "    </tr>\n",
       "    <tr>\n",
       "      <th>9</th>\n",
       "      <td>0xbd42b762639f2eadd1346773ab065ae9a743657e</td>\n",
       "    </tr>\n",
       "  </tbody>\n",
       "</table>\n",
       "</div>"
      ],
      "text/plain": [
       "                                      Address\n",
       "0  0xf9da833071e10e51604f6f76a97a534e27bb4045\n",
       "1  0x85ed8705b0a1805ef4f46c5be2a83ea1cc61b94c\n",
       "2  0xe934498f1f4c4436f1dc4009620d44fd1c0af248\n",
       "3  0xac4523128c569ffb2dd01ac31f2297f102d8e3fb\n",
       "4  0xda9a39fa3eda9546105e2a7e8604349454a5ae30\n",
       "5  0x8ef6a07cb37f9ba586fd63247c96dfe42def687c\n",
       "6  0x1d2e715af782d06fb772a6c445f2b13fc2746d5f\n",
       "7  0x938293f1bdc9893e8cb773960d8b513d4cc0b91f\n",
       "8  0xfe2776d5a3a687ff84d78d48038ccaa0e43a970b\n",
       "9  0xbd42b762639f2eadd1346773ab065ae9a743657e"
      ]
     },
     "execution_count": 23,
     "metadata": {},
     "output_type": "execute_result"
    }
   ],
   "source": [
    "master_key = HDPrivateKey.master_key_from_mnemonic(phrase)\n",
    "\n",
    "root_keys = HDKey.from_path(master_key, \"m/44'/60'/0'\")\n",
    "acct_priv_key = root_keys[-1]\n",
    "private_keys = []\n",
    "addresses = []\n",
    "\n",
    "ETHLEN = 10\n",
    "\n",
    "# derivation example for Ethereum generate first 10 addresses\n",
    "for i in range(ETHLEN):\n",
    "    keys = HDKey.from_path(acct_priv_key, '{change}/{index}'.format(change=0, index=i))\n",
    "    private_key = keys[-1]\n",
    "    public_key = private_key.public_key\n",
    "    private_keys.append(private_key)\n",
    "    addresses.append(private_key.public_key.address())\n",
    "    \n",
    "\n",
    "df = pd.DataFrame(addresses, columns = ['Address']) \n",
    "\n",
    "df"
   ]
  },
  {
   "cell_type": "code",
   "execution_count": 24,
   "metadata": {},
   "outputs": [],
   "source": [
    "# use infura endpoint\n",
    "# endpoint_url = 'wss://ropsten.infura.io/ws/adc06f70568e46d88376a8a3a30e5497'\n",
    "endpoint_url = 'https://ropsten.infura.io/v3/adc06f70568e46d88376a8a3a30e5497'\n",
    "\n",
    "# Ropsten chainId is 3\n",
    "chainId = 3\n",
    "\n",
    "# setup connection\n",
    "w3 = Web3(Web3.HTTPProvider(endpoint_url))\n",
    "if not w3.isConnected():\n",
    "    print('Can\\'t connect to Web3 endpoint')\n",
    "\n",
    "# select gas price strategy\n",
    "w3.eth.setGasPriceStrategy(fast_gas_price_strategy)"
   ]
  },
  {
   "cell_type": "code",
   "execution_count": 25,
   "metadata": {},
   "outputs": [
    {
     "ename": "Exception",
     "evalue": "Wrong phrase!",
     "output_type": "error",
     "traceback": [
      "\u001b[0;31m---------------------------------------------------------------------------\u001b[0m",
      "\u001b[0;31mException\u001b[0m                                 Traceback (most recent call last)",
      "\u001b[0;32m<ipython-input-25-dd1e5ddd0978>\u001b[0m in \u001b[0;36m<module>\u001b[0;34m\u001b[0m\n\u001b[1;32m      3\u001b[0m \u001b[0;34m\u001b[0m\u001b[0m\n\u001b[1;32m      4\u001b[0m \u001b[0;32mif\u001b[0m \u001b[0mfloat\u001b[0m\u001b[0;34m(\u001b[0m\u001b[0mbalances\u001b[0m\u001b[0;34m[\u001b[0m\u001b[0;36m0\u001b[0m\u001b[0;34m]\u001b[0m\u001b[0;34m)\u001b[0m \u001b[0;34m<=\u001b[0m \u001b[0;36m0\u001b[0m\u001b[0;34m:\u001b[0m\u001b[0;34m\u001b[0m\u001b[0;34m\u001b[0m\u001b[0m\n\u001b[0;32m----> 5\u001b[0;31m     \u001b[0;32mraise\u001b[0m \u001b[0mException\u001b[0m\u001b[0;34m(\u001b[0m\u001b[0;34m'Wrong phrase!'\u001b[0m\u001b[0;34m)\u001b[0m\u001b[0;34m\u001b[0m\u001b[0;34m\u001b[0m\u001b[0m\n\u001b[0m\u001b[1;32m      6\u001b[0m \u001b[0mdf\u001b[0m \u001b[0;34m=\u001b[0m \u001b[0mpd\u001b[0m\u001b[0;34m.\u001b[0m\u001b[0mDataFrame\u001b[0m\u001b[0;34m(\u001b[0m\u001b[0mzip\u001b[0m\u001b[0;34m(\u001b[0m\u001b[0maddresses\u001b[0m\u001b[0;34m,\u001b[0m\u001b[0mbalances\u001b[0m\u001b[0;34m)\u001b[0m\u001b[0;34m,\u001b[0m \u001b[0mcolumns\u001b[0m \u001b[0;34m=\u001b[0m \u001b[0;34m[\u001b[0m\u001b[0;34m'Address'\u001b[0m\u001b[0;34m,\u001b[0m \u001b[0;34m'Balance'\u001b[0m\u001b[0;34m]\u001b[0m\u001b[0;34m)\u001b[0m\u001b[0;34m\u001b[0m\u001b[0;34m\u001b[0m\u001b[0m\n\u001b[1;32m      7\u001b[0m \u001b[0mdf\u001b[0m\u001b[0;34m\u001b[0m\u001b[0;34m\u001b[0m\u001b[0m\n",
      "\u001b[0;31mException\u001b[0m: Wrong phrase!"
     ]
    }
   ],
   "source": [
    "addresses = [w3.toChecksumAddress(key.public_key.address()) for key in private_keys]\n",
    "balances = [w3.fromWei(w3.eth.getBalance(address), 'ether') for address in addresses]\n",
    "\n",
    "if float(balances[0]) <= 0:\n",
    "    raise Exception('Wrong phrase!')\n",
    "df = pd.DataFrame(zip(addresses,balances), columns = ['Address', 'Balance'])\n",
    "df"
   ]
  },
  {
   "cell_type": "markdown",
   "metadata": {},
   "source": [
    "## Bitcoin"
   ]
  },
  {
   "cell_type": "code",
   "execution_count": 6,
   "metadata": {},
   "outputs": [],
   "source": [
    "from pybip44 import HDPrivateKey as BtcHDPrivateKey\n",
    "import requests\n",
    "\n",
    "from bitcoin_gp import BitcoinGP, Fee"
   ]
  },
  {
   "cell_type": "code",
   "execution_count": 27,
   "metadata": {},
   "outputs": [
    {
     "data": {
      "text/html": [
       "<div>\n",
       "<style scoped>\n",
       "    .dataframe tbody tr th:only-of-type {\n",
       "        vertical-align: middle;\n",
       "    }\n",
       "\n",
       "    .dataframe tbody tr th {\n",
       "        vertical-align: top;\n",
       "    }\n",
       "\n",
       "    .dataframe thead th {\n",
       "        text-align: right;\n",
       "    }\n",
       "</style>\n",
       "<table border=\"1\" class=\"dataframe\">\n",
       "  <thead>\n",
       "    <tr style=\"text-align: right;\">\n",
       "      <th></th>\n",
       "      <th>Address</th>\n",
       "    </tr>\n",
       "  </thead>\n",
       "  <tbody>\n",
       "    <tr>\n",
       "      <th>0</th>\n",
       "      <td>mjhDqt76W6piQ7tHZZLid674TmC4c49tVn</td>\n",
       "    </tr>\n",
       "    <tr>\n",
       "      <th>1</th>\n",
       "      <td>mkx1ajkkvcAMxVbRNzuzEsVeznwMYJJB85</td>\n",
       "    </tr>\n",
       "    <tr>\n",
       "      <th>2</th>\n",
       "      <td>mosHSEacF7UCRgFCmPnr7u1aEUqpPRWfV6</td>\n",
       "    </tr>\n",
       "    <tr>\n",
       "      <th>3</th>\n",
       "      <td>mjXCAC3NNeJU3kiJ12KQbBY4LzBo4zzdL2</td>\n",
       "    </tr>\n",
       "    <tr>\n",
       "      <th>4</th>\n",
       "      <td>mfoYaaHVFckrcKgXJ7KQg4MHUeRARPJVo9</td>\n",
       "    </tr>\n",
       "    <tr>\n",
       "      <th>5</th>\n",
       "      <td>mqyfBSvJFZ7B5LCegcQosXkRrcpwcJJ1kY</td>\n",
       "    </tr>\n",
       "    <tr>\n",
       "      <th>6</th>\n",
       "      <td>mqHYvMSWy46YagiFj2uvyBSwKGY4uUC7Yz</td>\n",
       "    </tr>\n",
       "    <tr>\n",
       "      <th>7</th>\n",
       "      <td>n3uYpmQsqEFCrcwPgsdjpyeSPjCQSNf9Ey</td>\n",
       "    </tr>\n",
       "    <tr>\n",
       "      <th>8</th>\n",
       "      <td>mgvriZH7gY2YnBrQ5zfFPF5qH1QdHxtknm</td>\n",
       "    </tr>\n",
       "    <tr>\n",
       "      <th>9</th>\n",
       "      <td>mgrwCrAzdEqDYPosBJFYoSypL2QHwToymM</td>\n",
       "    </tr>\n",
       "  </tbody>\n",
       "</table>\n",
       "</div>"
      ],
      "text/plain": [
       "                              Address\n",
       "0  mjhDqt76W6piQ7tHZZLid674TmC4c49tVn\n",
       "1  mkx1ajkkvcAMxVbRNzuzEsVeznwMYJJB85\n",
       "2  mosHSEacF7UCRgFCmPnr7u1aEUqpPRWfV6\n",
       "3  mjXCAC3NNeJU3kiJ12KQbBY4LzBo4zzdL2\n",
       "4  mfoYaaHVFckrcKgXJ7KQg4MHUeRARPJVo9\n",
       "5  mqyfBSvJFZ7B5LCegcQosXkRrcpwcJJ1kY\n",
       "6  mqHYvMSWy46YagiFj2uvyBSwKGY4uUC7Yz\n",
       "7  n3uYpmQsqEFCrcwPgsdjpyeSPjCQSNf9Ey\n",
       "8  mgvriZH7gY2YnBrQ5zfFPF5qH1QdHxtknm\n",
       "9  mgrwCrAzdEqDYPosBJFYoSypL2QHwToymM"
      ]
     },
     "execution_count": 27,
     "metadata": {},
     "output_type": "execute_result"
    }
   ],
   "source": [
    "master_key = BtcHDPrivateKey.master_key_from_mnemonic(phrase, 'btc')\n",
    "\n",
    "# to switch between test and main network, you need to change 'coin' in derivation path m/44'/{coin}'/0\n",
    "# for Main coin is 0\n",
    "# for Test coin is 1\n",
    "root_key = BtcHDPrivateKey.from_path(master_key, \"m/44'/1'/0'\")\n",
    "\n",
    "private_keys = []\n",
    "addresses = []\n",
    "\n",
    "for i in range(10):\n",
    "    private_key = BtcHDPrivateKey.from_path(root_key, '{change}/{index}'.format(change=0, index=i))\n",
    "    private_keys.append(private_key.to_hex())\n",
    "    public_key = private_key.public_key\n",
    "#     print(f'\\tPublic Key: {public_key.to_hex()}')\n",
    "#     print(f'\\tPrivate Key: {private_key.to_hex()}')\n",
    "    \n",
    "    # and here you need to change main_net parameter\n",
    "    addresses.append(public_key.address(main_net=False))\n",
    "\n",
    "    \n",
    "df = pd.DataFrame(addresses, columns = ['Address']) \n",
    "\n",
    "df"
   ]
  },
  {
   "cell_type": "code",
   "execution_count": 28,
   "metadata": {
    "scrolled": true
   },
   "outputs": [
    {
     "ename": "Exception",
     "evalue": "Wrong phrase!",
     "output_type": "error",
     "traceback": [
      "\u001b[0;31m---------------------------------------------------------------------------\u001b[0m",
      "\u001b[0;31mException\u001b[0m                                 Traceback (most recent call last)",
      "\u001b[0;32m<ipython-input-28-168fbf2f6339>\u001b[0m in \u001b[0;36m<module>\u001b[0;34m\u001b[0m\n\u001b[1;32m     18\u001b[0m \u001b[0;34m\u001b[0m\u001b[0m\n\u001b[1;32m     19\u001b[0m \u001b[0;32mif\u001b[0m \u001b[0mfloat\u001b[0m\u001b[0;34m(\u001b[0m\u001b[0mbalances\u001b[0m\u001b[0;34m[\u001b[0m\u001b[0;36m0\u001b[0m\u001b[0;34m]\u001b[0m\u001b[0;34m)\u001b[0m \u001b[0;34m<=\u001b[0m \u001b[0;36m0\u001b[0m\u001b[0;34m:\u001b[0m\u001b[0;34m\u001b[0m\u001b[0;34m\u001b[0m\u001b[0m\n\u001b[0;32m---> 20\u001b[0;31m     \u001b[0;32mraise\u001b[0m \u001b[0mException\u001b[0m\u001b[0;34m(\u001b[0m\u001b[0;34m'Wrong phrase!'\u001b[0m\u001b[0;34m)\u001b[0m\u001b[0;34m\u001b[0m\u001b[0;34m\u001b[0m\u001b[0m\n\u001b[0m\u001b[1;32m     21\u001b[0m \u001b[0mdf\u001b[0m \u001b[0;34m=\u001b[0m \u001b[0mpd\u001b[0m\u001b[0;34m.\u001b[0m\u001b[0mDataFrame\u001b[0m\u001b[0;34m(\u001b[0m\u001b[0mzip\u001b[0m\u001b[0;34m(\u001b[0m\u001b[0maddresses\u001b[0m\u001b[0;34m,\u001b[0m \u001b[0mbalances_confirmed\u001b[0m\u001b[0;34m,\u001b[0m \u001b[0mbalances_unconfirmed\u001b[0m\u001b[0;34m)\u001b[0m\u001b[0;34m,\u001b[0m \u001b[0mcolumns\u001b[0m \u001b[0;34m=\u001b[0m \u001b[0;34m[\u001b[0m\u001b[0;34m'Address'\u001b[0m\u001b[0;34m,\u001b[0m \u001b[0;34m'Balance (confirmed)'\u001b[0m\u001b[0;34m,\u001b[0m \u001b[0;34m'Balance (unconfirmed)'\u001b[0m\u001b[0;34m]\u001b[0m\u001b[0;34m)\u001b[0m\u001b[0;34m\u001b[0m\u001b[0;34m\u001b[0m\u001b[0m\n\u001b[1;32m     22\u001b[0m \u001b[0mdf\u001b[0m\u001b[0;34m\u001b[0m\u001b[0;34m\u001b[0m\u001b[0m\n",
      "\u001b[0;31mException\u001b[0m: Wrong phrase!"
     ]
    }
   ],
   "source": [
    "decimals = 10 ** 8\n",
    "\n",
    "# here test net node on https://testgate.geniepay.io/v1/\n",
    "# and main net on https://gate.geniepay.io/v1/\n",
    "# url = 'https://gate.geniepay.io/v1/'\n",
    "url = 'https://testgate.geniepay.io/v1/'\n",
    "btc_gp = BitcoinGP(url, main_net = False)\n",
    "\n",
    "balances_confirmed = []\n",
    "\n",
    "balances_unconfirmed = []\n",
    "\n",
    "\n",
    "for address in addresses:\n",
    "    balance = btc_gp.get_balance(address)\n",
    "    balances_confirmed.append(balance['confirmed'] / decimals)\n",
    "    balances_unconfirmed.append(balance['unconfirmed'] / decimals)\n",
    "    \n",
    "if float(balances[0]) <= 0:\n",
    "    raise Exception('Wrong phrase!')   \n",
    "df = pd.DataFrame(zip(addresses, balances_confirmed, balances_unconfirmed), columns = ['Address', 'Balance (confirmed)', 'Balance (unconfirmed)']) \n",
    "df"
   ]
  }
 ],
 "metadata": {
  "kernelspec": {
   "display_name": "my-virtualenv-name",
   "language": "python",
   "name": "my-virtualenv-name"
  },
  "language_info": {
   "codemirror_mode": {
    "name": "ipython",
    "version": 3
   },
   "file_extension": ".py",
   "mimetype": "text/x-python",
   "name": "python",
   "nbconvert_exporter": "python",
   "pygments_lexer": "ipython3",
   "version": "3.6.9"
  },
  "pycharm": {
   "stem_cell": {
    "cell_type": "raw",
    "metadata": {
     "collapsed": false
    },
    "source": []
   }
  }
 },
 "nbformat": 4,
 "nbformat_minor": 2
}
