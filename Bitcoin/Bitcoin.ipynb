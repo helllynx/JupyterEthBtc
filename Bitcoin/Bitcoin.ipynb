{
 "cells": [
  {
   "cell_type": "markdown",
   "metadata": {},
   "source": [
    "# Bitcoin derivation and transaction manual"
   ]
  },
  {
   "cell_type": "code",
   "execution_count": 23,
   "metadata": {},
   "outputs": [],
   "source": [
    "from pybip44 import HDPrivateKey\n",
    "import requests\n",
    "import pandas as pd"
   ]
  },
  {
   "cell_type": "markdown",
   "metadata": {},
   "source": [
    "## Direvation"
   ]
  },
  {
   "cell_type": "code",
   "execution_count": 17,
   "metadata": {},
   "outputs": [
    {
     "name": "stdout",
     "output_type": "stream",
     "text": [
      "Index 0:\n",
      "\tPublic Key: 024580d58d11e1afd37e71649e786fc5129f4ccd611a173a22a169c386d4da08b3\n",
      "\tPrivate Key: 02ef7b9791c17f35bb7f18f46209c984dc8a0317813166e5c00e7c06af5bdb9b\n",
      "\tAddress: mtQbvrrZd9kDLLNfJHaHHhu1t3jHx1c3Jh\n",
      "----------------------------------------------------------------------------------------------------\n",
      "Index 1:\n",
      "\tPublic Key: 027739a5d095625e79f393bc402ca9c1172818cacc1020bfabd6e4feb6b958842a\n",
      "\tPrivate Key: ab45ea109e4f9952f57da244af9c5b548eacdbb094fe3ea56fa5a219415201a5\n",
      "\tAddress: mrG7g5qttebyfWar9MjYex9aDsDdVFGFLg\n",
      "----------------------------------------------------------------------------------------------------\n",
      "Index 2:\n",
      "\tPublic Key: 0279bb5b80f2234d75d756539d2c011faf51973a112883c05e49fce043949232a9\n",
      "\tPrivate Key: 2a8277a4528549725dbb640a7f0d8547817b0ee40bf438575d64ca8719a13071\n",
      "\tAddress: mwPdt1EndTm1C1CZyXNUjYmKACo5JTRonZ\n",
      "----------------------------------------------------------------------------------------------------\n",
      "Index 3:\n",
      "\tPublic Key: 037968e4488f5ea53ce5857e2a3759a6985a09fa7fe9daf342b1a2400e4f13dbc4\n",
      "\tPrivate Key: 58278dfff185232aa0dd69e7cd2d27973518d9707e8a9127e9506b04c63901ba\n",
      "\tAddress: mssTb1GWSotwnq4UVxhKashVhZLo1zLqEC\n",
      "----------------------------------------------------------------------------------------------------\n",
      "Index 4:\n",
      "\tPublic Key: 030107202a1ad22105ea4c348ff6ef2f7d64fe230e528531607a93698df6976fec\n",
      "\tPrivate Key: 65f67e948fafd80deb13a9e8ec476a1cd71c81b5da773e96a9654ee287f70c8d\n",
      "\tAddress: mr6fvKLjX2vsctMgirAMbSrYorPijUbpeK\n",
      "----------------------------------------------------------------------------------------------------\n",
      "Index 5:\n",
      "\tPublic Key: 037d6067f8451ce3981555ab4ddbab92889cce4c0d76dde306ffefd0161a5f8721\n",
      "\tPrivate Key: 2c1ac2efaf5f30a4e1d4f3234758727e8ceb20f83e0d0558cc2cdfc08210b0ef\n",
      "\tAddress: mn6ooSwPCwR4NpW6Ce8TKvy85zVM8tcY7j\n",
      "----------------------------------------------------------------------------------------------------\n",
      "Index 6:\n",
      "\tPublic Key: 0201054230362a1d56486aa6d32b5543053b75923a647456ba560d1ef05045e0d0\n",
      "\tPrivate Key: 69e8de323a2f19c3744e193ee3a780db9a84cc84de7793afd273fd042ad1648c\n",
      "\tAddress: mnXM94JpsQjawV7b4m6WuZRj9dBijhamBg\n",
      "----------------------------------------------------------------------------------------------------\n",
      "Index 7:\n",
      "\tPublic Key: 03d74e3075b60d636b0a0b3fc55307d6b354ee9577eaa74191b5d5f005e64302e2\n",
      "\tPrivate Key: 2711b4a67a6c73acdeaf87e69ed7cbc384106ef24c790c74d9297a8e93fb4667\n",
      "\tAddress: msFoXfhbwMKsVzNsj39hZeVhrmWBQJQ5iK\n",
      "----------------------------------------------------------------------------------------------------\n",
      "Index 8:\n",
      "\tPublic Key: 033b2310cfddd45539aabe775debe82833b9a359a271b7c4a543ba71b68e724509\n",
      "\tPrivate Key: 7e7521f923ed33d54e5b02b6c62d60de6a2747f49310fbed0a0a42994acb0e05\n",
      "\tAddress: mxVzrH4MSieXT4KbG53cQ4BmFw66kQuKnG\n",
      "----------------------------------------------------------------------------------------------------\n",
      "Index 9:\n",
      "\tPublic Key: 03be65408cfb8dd8dfd92af533caed48ac4bc616aaafb50899c31cb769f0185a74\n",
      "\tPrivate Key: b4b5d2e60d1ae9e5e2611cee1378f020fb0b3e6e3b0b8db8959196277589602c\n",
      "\tAddress: mmSzVX7xnRBNTDq9ahJzZZCL3zfanUizaU\n",
      "----------------------------------------------------------------------------------------------------\n"
     ]
    }
   ],
   "source": [
    "master_key = HDPrivateKey.master_key_from_mnemonic(\n",
    "    'trade icon company use feature fee order double inhale gift news long', 'btc')\n",
    "\n",
    "# to switch between test and main network, you need to change 'coin' in derivation path m/44'/{coin}'/0\n",
    "# for Main coin is 0\n",
    "# for Test coin is 1\n",
    "root_key = HDPrivateKey.from_path(master_key, \"m/44'/1'/0'\")\n",
    "\n",
    "private_keys = []\n",
    "\n",
    "for i in range(10):\n",
    "    private_key = HDPrivateKey.from_path(root_key, '{change}/{index}'.format(change=0, index=i))\n",
    "    private_keys.append(private_key)\n",
    "    public_key = private_key.public_key\n",
    "    print(f'Index {i}:')\n",
    "    print(f'\\tPublic Key: {public_key.to_hex()}')\n",
    "    print(f'\\tPrivate Key: {private_key.to_hex()}')\n",
    "    \n",
    "    # and here you need to change main_net parameter\n",
    "    print(f'\\tAddress: {public_key.address(main_net=False)}')\n",
    "    print('-' * 100)"
   ]
  },
  {
   "cell_type": "markdown",
   "metadata": {},
   "source": [
    "## Balances"
   ]
  },
  {
   "cell_type": "code",
   "execution_count": 25,
   "metadata": {},
   "outputs": [
    {
     "data": {
      "text/html": [
       "<div>\n",
       "<style scoped>\n",
       "    .dataframe tbody tr th:only-of-type {\n",
       "        vertical-align: middle;\n",
       "    }\n",
       "\n",
       "    .dataframe tbody tr th {\n",
       "        vertical-align: top;\n",
       "    }\n",
       "\n",
       "    .dataframe thead th {\n",
       "        text-align: right;\n",
       "    }\n",
       "</style>\n",
       "<table border=\"1\" class=\"dataframe\">\n",
       "  <thead>\n",
       "    <tr style=\"text-align: right;\">\n",
       "      <th></th>\n",
       "      <th>Address</th>\n",
       "      <th>Balance (confirmed)</th>\n",
       "    </tr>\n",
       "  </thead>\n",
       "  <tbody>\n",
       "    <tr>\n",
       "      <th>0</th>\n",
       "      <td>mtQbvrrZd9kDLLNfJHaHHhu1t3jHx1c3Jh</td>\n",
       "      <td>0.025732</td>\n",
       "    </tr>\n",
       "    <tr>\n",
       "      <th>1</th>\n",
       "      <td>mrG7g5qttebyfWar9MjYex9aDsDdVFGFLg</td>\n",
       "      <td>0.026889</td>\n",
       "    </tr>\n",
       "    <tr>\n",
       "      <th>2</th>\n",
       "      <td>mwPdt1EndTm1C1CZyXNUjYmKACo5JTRonZ</td>\n",
       "      <td>0.008749</td>\n",
       "    </tr>\n",
       "    <tr>\n",
       "      <th>3</th>\n",
       "      <td>mssTb1GWSotwnq4UVxhKashVhZLo1zLqEC</td>\n",
       "      <td>0.002685</td>\n",
       "    </tr>\n",
       "    <tr>\n",
       "      <th>4</th>\n",
       "      <td>mr6fvKLjX2vsctMgirAMbSrYorPijUbpeK</td>\n",
       "      <td>0.000430</td>\n",
       "    </tr>\n",
       "    <tr>\n",
       "      <th>5</th>\n",
       "      <td>mn6ooSwPCwR4NpW6Ce8TKvy85zVM8tcY7j</td>\n",
       "      <td>0.000958</td>\n",
       "    </tr>\n",
       "    <tr>\n",
       "      <th>6</th>\n",
       "      <td>mnXM94JpsQjawV7b4m6WuZRj9dBijhamBg</td>\n",
       "      <td>0.000381</td>\n",
       "    </tr>\n",
       "    <tr>\n",
       "      <th>7</th>\n",
       "      <td>msFoXfhbwMKsVzNsj39hZeVhrmWBQJQ5iK</td>\n",
       "      <td>0.000671</td>\n",
       "    </tr>\n",
       "    <tr>\n",
       "      <th>8</th>\n",
       "      <td>mxVzrH4MSieXT4KbG53cQ4BmFw66kQuKnG</td>\n",
       "      <td>0.001601</td>\n",
       "    </tr>\n",
       "    <tr>\n",
       "      <th>9</th>\n",
       "      <td>mmSzVX7xnRBNTDq9ahJzZZCL3zfanUizaU</td>\n",
       "      <td>0.000048</td>\n",
       "    </tr>\n",
       "  </tbody>\n",
       "</table>\n",
       "</div>"
      ],
      "text/plain": [
       "                              Address  Balance (confirmed)\n",
       "0  mtQbvrrZd9kDLLNfJHaHHhu1t3jHx1c3Jh             0.025732\n",
       "1  mrG7g5qttebyfWar9MjYex9aDsDdVFGFLg             0.026889\n",
       "2  mwPdt1EndTm1C1CZyXNUjYmKACo5JTRonZ             0.008749\n",
       "3  mssTb1GWSotwnq4UVxhKashVhZLo1zLqEC             0.002685\n",
       "4  mr6fvKLjX2vsctMgirAMbSrYorPijUbpeK             0.000430\n",
       "5  mn6ooSwPCwR4NpW6Ce8TKvy85zVM8tcY7j             0.000958\n",
       "6  mnXM94JpsQjawV7b4m6WuZRj9dBijhamBg             0.000381\n",
       "7  msFoXfhbwMKsVzNsj39hZeVhrmWBQJQ5iK             0.000671\n",
       "8  mxVzrH4MSieXT4KbG53cQ4BmFw66kQuKnG             0.001601\n",
       "9  mmSzVX7xnRBNTDq9ahJzZZCL3zfanUizaU             0.000048"
      ]
     },
     "execution_count": 25,
     "metadata": {},
     "output_type": "execute_result"
    }
   ],
   "source": [
    "addresses = [key.public_key.address(main_net=False) for key in private_keys]\n",
    "decimals = 10 ** 8\n",
    "\n",
    "# here test net node on 5000 port\n",
    "# and main net on 5001 port\n",
    "url = 'http://78.155.199.25:5000'\n",
    "auth_token='5a18fa63abf647ddb6483c9e241a4765'\n",
    "hed = {'Authorization': 'Bearer ' + auth_token}\n",
    "\n",
    "balances = []\n",
    "\n",
    "for address in addresses:\n",
    "    response = requests.get(f'{url}/{address}/balance', headers=hed)\n",
    "    if response:\n",
    "        balances.append(response.json()['confirmed'] / decimals)\n",
    "\n",
    "df = pd.DataFrame(zip(addresses,balances), columns = ['Address', 'Balance (confirmed)']) \n",
    "\n",
    "df"
   ]
  }
 ],
 "metadata": {
  "kernelspec": {
   "display_name": "my-virtualenv-name",
   "language": "python",
   "name": "my-virtualenv-name"
  },
  "language_info": {
   "codemirror_mode": {
    "name": "ipython",
    "version": 3
   },
   "file_extension": ".py",
   "mimetype": "text/x-python",
   "name": "python",
   "nbconvert_exporter": "python",
   "pygments_lexer": "ipython3",
   "version": "3.7.4"
  }
 },
 "nbformat": 4,
 "nbformat_minor": 2
}
