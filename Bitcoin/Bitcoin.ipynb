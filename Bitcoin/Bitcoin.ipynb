{
 "cells": [
  {
   "cell_type": "markdown",
   "metadata": {},
   "source": [
    "# Bitcoin derivation and transaction manual"
   ]
  },
  {
   "cell_type": "code",
   "execution_count": 1,
   "metadata": {},
   "outputs": [],
   "source": [
    "from pybip44 import HDPrivateKey\n",
    "import requests\n",
    "import pandas as pd\n",
    "from bitcoin_gp import BitcoinGP, Fee\n",
    "\n",
    "from IPython.display import display\n",
    "from ipywidgets import widgets, Layout"
   ]
  },
  {
   "cell_type": "code",
   "execution_count": 2,
   "metadata": {},
   "outputs": [],
   "source": [
    "from halo import HaloNotebook as Halo\n",
    "\n",
    "def waiting_animation(method):\n",
    "    def spinner_animation(*args, **kw):\n",
    "    \n",
    "        spinner = Halo(text=f'Waiting for transaction...', text_color= 'cyan', color='green', spinner='dots')\n",
    "\n",
    "        try:\n",
    "            spinner.start()\n",
    "            result = method(*args, **kw)\n",
    "            spinner.stop_and_persist(text='Done!')\n",
    "        except (KeyboardInterrupt, SystemExit):\n",
    "            spinner.stop()\n",
    "        \n",
    "        return result    \n",
    "    \n",
    "    return spinner_animation"
   ]
  },
  {
   "cell_type": "code",
   "execution_count": 3,
   "metadata": {},
   "outputs": [],
   "source": [
    "phrase = 'trade icon company use feature fee order double inhale gift news long'\n",
    "\n",
    "# text = widgets.Text(\n",
    "#     description='Phrase:',\n",
    "#     layout=Layout(width=\"70%\")\n",
    "# )\n",
    "# display(text)\n",
    "\n",
    "# def handle(sender):\n",
    "#     global phrase\n",
    "#     phrase = text.value\n",
    "#     text.value =\"\"\n",
    "    \n",
    "# text.on_submit(handle)"
   ]
  },
  {
   "cell_type": "markdown",
   "metadata": {},
   "source": [
    "## Derivation"
   ]
  },
  {
   "cell_type": "code",
   "execution_count": 4,
   "metadata": {},
   "outputs": [
    {
     "data": {
      "text/html": [
       "<div>\n",
       "<style scoped>\n",
       "    .dataframe tbody tr th:only-of-type {\n",
       "        vertical-align: middle;\n",
       "    }\n",
       "\n",
       "    .dataframe tbody tr th {\n",
       "        vertical-align: top;\n",
       "    }\n",
       "\n",
       "    .dataframe thead th {\n",
       "        text-align: right;\n",
       "    }\n",
       "</style>\n",
       "<table border=\"1\" class=\"dataframe\">\n",
       "  <thead>\n",
       "    <tr style=\"text-align: right;\">\n",
       "      <th></th>\n",
       "      <th>Address</th>\n",
       "    </tr>\n",
       "  </thead>\n",
       "  <tbody>\n",
       "    <tr>\n",
       "      <th>0</th>\n",
       "      <td>mtQbvrrZd9kDLLNfJHaHHhu1t3jHx1c3Jh</td>\n",
       "    </tr>\n",
       "    <tr>\n",
       "      <th>1</th>\n",
       "      <td>mrG7g5qttebyfWar9MjYex9aDsDdVFGFLg</td>\n",
       "    </tr>\n",
       "    <tr>\n",
       "      <th>2</th>\n",
       "      <td>mwPdt1EndTm1C1CZyXNUjYmKACo5JTRonZ</td>\n",
       "    </tr>\n",
       "    <tr>\n",
       "      <th>3</th>\n",
       "      <td>mssTb1GWSotwnq4UVxhKashVhZLo1zLqEC</td>\n",
       "    </tr>\n",
       "    <tr>\n",
       "      <th>4</th>\n",
       "      <td>mr6fvKLjX2vsctMgirAMbSrYorPijUbpeK</td>\n",
       "    </tr>\n",
       "    <tr>\n",
       "      <th>5</th>\n",
       "      <td>mn6ooSwPCwR4NpW6Ce8TKvy85zVM8tcY7j</td>\n",
       "    </tr>\n",
       "    <tr>\n",
       "      <th>6</th>\n",
       "      <td>mnXM94JpsQjawV7b4m6WuZRj9dBijhamBg</td>\n",
       "    </tr>\n",
       "    <tr>\n",
       "      <th>7</th>\n",
       "      <td>msFoXfhbwMKsVzNsj39hZeVhrmWBQJQ5iK</td>\n",
       "    </tr>\n",
       "    <tr>\n",
       "      <th>8</th>\n",
       "      <td>mxVzrH4MSieXT4KbG53cQ4BmFw66kQuKnG</td>\n",
       "    </tr>\n",
       "    <tr>\n",
       "      <th>9</th>\n",
       "      <td>mmSzVX7xnRBNTDq9ahJzZZCL3zfanUizaU</td>\n",
       "    </tr>\n",
       "  </tbody>\n",
       "</table>\n",
       "</div>"
      ],
      "text/plain": [
       "                              Address\n",
       "0  mtQbvrrZd9kDLLNfJHaHHhu1t3jHx1c3Jh\n",
       "1  mrG7g5qttebyfWar9MjYex9aDsDdVFGFLg\n",
       "2  mwPdt1EndTm1C1CZyXNUjYmKACo5JTRonZ\n",
       "3  mssTb1GWSotwnq4UVxhKashVhZLo1zLqEC\n",
       "4  mr6fvKLjX2vsctMgirAMbSrYorPijUbpeK\n",
       "5  mn6ooSwPCwR4NpW6Ce8TKvy85zVM8tcY7j\n",
       "6  mnXM94JpsQjawV7b4m6WuZRj9dBijhamBg\n",
       "7  msFoXfhbwMKsVzNsj39hZeVhrmWBQJQ5iK\n",
       "8  mxVzrH4MSieXT4KbG53cQ4BmFw66kQuKnG\n",
       "9  mmSzVX7xnRBNTDq9ahJzZZCL3zfanUizaU"
      ]
     },
     "execution_count": 4,
     "metadata": {},
     "output_type": "execute_result"
    }
   ],
   "source": [
    "master_key = HDPrivateKey.master_key_from_mnemonic(phrase, 'btc')\n",
    "del phrase\n",
    "\n",
    "# to switch between test and main network, you need to change 'coin' in derivation path m/44'/{coin}'/0\n",
    "# for Main coin is 0\n",
    "# for Test coin is 1\n",
    "root_key = HDPrivateKey.from_path(master_key, \"m/44'/1'/0'\")\n",
    "\n",
    "private_keys = []\n",
    "addresses = []\n",
    "\n",
    "for i in range(10):\n",
    "    private_key = HDPrivateKey.from_path(root_key, '{change}/{index}'.format(change=0, index=i))\n",
    "    private_keys.append(private_key.to_hex())\n",
    "    public_key = private_key.public_key\n",
    "#     print(f'\\tPublic Key: {public_key.to_hex()}')\n",
    "#     print(f'\\tPrivate Key: {private_key.to_hex()}')\n",
    "    \n",
    "    # and here you need to change main_net parameter\n",
    "    addresses.append(public_key.address(main_net=False))\n",
    "\n",
    "    \n",
    "df = pd.DataFrame(addresses, columns = ['Address']) \n",
    "\n",
    "df"
   ]
  },
  {
   "cell_type": "markdown",
   "metadata": {},
   "source": [
    "## Balances"
   ]
  },
  {
   "cell_type": "code",
   "execution_count": 5,
   "metadata": {
    "scrolled": true
   },
   "outputs": [
    {
     "data": {
      "text/html": [
       "<div>\n",
       "<style scoped>\n",
       "    .dataframe tbody tr th:only-of-type {\n",
       "        vertical-align: middle;\n",
       "    }\n",
       "\n",
       "    .dataframe tbody tr th {\n",
       "        vertical-align: top;\n",
       "    }\n",
       "\n",
       "    .dataframe thead th {\n",
       "        text-align: right;\n",
       "    }\n",
       "</style>\n",
       "<table border=\"1\" class=\"dataframe\">\n",
       "  <thead>\n",
       "    <tr style=\"text-align: right;\">\n",
       "      <th></th>\n",
       "      <th>Address</th>\n",
       "      <th>Balance (confirmed)</th>\n",
       "      <th>Balance (unconfirmed)</th>\n",
       "    </tr>\n",
       "  </thead>\n",
       "  <tbody>\n",
       "    <tr>\n",
       "      <th>0</th>\n",
       "      <td>mtQbvrrZd9kDLLNfJHaHHhu1t3jHx1c3Jh</td>\n",
       "      <td>0.240516</td>\n",
       "      <td>0.0</td>\n",
       "    </tr>\n",
       "    <tr>\n",
       "      <th>1</th>\n",
       "      <td>mrG7g5qttebyfWar9MjYex9aDsDdVFGFLg</td>\n",
       "      <td>0.063419</td>\n",
       "      <td>0.0</td>\n",
       "    </tr>\n",
       "    <tr>\n",
       "      <th>2</th>\n",
       "      <td>mwPdt1EndTm1C1CZyXNUjYmKACo5JTRonZ</td>\n",
       "      <td>0.024571</td>\n",
       "      <td>0.0</td>\n",
       "    </tr>\n",
       "    <tr>\n",
       "      <th>3</th>\n",
       "      <td>mssTb1GWSotwnq4UVxhKashVhZLo1zLqEC</td>\n",
       "      <td>0.002687</td>\n",
       "      <td>0.0</td>\n",
       "    </tr>\n",
       "    <tr>\n",
       "      <th>4</th>\n",
       "      <td>mr6fvKLjX2vsctMgirAMbSrYorPijUbpeK</td>\n",
       "      <td>0.000616</td>\n",
       "      <td>0.0</td>\n",
       "    </tr>\n",
       "    <tr>\n",
       "      <th>5</th>\n",
       "      <td>mn6ooSwPCwR4NpW6Ce8TKvy85zVM8tcY7j</td>\n",
       "      <td>0.000995</td>\n",
       "      <td>0.0</td>\n",
       "    </tr>\n",
       "    <tr>\n",
       "      <th>6</th>\n",
       "      <td>mnXM94JpsQjawV7b4m6WuZRj9dBijhamBg</td>\n",
       "      <td>0.000395</td>\n",
       "      <td>0.0</td>\n",
       "    </tr>\n",
       "    <tr>\n",
       "      <th>7</th>\n",
       "      <td>msFoXfhbwMKsVzNsj39hZeVhrmWBQJQ5iK</td>\n",
       "      <td>0.000686</td>\n",
       "      <td>0.0</td>\n",
       "    </tr>\n",
       "    <tr>\n",
       "      <th>8</th>\n",
       "      <td>mxVzrH4MSieXT4KbG53cQ4BmFw66kQuKnG</td>\n",
       "      <td>0.001601</td>\n",
       "      <td>0.0</td>\n",
       "    </tr>\n",
       "    <tr>\n",
       "      <th>9</th>\n",
       "      <td>mmSzVX7xnRBNTDq9ahJzZZCL3zfanUizaU</td>\n",
       "      <td>0.000048</td>\n",
       "      <td>0.0</td>\n",
       "    </tr>\n",
       "  </tbody>\n",
       "</table>\n",
       "</div>"
      ],
      "text/plain": [
       "                              Address  Balance (confirmed)  \\\n",
       "0  mtQbvrrZd9kDLLNfJHaHHhu1t3jHx1c3Jh             0.240516   \n",
       "1  mrG7g5qttebyfWar9MjYex9aDsDdVFGFLg             0.063419   \n",
       "2  mwPdt1EndTm1C1CZyXNUjYmKACo5JTRonZ             0.024571   \n",
       "3  mssTb1GWSotwnq4UVxhKashVhZLo1zLqEC             0.002687   \n",
       "4  mr6fvKLjX2vsctMgirAMbSrYorPijUbpeK             0.000616   \n",
       "5  mn6ooSwPCwR4NpW6Ce8TKvy85zVM8tcY7j             0.000995   \n",
       "6  mnXM94JpsQjawV7b4m6WuZRj9dBijhamBg             0.000395   \n",
       "7  msFoXfhbwMKsVzNsj39hZeVhrmWBQJQ5iK             0.000686   \n",
       "8  mxVzrH4MSieXT4KbG53cQ4BmFw66kQuKnG             0.001601   \n",
       "9  mmSzVX7xnRBNTDq9ahJzZZCL3zfanUizaU             0.000048   \n",
       "\n",
       "   Balance (unconfirmed)  \n",
       "0                    0.0  \n",
       "1                    0.0  \n",
       "2                    0.0  \n",
       "3                    0.0  \n",
       "4                    0.0  \n",
       "5                    0.0  \n",
       "6                    0.0  \n",
       "7                    0.0  \n",
       "8                    0.0  \n",
       "9                    0.0  "
      ]
     },
     "execution_count": 5,
     "metadata": {},
     "output_type": "execute_result"
    }
   ],
   "source": [
    "decimals = 10 ** 8\n",
    "\n",
    "# here test net node on https://testgate.geniepay.io/v1/\n",
    "# and main net on https://gate.geniepay.io/v1/\n",
    "# url = 'https://gate.geniepay.io/v1/'\n",
    "url = 'https://testgate.geniepay.io/v1/'\n",
    "btc_gp = BitcoinGP(url, main_net = False)\n",
    "\n",
    "balances_confirmed = []\n",
    "\n",
    "balances_unconfirmed = []\n",
    "\n",
    "\n",
    "for address in addresses:\n",
    "    balance = btc_gp.get_balance(address)\n",
    "    balances_confirmed.append(balance['confirmed'] / decimals)\n",
    "    balances_unconfirmed.append(balance['unconfirmed'] / decimals)\n",
    "    \n",
    "\n",
    "df = pd.DataFrame(zip(addresses, balances_confirmed, balances_unconfirmed), columns = ['Address', 'Balance (confirmed)', 'Balance (unconfirmed)']) \n",
    "\n",
    "df"
   ]
  },
  {
   "cell_type": "code",
   "execution_count": 6,
   "metadata": {},
   "outputs": [],
   "source": [
    "@waiting_animation\n",
    "def wait_for_transaction(transaction_hash):\n",
    "    while True:\n",
    "        transaction = btc_gp.get_transaction(transaction_hash)\n",
    "        if transaction['height']:\n",
    "            return transaction\n",
    "        time.sleep(5)"
   ]
  },
  {
   "cell_type": "markdown",
   "metadata": {},
   "source": [
    "## Transaction"
   ]
  },
  {
   "cell_type": "code",
   "execution_count": 9,
   "metadata": {},
   "outputs": [
    {
     "name": "stdout",
     "output_type": "stream",
     "text": [
      "0200000002c5abb91ddeed92d059d9d7975539031f553b0a79afd5f061218e5baeaa646e3d000000006a4730440220254b34194be555b73917916447e959d7d1edd1c3b147240ab48172493c14866b02207d88c59c03c52b2ccde128a9efb9397b3f5c096529de1dfbf2929d5ed48c2c050121024580d58d11e1afd37e71649e786fc5129f4ccd611a173a22a169c386d4da08b3ffffffffc5abb91ddeed92d059d9d7975539031f553b0a79afd5f061218e5baeaa646e3d010000006a47304402207208141fc18481bbc5ea69c0cde013f8c11be04641afce0606d3e702ec8463b5022044312d4433c7412e745e0a782c0b4fe9164a81c82bf17f9c1e96f403b7bf10d10121024580d58d11e1afd37e71649e786fc5129f4ccd611a173a22a169c386d4da08b3ffffffff02e8030000000000001976a91475daf95d9defbe4c132c719ccbb46f387f359d9d88ac1d011901000000001976a9148d6623a4b890197896f0b47993dfa8cd7922305788ac00000000\n",
      "\n",
      "Transaction hash:\n",
      "{\"code\": 1, \"message\": \"Incorrect arguments\"}\n",
      "\n",
      "Link to BlockCypher if testnet:\n",
      "https://live.blockcypher.com/btc-testnet/tx/{\"code\": 1, \"message\": \"Incorrect arguments\"}\n"
     ]
    }
   ],
   "source": [
    "# https://testgate.geniepay.io  - testnet\n",
    "# https://gate.geniepay.io  - mainnet\n",
    "\n",
    "account_from = [addresses[0], private_keys[0]]\n",
    "account_to = [addresses[1], private_keys[1]]\n",
    "\n",
    "signed_transaction = btc_gp.build_transaction(private_key=account_from[1],\n",
    "                     address_from=account_from[0],\n",
    "                     address_to=account_to[0],\n",
    "                     amount=0.00001,\n",
    "                     fee=Fee.FAST)\n",
    "\n",
    "transaction_hash = btc_gp.send_transaction(signed_transaction)\n",
    "\n",
    "print('\\nTransaction hash:\\n' + transaction_hash)\n",
    "print('\\nLink to BlockCypher if testnet:\\n' + 'https://live.blockcypher.com/btc-testnet/tx/' + transaction_hash)\n",
    "# print('\\nLink to BlockCypher if mainnet:\\n' + 'https://live.blockcypher.com/btc/tx/' + transaction_hash)"
   ]
  },
  {
   "cell_type": "code",
   "execution_count": 10,
   "metadata": {},
   "outputs": [
    {
     "data": {
      "text/plain": [
       "['mtQbvrrZd9kDLLNfJHaHHhu1t3jHx1c3Jh',\n",
       " '02ef7b9791c17f35bb7f18f46209c984dc8a0317813166e5c00e7c06af5bdb9b']"
      ]
     },
     "execution_count": 10,
     "metadata": {},
     "output_type": "execute_result"
    }
   ],
   "source": [
    "account_from"
   ]
  },
  {
   "cell_type": "code",
   "execution_count": 11,
   "metadata": {},
   "outputs": [
    {
     "data": {
      "text/plain": [
       "['mrG7g5qttebyfWar9MjYex9aDsDdVFGFLg',\n",
       " 'ab45ea109e4f9952f57da244af9c5b548eacdbb094fe3ea56fa5a219415201a5']"
      ]
     },
     "execution_count": 11,
     "metadata": {},
     "output_type": "execute_result"
    }
   ],
   "source": [
    "account_to"
   ]
  },
  {
   "cell_type": "code",
   "execution_count": 8,
   "metadata": {},
   "outputs": [
    {
     "data": {
      "application/vnd.jupyter.widget-view+json": {
       "model_id": "fae3df2cb0b54660a0ec5e62d1e4092b",
       "version_major": 2,
       "version_minor": 0
      },
      "text/plain": [
       "Output()"
      ]
     },
     "metadata": {},
     "output_type": "display_data"
    },
    {
     "ename": "KeyError",
     "evalue": "'height'",
     "output_type": "error",
     "traceback": [
      "\u001b[0;31m---------------------------------------------------------------------------\u001b[0m",
      "\u001b[0;31mKeyError\u001b[0m                                  Traceback (most recent call last)",
      "\u001b[0;32m<ipython-input-8-3fdeb4b383ad>\u001b[0m in \u001b[0;36m<module>\u001b[0;34m\u001b[0m\n\u001b[0;32m----> 1\u001b[0;31m \u001b[0mwait_for_transaction\u001b[0m\u001b[0;34m(\u001b[0m\u001b[0mtransaction_hash\u001b[0m\u001b[0;34m)\u001b[0m\u001b[0;34m\u001b[0m\u001b[0;34m\u001b[0m\u001b[0m\n\u001b[0m",
      "\u001b[0;32m<ipython-input-2-68cfafe2514a>\u001b[0m in \u001b[0;36mspinner_animation\u001b[0;34m(*args, **kw)\u001b[0m\n\u001b[1;32m      8\u001b[0m         \u001b[0;32mtry\u001b[0m\u001b[0;34m:\u001b[0m\u001b[0;34m\u001b[0m\u001b[0;34m\u001b[0m\u001b[0m\n\u001b[1;32m      9\u001b[0m             \u001b[0mspinner\u001b[0m\u001b[0;34m.\u001b[0m\u001b[0mstart\u001b[0m\u001b[0;34m(\u001b[0m\u001b[0;34m)\u001b[0m\u001b[0;34m\u001b[0m\u001b[0;34m\u001b[0m\u001b[0m\n\u001b[0;32m---> 10\u001b[0;31m             \u001b[0mresult\u001b[0m \u001b[0;34m=\u001b[0m \u001b[0mmethod\u001b[0m\u001b[0;34m(\u001b[0m\u001b[0;34m*\u001b[0m\u001b[0margs\u001b[0m\u001b[0;34m,\u001b[0m \u001b[0;34m**\u001b[0m\u001b[0mkw\u001b[0m\u001b[0;34m)\u001b[0m\u001b[0;34m\u001b[0m\u001b[0;34m\u001b[0m\u001b[0m\n\u001b[0m\u001b[1;32m     11\u001b[0m             \u001b[0mspinner\u001b[0m\u001b[0;34m.\u001b[0m\u001b[0mstop_and_persist\u001b[0m\u001b[0;34m(\u001b[0m\u001b[0mtext\u001b[0m\u001b[0;34m=\u001b[0m\u001b[0;34m'Done!'\u001b[0m\u001b[0;34m)\u001b[0m\u001b[0;34m\u001b[0m\u001b[0;34m\u001b[0m\u001b[0m\n\u001b[1;32m     12\u001b[0m         \u001b[0;32mexcept\u001b[0m \u001b[0;34m(\u001b[0m\u001b[0mKeyboardInterrupt\u001b[0m\u001b[0;34m,\u001b[0m \u001b[0mSystemExit\u001b[0m\u001b[0;34m)\u001b[0m\u001b[0;34m:\u001b[0m\u001b[0;34m\u001b[0m\u001b[0;34m\u001b[0m\u001b[0m\n",
      "\u001b[0;32m<ipython-input-6-618c89a621ea>\u001b[0m in \u001b[0;36mwait_for_transaction\u001b[0;34m(transaction_hash)\u001b[0m\n\u001b[1;32m      3\u001b[0m     \u001b[0;32mwhile\u001b[0m \u001b[0;32mTrue\u001b[0m\u001b[0;34m:\u001b[0m\u001b[0;34m\u001b[0m\u001b[0;34m\u001b[0m\u001b[0m\n\u001b[1;32m      4\u001b[0m         \u001b[0mtransaction\u001b[0m \u001b[0;34m=\u001b[0m \u001b[0mbtc_gp\u001b[0m\u001b[0;34m.\u001b[0m\u001b[0mget_transaction\u001b[0m\u001b[0;34m(\u001b[0m\u001b[0mtransaction_hash\u001b[0m\u001b[0;34m)\u001b[0m\u001b[0;34m\u001b[0m\u001b[0;34m\u001b[0m\u001b[0m\n\u001b[0;32m----> 5\u001b[0;31m         \u001b[0;32mif\u001b[0m \u001b[0mtransaction\u001b[0m\u001b[0;34m[\u001b[0m\u001b[0;34m'height'\u001b[0m\u001b[0;34m]\u001b[0m\u001b[0;34m:\u001b[0m\u001b[0;34m\u001b[0m\u001b[0;34m\u001b[0m\u001b[0m\n\u001b[0m\u001b[1;32m      6\u001b[0m             \u001b[0;32mreturn\u001b[0m \u001b[0mtransaction\u001b[0m\u001b[0;34m\u001b[0m\u001b[0;34m\u001b[0m\u001b[0m\n\u001b[1;32m      7\u001b[0m         \u001b[0mtime\u001b[0m\u001b[0;34m.\u001b[0m\u001b[0msleep\u001b[0m\u001b[0;34m(\u001b[0m\u001b[0;36m5\u001b[0m\u001b[0;34m)\u001b[0m\u001b[0;34m\u001b[0m\u001b[0;34m\u001b[0m\u001b[0m\n",
      "\u001b[0;31mKeyError\u001b[0m: 'height'"
     ]
    }
   ],
   "source": [
    "wait_for_transaction(transaction_hash)"
   ]
  },
  {
   "cell_type": "markdown",
   "metadata": {},
   "source": [
    "## Spend all assets"
   ]
  },
  {
   "cell_type": "code",
   "execution_count": null,
   "metadata": {},
   "outputs": [],
   "source": [
    "account_from = [addresses[0], private_keys[0]]\n",
    "account_to = [addresses[1], private_keys[1]]\n",
    "\n",
    "signed_transaction_all_assets = btc_gp.build_transaction_all_assets_to_address(private_key=account_from[1],\n",
    "                     address_from=account_from[0],\n",
    "                     address_to=account_to[0],\n",
    "                     fee=Fee.FAST)\n",
    "\n",
    "transaction_all_assets_hash = btc_gp.send_transaction(signed_transaction_all_assets)\n",
    "\n",
    "print('\\nTransaction hash:\\n' + transaction_all_money_hash)\n",
    "# print('\\nLink to BlockCypher if testnet:\\n' + 'https://live.blockcypher.com/btc-testnet/tx/' + transaction_hash)\n",
    "print('\\nLink to BlockCypher if mainnet:\\n' + 'https://live.blockcypher.com/btc/tx/' + transaction_all_money_hash)"
   ]
  }
 ],
 "metadata": {
  "kernelspec": {
   "display_name": "my-virtualenv-name",
   "language": "python",
   "name": "my-virtualenv-name"
  },
  "language_info": {
   "codemirror_mode": {
    "name": "ipython",
    "version": 3
   },
   "file_extension": ".py",
   "mimetype": "text/x-python",
   "name": "python",
   "nbconvert_exporter": "python",
   "pygments_lexer": "ipython3",
   "version": "3.6.10"
  },
  "pycharm": {
   "stem_cell": {
    "cell_type": "raw",
    "metadata": {
     "collapsed": false
    },
    "source": []
   }
  }
 },
 "nbformat": 4,
 "nbformat_minor": 2
}
