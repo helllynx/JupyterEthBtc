{
 "cells": [
  {
   "cell_type": "markdown",
   "metadata": {},
   "source": [
    "# Bitcoin derivation and transaction manual"
   ]
  },
  {
   "cell_type": "code",
   "execution_count": 1,
   "metadata": {},
   "outputs": [],
   "source": [
    "from pybip44 import HDPrivateKey\n",
    "import requests\n",
    "import pandas as pd"
   ]
  },
  {
   "cell_type": "markdown",
   "metadata": {},
   "source": [
    "## Direvation"
   ]
  },
  {
   "cell_type": "code",
   "execution_count": 6,
   "metadata": {},
   "outputs": [
    {
     "name": "stdout",
     "output_type": "stream",
     "text": [
      "Index 0:\n",
      "\tPublic Key: 03d9b2a7c68b174722ddbae4d4031e2ac8b6542b2cac2ab20e9c508ecc176ecfd8\n",
      "\tPrivate Key: d887e98c19a70d169ec8cbf53e5d81ca17bdc8a3f36330350bd17d82f6582efe\n",
      "\tAddress: 146rDUFCLC3FVtDoj4eCv6pgy878e5eBVe\n",
      "----------------------------------------------------------------------------------------------------\n",
      "Index 1:\n",
      "\tPublic Key: 027fa9a2134662e1503fb095b096f978a98a92ebbcfaa8f8b859d2b4cf644ec1ed\n",
      "\tPrivate Key: 8cc160535160889151485fd75be175727cd6ea337a773585e5891dbb35fef782\n",
      "\tAddress: 1LdktPmHUPER3ynuYf4jeDkb8iRdBgaW5f\n",
      "----------------------------------------------------------------------------------------------------\n",
      "Index 2:\n",
      "\tPublic Key: 0313842556fd0fd028aafd653bfb75f341f4835ff6f73fbdde1eaa02db6e9d982a\n",
      "\tPrivate Key: bb84ffc611df1ef52a790f34f936cec0779d8d854be770c31a81335a53ac3fe8\n",
      "\tAddress: 1PbBz56AnXMfjvEi1HWNAcTy8Uh8EgRG9y\n",
      "----------------------------------------------------------------------------------------------------\n",
      "Index 3:\n",
      "\tPublic Key: 036887515739609d621d9c949bb79bd14365b3f57fdd6d22878b3572be8a16b374\n",
      "\tPrivate Key: c1eeebed5a53dcaa5c0fa3b8fd8f65c703e0ee1a3b078115ab14655eacac3c77\n",
      "\tAddress: 13CMG7btSZ4qputapZyXN2vbeggZaBRAkM\n",
      "----------------------------------------------------------------------------------------------------\n",
      "Index 4:\n",
      "\tPublic Key: 021303adf200d68e6c202b5086141777880028bcaaf5f4de21c8d17b9b0861146d\n",
      "\tPrivate Key: 7d929098b4dbdd63ff9a618d534af9e1a38a25017e2a3190a3e28d7f0ce22d94\n",
      "\tAddress: 16NZ2PVzQsiNs3weks45uN7dMey8zdy3R1\n",
      "----------------------------------------------------------------------------------------------------\n",
      "Index 5:\n",
      "\tPublic Key: 03fc1b4b23cc67aeddc89288e54f1a25e8c5d1d9260139211613c4d3df2e086408\n",
      "\tPrivate Key: 6f5bcf2e1a98ff347a06b1959bc3fe109af484a4919a33f87b734715e255e4c1\n",
      "\tAddress: 1NHYDobZyewo9Vb45rwEnZgqf1FBxoc8yz\n",
      "----------------------------------------------------------------------------------------------------\n",
      "Index 6:\n",
      "\tPublic Key: 03d718bd7635d71032dc4b449f3dda2e807fd4513c5ea0071351f5feed81043873\n",
      "\tPrivate Key: 11e849bd017a01d57c05911039093a9709cec7d3e07268ff1428f7cbb3cd3615\n",
      "\tAddress: 19MyH7uKv77Jb7FUGiRfgUykYkyiusojdo\n",
      "----------------------------------------------------------------------------------------------------\n",
      "Index 7:\n",
      "\tPublic Key: 023463ee9bf848d1e5c500f3872a3cdc7cac1810f8cc7c318b8a9f0d51734ce2cc\n",
      "\tPrivate Key: 4d3aaeb10c30a8ec50f04bce6a8b3ce22d319033b1d3ee725da9ac75f8546a85\n",
      "\tAddress: 1LjZiqkKCKTLTuqC7r5hi6H94Jy4wXFeay\n",
      "----------------------------------------------------------------------------------------------------\n",
      "Index 8:\n",
      "\tPublic Key: 02bc54fb75d32cb0a1e82fcda0e5adfa5059f9cef06b0b7d13ae6157d87ed6ce58\n",
      "\tPrivate Key: c6b5298962b1f4c3b29aeac3e97c02cd214c9646ff319dad520d5749db202386\n",
      "\tAddress: 17Jm4XrC2tT9tNeD6z9n8aah9swo1ZCEdW\n",
      "----------------------------------------------------------------------------------------------------\n",
      "Index 9:\n",
      "\tPublic Key: 03f502bfca35470f8f2ea8aa4477e8b0bc348b6e52f10db4e5e88013a3c0d8cce1\n",
      "\tPrivate Key: d10d78aa8498ca86763a37cbae56ef0854a539e1b1e8e66b4b0feda090ae798d\n",
      "\tAddress: 13pVf73RMXrqzyLu1g6etCC26MXggLY9rK\n",
      "----------------------------------------------------------------------------------------------------\n"
     ]
    }
   ],
   "source": [
    "master_key = HDPrivateKey.master_key_from_mnemonic(\n",
    "    'cram flower anger behave science furnace match clip about rocket sell exist', 'btc')\n",
    "\n",
    "# to switch between test and main network, you need to change 'coin' in derivation path m/44'/{coin}'/0\n",
    "# for Main coin is 0\n",
    "# for Test coin is 1\n",
    "root_key = HDPrivateKey.from_path(master_key, \"m/44'/0'/0'\")\n",
    "\n",
    "private_keys = []\n",
    "\n",
    "for i in range(10):\n",
    "    private_key = HDPrivateKey.from_path(root_key, '{change}/{index}'.format(change=0, index=i))\n",
    "    private_keys.append(private_key)\n",
    "    public_key = private_key.public_key\n",
    "    print(f'Index {i}:')\n",
    "    print(f'\\tPublic Key: {public_key.to_hex()}')\n",
    "    print(f'\\tPrivate Key: {private_key.to_hex()}')\n",
    "    \n",
    "    # and here you need to change main_net parameter\n",
    "    print(f'\\tAddress: {public_key.address(main_net=True)}')\n",
    "    print('-' * 100)"
   ]
  },
  {
   "cell_type": "markdown",
   "metadata": {},
   "source": [
    "## Balances"
   ]
  },
  {
   "cell_type": "code",
   "execution_count": 9,
   "metadata": {},
   "outputs": [
    {
     "data": {
      "text/html": [
       "<div>\n",
       "<style scoped>\n",
       "    .dataframe tbody tr th:only-of-type {\n",
       "        vertical-align: middle;\n",
       "    }\n",
       "\n",
       "    .dataframe tbody tr th {\n",
       "        vertical-align: top;\n",
       "    }\n",
       "\n",
       "    .dataframe thead th {\n",
       "        text-align: right;\n",
       "    }\n",
       "</style>\n",
       "<table border=\"1\" class=\"dataframe\">\n",
       "  <thead>\n",
       "    <tr style=\"text-align: right;\">\n",
       "      <th></th>\n",
       "      <th>Address</th>\n",
       "      <th>Balance (confirmed)</th>\n",
       "    </tr>\n",
       "  </thead>\n",
       "  <tbody>\n",
       "  </tbody>\n",
       "</table>\n",
       "</div>"
      ],
      "text/plain": [
       "Empty DataFrame\n",
       "Columns: [Address, Balance (confirmed)]\n",
       "Index: []"
      ]
     },
     "execution_count": 9,
     "metadata": {},
     "output_type": "execute_result"
    }
   ],
   "source": [
    "addresses = [key.public_key.address(main_net=True) for key in private_keys]\n",
    "decimals = 10 ** 8\n",
    "\n",
    "# here test net node on 5000 port\n",
    "# and main net on 5001 port\n",
    "url = 'http://78.155.199.25:5000'\n",
    "auth_token='5a18fa63abf647ddb6483c9e241a4765'\n",
    "hed = {'Authorization': 'Bearer ' + auth_token}\n",
    "\n",
    "balances = []\n",
    "\n",
    "for address in addresses:\n",
    "    response = requests.get(f'{url}/{address}/balance', headers=hed)\n",
    "    if response:\n",
    "        balances.append(response.json()['confirmed'] / decimals)\n",
    "\n",
    "df = pd.DataFrame(zip(addresses,balances), columns = ['Address', 'Balance (confirmed)']) \n",
    "\n",
    "df"
   ]
  }
 ],
 "metadata": {
  "kernelspec": {
   "display_name": "my-virtualenv-name",
   "language": "python",
   "name": "my-virtualenv-name"
  },
  "language_info": {
   "codemirror_mode": {
    "name": "ipython",
    "version": 3
   },
   "file_extension": ".py",
   "mimetype": "text/x-python",
   "name": "python",
   "nbconvert_exporter": "python",
   "pygments_lexer": "ipython3",
   "version": "3.7.4"
  }
 },
 "nbformat": 4,
 "nbformat_minor": 2
}
