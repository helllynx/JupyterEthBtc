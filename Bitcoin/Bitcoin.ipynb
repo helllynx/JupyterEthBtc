{
 "cells": [
  {
   "cell_type": "markdown",
   "metadata": {},
   "source": [
    "# Bitcoin derivation and transaction manual"
   ]
  },
  {
   "cell_type": "code",
   "execution_count": 1,
   "metadata": {},
   "outputs": [],
   "source": [
    "from pybip44 import HDPrivateKey\n",
    "import requests\n",
    "import pandas as pd\n",
    "from bitcoin_gp import BitcoinGP, Fee"
   ]
  },
  {
   "cell_type": "markdown",
   "metadata": {},
   "source": [
    "## Direvation"
   ]
  },
  {
   "cell_type": "code",
   "execution_count": 2,
   "metadata": {},
   "outputs": [
    {
     "data": {
      "text/html": [
       "<div>\n",
       "<style scoped>\n",
       "    .dataframe tbody tr th:only-of-type {\n",
       "        vertical-align: middle;\n",
       "    }\n",
       "\n",
       "    .dataframe tbody tr th {\n",
       "        vertical-align: top;\n",
       "    }\n",
       "\n",
       "    .dataframe thead th {\n",
       "        text-align: right;\n",
       "    }\n",
       "</style>\n",
       "<table border=\"1\" class=\"dataframe\">\n",
       "  <thead>\n",
       "    <tr style=\"text-align: right;\">\n",
       "      <th></th>\n",
       "      <th>Address</th>\n",
       "    </tr>\n",
       "  </thead>\n",
       "  <tbody>\n",
       "    <tr>\n",
       "      <th>0</th>\n",
       "      <td>146rDUFCLC3FVtDoj4eCv6pgy878e5eBVe</td>\n",
       "    </tr>\n",
       "    <tr>\n",
       "      <th>1</th>\n",
       "      <td>1LdktPmHUPER3ynuYf4jeDkb8iRdBgaW5f</td>\n",
       "    </tr>\n",
       "    <tr>\n",
       "      <th>2</th>\n",
       "      <td>1PbBz56AnXMfjvEi1HWNAcTy8Uh8EgRG9y</td>\n",
       "    </tr>\n",
       "    <tr>\n",
       "      <th>3</th>\n",
       "      <td>13CMG7btSZ4qputapZyXN2vbeggZaBRAkM</td>\n",
       "    </tr>\n",
       "    <tr>\n",
       "      <th>4</th>\n",
       "      <td>16NZ2PVzQsiNs3weks45uN7dMey8zdy3R1</td>\n",
       "    </tr>\n",
       "    <tr>\n",
       "      <th>5</th>\n",
       "      <td>1NHYDobZyewo9Vb45rwEnZgqf1FBxoc8yz</td>\n",
       "    </tr>\n",
       "    <tr>\n",
       "      <th>6</th>\n",
       "      <td>19MyH7uKv77Jb7FUGiRfgUykYkyiusojdo</td>\n",
       "    </tr>\n",
       "    <tr>\n",
       "      <th>7</th>\n",
       "      <td>1LjZiqkKCKTLTuqC7r5hi6H94Jy4wXFeay</td>\n",
       "    </tr>\n",
       "    <tr>\n",
       "      <th>8</th>\n",
       "      <td>17Jm4XrC2tT9tNeD6z9n8aah9swo1ZCEdW</td>\n",
       "    </tr>\n",
       "    <tr>\n",
       "      <th>9</th>\n",
       "      <td>13pVf73RMXrqzyLu1g6etCC26MXggLY9rK</td>\n",
       "    </tr>\n",
       "  </tbody>\n",
       "</table>\n",
       "</div>"
      ],
      "text/plain": [
       "                              Address\n",
       "0  146rDUFCLC3FVtDoj4eCv6pgy878e5eBVe\n",
       "1  1LdktPmHUPER3ynuYf4jeDkb8iRdBgaW5f\n",
       "2  1PbBz56AnXMfjvEi1HWNAcTy8Uh8EgRG9y\n",
       "3  13CMG7btSZ4qputapZyXN2vbeggZaBRAkM\n",
       "4  16NZ2PVzQsiNs3weks45uN7dMey8zdy3R1\n",
       "5  1NHYDobZyewo9Vb45rwEnZgqf1FBxoc8yz\n",
       "6  19MyH7uKv77Jb7FUGiRfgUykYkyiusojdo\n",
       "7  1LjZiqkKCKTLTuqC7r5hi6H94Jy4wXFeay\n",
       "8  17Jm4XrC2tT9tNeD6z9n8aah9swo1ZCEdW\n",
       "9  13pVf73RMXrqzyLu1g6etCC26MXggLY9rK"
      ]
     },
     "execution_count": 2,
     "metadata": {},
     "output_type": "execute_result"
    }
   ],
   "source": [
    "master_key = HDPrivateKey.master_key_from_mnemonic(\n",
    "    'cram flower anger behave science furnace match clip about rocket sell exist', 'btc')\n",
    "\n",
    "# to switch between test and main network, you need to change 'coin' in derivation path m/44'/{coin}'/0\n",
    "# for Main coin is 0\n",
    "# for Test coin is 1\n",
    "root_key = HDPrivateKey.from_path(master_key, \"m/44'/0'/0'\")\n",
    "\n",
    "private_keys = []\n",
    "addresses = []\n",
    "\n",
    "for i in range(10):\n",
    "    private_key = HDPrivateKey.from_path(root_key, '{change}/{index}'.format(change=0, index=i))\n",
    "    private_keys.append(private_key.to_hex())\n",
    "    public_key = private_key.public_key\n",
    "#     print(f'\\tPublic Key: {public_key.to_hex()}')\n",
    "#     print(f'\\tPrivate Key: {private_key.to_hex()}')\n",
    "    \n",
    "    # and here you need to change main_net parameter\n",
    "    addresses.append(public_key.address(main_net=True))\n",
    "\n",
    "    \n",
    "df = pd.DataFrame(addresses, columns = ['Address']) \n",
    "\n",
    "df"
   ]
  },
  {
   "cell_type": "markdown",
   "metadata": {},
   "source": [
    "## Balances"
   ]
  },
  {
   "cell_type": "code",
   "execution_count": 3,
   "metadata": {
    "scrolled": true
   },
   "outputs": [
    {
     "data": {
      "text/html": [
       "<div>\n",
       "<style scoped>\n",
       "    .dataframe tbody tr th:only-of-type {\n",
       "        vertical-align: middle;\n",
       "    }\n",
       "\n",
       "    .dataframe tbody tr th {\n",
       "        vertical-align: top;\n",
       "    }\n",
       "\n",
       "    .dataframe thead th {\n",
       "        text-align: right;\n",
       "    }\n",
       "</style>\n",
       "<table border=\"1\" class=\"dataframe\">\n",
       "  <thead>\n",
       "    <tr style=\"text-align: right;\">\n",
       "      <th></th>\n",
       "      <th>Address</th>\n",
       "      <th>Balance (confirmed)</th>\n",
       "    </tr>\n",
       "  </thead>\n",
       "  <tbody>\n",
       "    <tr>\n",
       "      <th>0</th>\n",
       "      <td>146rDUFCLC3FVtDoj4eCv6pgy878e5eBVe</td>\n",
       "      <td>0.005121</td>\n",
       "    </tr>\n",
       "    <tr>\n",
       "      <th>1</th>\n",
       "      <td>1LdktPmHUPER3ynuYf4jeDkb8iRdBgaW5f</td>\n",
       "      <td>0.000012</td>\n",
       "    </tr>\n",
       "    <tr>\n",
       "      <th>2</th>\n",
       "      <td>1PbBz56AnXMfjvEi1HWNAcTy8Uh8EgRG9y</td>\n",
       "      <td>0.000000</td>\n",
       "    </tr>\n",
       "    <tr>\n",
       "      <th>3</th>\n",
       "      <td>13CMG7btSZ4qputapZyXN2vbeggZaBRAkM</td>\n",
       "      <td>0.000000</td>\n",
       "    </tr>\n",
       "    <tr>\n",
       "      <th>4</th>\n",
       "      <td>16NZ2PVzQsiNs3weks45uN7dMey8zdy3R1</td>\n",
       "      <td>0.000000</td>\n",
       "    </tr>\n",
       "    <tr>\n",
       "      <th>5</th>\n",
       "      <td>1NHYDobZyewo9Vb45rwEnZgqf1FBxoc8yz</td>\n",
       "      <td>0.000000</td>\n",
       "    </tr>\n",
       "    <tr>\n",
       "      <th>6</th>\n",
       "      <td>19MyH7uKv77Jb7FUGiRfgUykYkyiusojdo</td>\n",
       "      <td>0.000000</td>\n",
       "    </tr>\n",
       "    <tr>\n",
       "      <th>7</th>\n",
       "      <td>1LjZiqkKCKTLTuqC7r5hi6H94Jy4wXFeay</td>\n",
       "      <td>0.000000</td>\n",
       "    </tr>\n",
       "    <tr>\n",
       "      <th>8</th>\n",
       "      <td>17Jm4XrC2tT9tNeD6z9n8aah9swo1ZCEdW</td>\n",
       "      <td>0.000000</td>\n",
       "    </tr>\n",
       "    <tr>\n",
       "      <th>9</th>\n",
       "      <td>13pVf73RMXrqzyLu1g6etCC26MXggLY9rK</td>\n",
       "      <td>0.000000</td>\n",
       "    </tr>\n",
       "  </tbody>\n",
       "</table>\n",
       "</div>"
      ],
      "text/plain": [
       "                              Address  Balance (confirmed)\n",
       "0  146rDUFCLC3FVtDoj4eCv6pgy878e5eBVe             0.005121\n",
       "1  1LdktPmHUPER3ynuYf4jeDkb8iRdBgaW5f             0.000012\n",
       "2  1PbBz56AnXMfjvEi1HWNAcTy8Uh8EgRG9y             0.000000\n",
       "3  13CMG7btSZ4qputapZyXN2vbeggZaBRAkM             0.000000\n",
       "4  16NZ2PVzQsiNs3weks45uN7dMey8zdy3R1             0.000000\n",
       "5  1NHYDobZyewo9Vb45rwEnZgqf1FBxoc8yz             0.000000\n",
       "6  19MyH7uKv77Jb7FUGiRfgUykYkyiusojdo             0.000000\n",
       "7  1LjZiqkKCKTLTuqC7r5hi6H94Jy4wXFeay             0.000000\n",
       "8  17Jm4XrC2tT9tNeD6z9n8aah9swo1ZCEdW             0.000000\n",
       "9  13pVf73RMXrqzyLu1g6etCC26MXggLY9rK             0.000000"
      ]
     },
     "execution_count": 3,
     "metadata": {},
     "output_type": "execute_result"
    }
   ],
   "source": [
    "decimals = 10 ** 8\n",
    "\n",
    "# here test net node on https://testgate.geniepay.io\n",
    "# and main net on https://gate.geniepay.io\n",
    "url = 'https://gate.geniepay.io'\n",
    "\n",
    "balances = []\n",
    "\n",
    "for address in addresses:\n",
    "    response = requests.get(f'{url}/{address}/balance')\n",
    "    if response:\n",
    "        balances.append(response.json()['confirmed'] / decimals)\n",
    "\n",
    "df = pd.DataFrame(zip(addresses, balances), columns = ['Address', 'Balance (confirmed)']) \n",
    "\n",
    "df"
   ]
  },
  {
   "cell_type": "markdown",
   "metadata": {},
   "source": [
    "## Transaction"
   ]
  },
  {
   "cell_type": "code",
   "execution_count": 4,
   "metadata": {},
   "outputs": [
    {
     "name": "stdout",
     "output_type": "stream",
     "text": [
      "\n",
      "Transaction hash:\n",
      "d2c8f1f656f056af56199328f17e71df2be4dd77fe26c06c0355e23e15fe91ed\n",
      "\n",
      "Link to BlockCypher:\n",
      "https://live.blockcypher.com/btc/tx/d2c8f1f656f056af56199328f17e71df2be4dd77fe26c06c0355e23e15fe91ed\n"
     ]
    }
   ],
   "source": [
    "# https://testgate.geniepay.io  - testnet\n",
    "# https://gate.geniepay.io  - mainnet\n",
    "\n",
    "account_from = [addresses[0], private_keys[0]]\n",
    "account_to = [addresses[1], private_keys[1]]\n",
    "\n",
    "btc_gp = BitcoinGP(url, True)\n",
    "\n",
    "btc_gp.send_transaction(private_key=account_from[1],\n",
    "                     address_from=account_from[0],\n",
    "                     address_to=account_to[0],\n",
    "                     amount=0.00001,\n",
    "                     fee=Fee.SLOW)"
   ]
  }
 ],
 "metadata": {
  "kernelspec": {
   "display_name": "my-virtualenv-name",
   "language": "python",
   "name": "my-virtualenv-name"
  },
  "language_info": {
   "codemirror_mode": {
    "name": "ipython",
    "version": 3
   },
   "file_extension": ".py",
   "mimetype": "text/x-python",
   "name": "python",
   "nbconvert_exporter": "python",
   "pygments_lexer": "ipython3",
   "version": "3.8.0"
  },
  "pycharm": {
   "stem_cell": {
    "cell_type": "raw",
    "metadata": {
     "collapsed": false
    },
    "source": []
   }
  }
 },
 "nbformat": 4,
 "nbformat_minor": 2
}
