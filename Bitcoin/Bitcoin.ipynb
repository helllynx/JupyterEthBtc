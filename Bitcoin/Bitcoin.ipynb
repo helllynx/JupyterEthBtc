{
 "cells": [
  {
   "cell_type": "markdown",
   "metadata": {},
   "source": [
    "# Bitcoin derivation and transaction manual"
   ]
  },
  {
   "cell_type": "code",
   "execution_count": 1,
   "metadata": {},
   "outputs": [],
   "source": [
    "from pybip44 import HDPrivateKey\n",
    "import requests\n",
    "import pandas as pd\n",
    "from bitcoin_gp import BitcoinGP, Fee\n",
    "\n",
    "from IPython.display import display\n",
    "from ipywidgets import widgets, Layout"
   ]
  },
  {
   "cell_type": "code",
   "execution_count": 2,
   "metadata": {},
   "outputs": [],
   "source": [
    "from halo import HaloNotebook as Halo\n",
    "\n",
    "def waiting_animation(method):\n",
    "    def spinner_animation(*args, **kw):\n",
    "    \n",
    "        spinner = Halo(text=f'Waiting for transaction...', text_color= 'cyan', color='green', spinner='dots')\n",
    "\n",
    "        try:\n",
    "            spinner.start()\n",
    "            result = method(*args, **kw)\n",
    "            spinner.stop_and_persist(text='Done!')\n",
    "        except (KeyboardInterrupt, SystemExit):\n",
    "            spinner.stop()\n",
    "        \n",
    "        return result    \n",
    "    \n",
    "    return spinner_animation"
   ]
  },
  {
   "cell_type": "code",
   "execution_count": 3,
   "metadata": {},
   "outputs": [],
   "source": [
    "phrase = ''\n",
    "\n",
    "text = widgets.Text(\n",
    "    description='Phrase:',\n",
    "    layout=Layout(width=\"70%\")\n",
    ")\n",
    "display(text)\n",
    "\n",
    "def handle(sender):\n",
    "    global phrase\n",
    "    phrase = text.value\n",
    "    text.value =\"\"\n",
    "    \n",
    "text.on_submit(handle)"
   ]
  },
  {
   "cell_type": "markdown",
   "metadata": {},
   "source": [
    "## Derivation"
   ]
  },
  {
   "cell_type": "code",
   "execution_count": 4,
   "metadata": {},
   "outputs": [
    {
     "data": {
      "text/html": [
       "<div>\n",
       "<style scoped>\n",
       "    .dataframe tbody tr th:only-of-type {\n",
       "        vertical-align: middle;\n",
       "    }\n",
       "\n",
       "    .dataframe tbody tr th {\n",
       "        vertical-align: top;\n",
       "    }\n",
       "\n",
       "    .dataframe thead th {\n",
       "        text-align: right;\n",
       "    }\n",
       "</style>\n",
       "<table border=\"1\" class=\"dataframe\">\n",
       "  <thead>\n",
       "    <tr style=\"text-align: right;\">\n",
       "      <th></th>\n",
       "      <th>Address</th>\n",
       "    </tr>\n",
       "  </thead>\n",
       "  <tbody>\n",
       "    <tr>\n",
       "      <th>0</th>\n",
       "      <td>mtQbvrrZd9kDLLNfJHaHHhu1t3jHx1c3Jh</td>\n",
       "    </tr>\n",
       "    <tr>\n",
       "      <th>1</th>\n",
       "      <td>mrG7g5qttebyfWar9MjYex9aDsDdVFGFLg</td>\n",
       "    </tr>\n",
       "    <tr>\n",
       "      <th>2</th>\n",
       "      <td>mwPdt1EndTm1C1CZyXNUjYmKACo5JTRonZ</td>\n",
       "    </tr>\n",
       "    <tr>\n",
       "      <th>3</th>\n",
       "      <td>mssTb1GWSotwnq4UVxhKashVhZLo1zLqEC</td>\n",
       "    </tr>\n",
       "    <tr>\n",
       "      <th>4</th>\n",
       "      <td>mr6fvKLjX2vsctMgirAMbSrYorPijUbpeK</td>\n",
       "    </tr>\n",
       "    <tr>\n",
       "      <th>5</th>\n",
       "      <td>mn6ooSwPCwR4NpW6Ce8TKvy85zVM8tcY7j</td>\n",
       "    </tr>\n",
       "    <tr>\n",
       "      <th>6</th>\n",
       "      <td>mnXM94JpsQjawV7b4m6WuZRj9dBijhamBg</td>\n",
       "    </tr>\n",
       "    <tr>\n",
       "      <th>7</th>\n",
       "      <td>msFoXfhbwMKsVzNsj39hZeVhrmWBQJQ5iK</td>\n",
       "    </tr>\n",
       "    <tr>\n",
       "      <th>8</th>\n",
       "      <td>mxVzrH4MSieXT4KbG53cQ4BmFw66kQuKnG</td>\n",
       "    </tr>\n",
       "    <tr>\n",
       "      <th>9</th>\n",
       "      <td>mmSzVX7xnRBNTDq9ahJzZZCL3zfanUizaU</td>\n",
       "    </tr>\n",
       "  </tbody>\n",
       "</table>\n",
       "</div>"
      ],
      "text/plain": [
       "                              Address\n",
       "0  mtQbvrrZd9kDLLNfJHaHHhu1t3jHx1c3Jh\n",
       "1  mrG7g5qttebyfWar9MjYex9aDsDdVFGFLg\n",
       "2  mwPdt1EndTm1C1CZyXNUjYmKACo5JTRonZ\n",
       "3  mssTb1GWSotwnq4UVxhKashVhZLo1zLqEC\n",
       "4  mr6fvKLjX2vsctMgirAMbSrYorPijUbpeK\n",
       "5  mn6ooSwPCwR4NpW6Ce8TKvy85zVM8tcY7j\n",
       "6  mnXM94JpsQjawV7b4m6WuZRj9dBijhamBg\n",
       "7  msFoXfhbwMKsVzNsj39hZeVhrmWBQJQ5iK\n",
       "8  mxVzrH4MSieXT4KbG53cQ4BmFw66kQuKnG\n",
       "9  mmSzVX7xnRBNTDq9ahJzZZCL3zfanUizaU"
      ]
     },
     "execution_count": 4,
     "metadata": {},
     "output_type": "execute_result"
    }
   ],
   "source": [
    "master_key = HDPrivateKey.master_key_from_mnemonic(phrase, 'btc')\n",
    "del phrase\n",
    "\n",
    "# to switch between test and main network, you need to change 'coin' in derivation path m/44'/{coin}'/0\n",
    "# for Main coin is 0\n",
    "# for Test coin is 1\n",
    "root_key = HDPrivateKey.from_path(master_key, \"m/44'/1'/0'\")\n",
    "\n",
    "private_keys = []\n",
    "addresses = []\n",
    "\n",
    "for i in range(10):\n",
    "    private_key = HDPrivateKey.from_path(root_key, '{change}/{index}'.format(change=0, index=i))\n",
    "    private_keys.append(private_key.to_hex())\n",
    "    public_key = private_key.public_key\n",
    "#     print(f'\\tPublic Key: {public_key.to_hex()}')\n",
    "#     print(f'\\tPrivate Key: {private_key.to_hex()}')\n",
    "    \n",
    "    # and here you need to change main_net parameter\n",
    "    addresses.append(public_key.address(main_net=False))\n",
    "\n",
    "    \n",
    "df = pd.DataFrame(addresses, columns = ['Address']) \n",
    "\n",
    "df"
   ]
  },
  {
   "cell_type": "markdown",
   "metadata": {},
   "source": [
    "## Balances"
   ]
  },
  {
   "cell_type": "code",
   "execution_count": 5,
   "metadata": {
    "scrolled": true
   },
   "outputs": [
    {
     "data": {
      "text/html": [
       "<div>\n",
       "<style scoped>\n",
       "    .dataframe tbody tr th:only-of-type {\n",
       "        vertical-align: middle;\n",
       "    }\n",
       "\n",
       "    .dataframe tbody tr th {\n",
       "        vertical-align: top;\n",
       "    }\n",
       "\n",
       "    .dataframe thead th {\n",
       "        text-align: right;\n",
       "    }\n",
       "</style>\n",
       "<table border=\"1\" class=\"dataframe\">\n",
       "  <thead>\n",
       "    <tr style=\"text-align: right;\">\n",
       "      <th></th>\n",
       "      <th>Address</th>\n",
       "      <th>Balance (confirmed)</th>\n",
       "      <th>Balance (unconfirmed)</th>\n",
       "    </tr>\n",
       "  </thead>\n",
       "  <tbody>\n",
       "    <tr>\n",
       "      <th>0</th>\n",
       "      <td>mtQbvrrZd9kDLLNfJHaHHhu1t3jHx1c3Jh</td>\n",
       "      <td>0.240516</td>\n",
       "      <td>0.0</td>\n",
       "    </tr>\n",
       "    <tr>\n",
       "      <th>1</th>\n",
       "      <td>mrG7g5qttebyfWar9MjYex9aDsDdVFGFLg</td>\n",
       "      <td>0.063419</td>\n",
       "      <td>0.0</td>\n",
       "    </tr>\n",
       "    <tr>\n",
       "      <th>2</th>\n",
       "      <td>mwPdt1EndTm1C1CZyXNUjYmKACo5JTRonZ</td>\n",
       "      <td>0.024571</td>\n",
       "      <td>0.0</td>\n",
       "    </tr>\n",
       "    <tr>\n",
       "      <th>3</th>\n",
       "      <td>mssTb1GWSotwnq4UVxhKashVhZLo1zLqEC</td>\n",
       "      <td>0.002687</td>\n",
       "      <td>0.0</td>\n",
       "    </tr>\n",
       "    <tr>\n",
       "      <th>4</th>\n",
       "      <td>mr6fvKLjX2vsctMgirAMbSrYorPijUbpeK</td>\n",
       "      <td>0.000616</td>\n",
       "      <td>0.0</td>\n",
       "    </tr>\n",
       "    <tr>\n",
       "      <th>5</th>\n",
       "      <td>mn6ooSwPCwR4NpW6Ce8TKvy85zVM8tcY7j</td>\n",
       "      <td>0.000995</td>\n",
       "      <td>0.0</td>\n",
       "    </tr>\n",
       "    <tr>\n",
       "      <th>6</th>\n",
       "      <td>mnXM94JpsQjawV7b4m6WuZRj9dBijhamBg</td>\n",
       "      <td>0.000395</td>\n",
       "      <td>0.0</td>\n",
       "    </tr>\n",
       "    <tr>\n",
       "      <th>7</th>\n",
       "      <td>msFoXfhbwMKsVzNsj39hZeVhrmWBQJQ5iK</td>\n",
       "      <td>0.000686</td>\n",
       "      <td>0.0</td>\n",
       "    </tr>\n",
       "    <tr>\n",
       "      <th>8</th>\n",
       "      <td>mxVzrH4MSieXT4KbG53cQ4BmFw66kQuKnG</td>\n",
       "      <td>0.001601</td>\n",
       "      <td>0.0</td>\n",
       "    </tr>\n",
       "    <tr>\n",
       "      <th>9</th>\n",
       "      <td>mmSzVX7xnRBNTDq9ahJzZZCL3zfanUizaU</td>\n",
       "      <td>0.000048</td>\n",
       "      <td>0.0</td>\n",
       "    </tr>\n",
       "  </tbody>\n",
       "</table>\n",
       "</div>"
      ],
      "text/plain": [
       "                              Address  Balance (confirmed)  \\\n",
       "0  mtQbvrrZd9kDLLNfJHaHHhu1t3jHx1c3Jh             0.240516   \n",
       "1  mrG7g5qttebyfWar9MjYex9aDsDdVFGFLg             0.063419   \n",
       "2  mwPdt1EndTm1C1CZyXNUjYmKACo5JTRonZ             0.024571   \n",
       "3  mssTb1GWSotwnq4UVxhKashVhZLo1zLqEC             0.002687   \n",
       "4  mr6fvKLjX2vsctMgirAMbSrYorPijUbpeK             0.000616   \n",
       "5  mn6ooSwPCwR4NpW6Ce8TKvy85zVM8tcY7j             0.000995   \n",
       "6  mnXM94JpsQjawV7b4m6WuZRj9dBijhamBg             0.000395   \n",
       "7  msFoXfhbwMKsVzNsj39hZeVhrmWBQJQ5iK             0.000686   \n",
       "8  mxVzrH4MSieXT4KbG53cQ4BmFw66kQuKnG             0.001601   \n",
       "9  mmSzVX7xnRBNTDq9ahJzZZCL3zfanUizaU             0.000048   \n",
       "\n",
       "   Balance (unconfirmed)  \n",
       "0                    0.0  \n",
       "1                    0.0  \n",
       "2                    0.0  \n",
       "3                    0.0  \n",
       "4                    0.0  \n",
       "5                    0.0  \n",
       "6                    0.0  \n",
       "7                    0.0  \n",
       "8                    0.0  \n",
       "9                    0.0  "
      ]
     },
     "execution_count": 5,
     "metadata": {},
     "output_type": "execute_result"
    }
   ],
   "source": [
    "decimals = 10 ** 8\n",
    "\n",
    "# here test net node on https://testgate.geniepay.io/v1/\n",
    "# and main net on https://gate.geniepay.io/v1/\n",
    "# url = 'https://gate.geniepay.io/v1/'\n",
    "url = 'https://testgate.geniepay.io/v1/'\n",
    "btc_gp = BitcoinGP(url, main_net = False)\n",
    "\n",
    "balances_confirmed = []\n",
    "\n",
    "balances_unconfirmed = []\n",
    "\n",
    "\n",
    "for address in addresses:\n",
    "    balance = btc_gp.get_balance(address)\n",
    "    balances_confirmed.append(balance['confirmed'] / decimals)\n",
    "    balances_unconfirmed.append(balance['unconfirmed'] / decimals)\n",
    "    \n",
    "\n",
    "df = pd.DataFrame(zip(addresses, balances_confirmed, balances_unconfirmed), columns = ['Address', 'Balance (confirmed)', 'Balance (unconfirmed)']) \n",
    "\n",
    "df"
   ]
  },
  {
   "cell_type": "code",
   "execution_count": 6,
   "metadata": {},
   "outputs": [],
   "source": [
    "@waiting_animation\n",
    "def wait_for_transaction(transaction_hash):\n",
    "    while True:\n",
    "        transaction = btc_gp.get_transaction(transaction_hash)\n",
    "        if transaction['height']:\n",
    "            return transaction\n",
    "        time.sleep(5)"
   ]
  },
  {
   "cell_type": "markdown",
   "metadata": {},
   "source": [
    "## Transaction"
   ]
  },
  {
   "cell_type": "code",
   "execution_count": 8,
   "metadata": {},
   "outputs": [
    {
     "name": "stdout",
     "output_type": "stream",
     "text": [
      "\n",
      "Transaction hash:\n",
      "91c52fd537598e161dc4cc7d77d27a7f7c7a6830468136d514d8255df53136b1\n",
      "\n",
      "Link to BlockCypher if testnet:\n",
      "https://live.blockcypher.com/btc-testnet/tx/91c52fd537598e161dc4cc7d77d27a7f7c7a6830468136d514d8255df53136b1\n"
     ]
    }
   ],
   "source": [
    "# https://testgate.geniepay.io  - testnet\n",
    "# https://gate.geniepay.io  - mainnet\n",
    "\n",
    "account_from = [addresses[0], private_keys[0]]\n",
    "account_to = [addresses[1], private_keys[1]]\n",
    "\n",
    "signed_transaction = btc_gp.build_transaction(private_key=account_from[1],\n",
    "                     address_from=account_from[0],\n",
    "                     address_to=account_to[0],\n",
    "                     amount=0.0001,\n",
    "                     fee=Fee.FAST)\n",
    "\n",
    "transaction_hash = btc_gp.send_transaction(signed_transaction)\n",
    "\n",
    "print('\\nTransaction hash:\\n' + transaction_hash)\n",
    "print('\\nLink to BlockCypher if testnet:\\n' + 'https://live.blockcypher.com/btc-testnet/tx/' + transaction_hash)\n",
    "# print('\\nLink to BlockCypher if mainnet:\\n' + 'https://live.blockcypher.com/btc/tx/' + transaction_hash)"
   ]
  },
  {
   "cell_type": "code",
   "execution_count": 9,
   "metadata": {},
   "outputs": [
    {
     "data": {
      "application/vnd.jupyter.widget-view+json": {
       "model_id": "3077e18bfd2645828ce6a7c3a8be681a",
       "version_major": 2,
       "version_minor": 0
      },
      "text/plain": [
       "Output()"
      ]
     },
     "metadata": {},
     "output_type": "display_data"
    },
    {
     "data": {
      "text/plain": [
       "{'hash': '91c52fd537598e161dc4cc7d77d27a7f7c7a6830468136d514d8255df53136b1',\n",
       " 'inputs': [{'address': 'mtQbvrrZd9kDLLNfJHaHHhu1t3jHx1c3Jh', 'value': 1},\n",
       "  {'address': 'mtQbvrrZd9kDLLNfJHaHHhu1t3jHx1c3Jh', 'value': 18417220}],\n",
       " 'outputs': [{'address': 'mrG7g5qttebyfWar9MjYex9aDsDdVFGFLg', 'value': 10000},\n",
       "  {'address': 'mtQbvrrZd9kDLLNfJHaHHhu1t3jHx1c3Jh', 'value': 18406581}],\n",
       " 'height': 1663267,\n",
       " 'received': '2020-01-21T18:35:30Z'}"
      ]
     },
     "execution_count": 9,
     "metadata": {},
     "output_type": "execute_result"
    }
   ],
   "source": [
    "wait_for_transaction(transaction_hash)"
   ]
  },
  {
   "cell_type": "markdown",
   "metadata": {},
   "source": [
    "## Spend all assets"
   ]
  },
  {
   "cell_type": "code",
   "execution_count": null,
   "metadata": {},
   "outputs": [],
   "source": [
    "account_from = [addresses[0], private_keys[0]]\n",
    "account_to = [addresses[1], private_keys[1]]\n",
    "\n",
    "signed_transaction_all_assets = btc_gp.build_transaction_all_assets_to_address(private_key=account_from[1],\n",
    "                     address_from=account_from[0],\n",
    "                     address_to=account_to[0],\n",
    "                     fee=Fee.FAST)\n",
    "\n",
    "transaction_all_assets_hash = btc_gp.send_transaction(signed_transaction_all_assets)\n",
    "\n",
    "print('\\nTransaction hash:\\n' + transaction_all_money_hash)\n",
    "# print('\\nLink to BlockCypher if testnet:\\n' + 'https://live.blockcypher.com/btc-testnet/tx/' + transaction_hash)\n",
    "print('\\nLink to BlockCypher if mainnet:\\n' + 'https://live.blockcypher.com/btc/tx/' + transaction_all_money_hash)"
   ]
  }
 ],
 "metadata": {
  "kernelspec": {
   "display_name": "my-virtualenv-name",
   "language": "python",
   "name": "my-virtualenv-name"
  },
  "language_info": {
   "codemirror_mode": {
    "name": "ipython",
    "version": 3
   },
   "file_extension": ".py",
   "mimetype": "text/x-python",
   "name": "python",
   "nbconvert_exporter": "python",
   "pygments_lexer": "ipython3",
   "version": "3.6.10"
  },
  "pycharm": {
   "stem_cell": {
    "cell_type": "raw",
    "metadata": {
     "collapsed": false
    },
    "source": []
   }
  }
 },
 "nbformat": 4,
 "nbformat_minor": 2
}
